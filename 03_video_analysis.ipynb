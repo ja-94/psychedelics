{
 "cells": [
  {
   "cell_type": "code",
   "execution_count": 3,
   "id": "e7585543-176f-4b64-91e3-5aa052c9aed3",
   "metadata": {},
   "outputs": [
    {
     "name": "stderr",
     "output_type": "stream",
     "text": [
      "/home/crombie/miniconda3/envs/iblenv/lib/python3.10/site-packages/one/alf/files.py:10: FutureWarning: `one.alf.files` will be removed in version 3.0. Use `one.alf.path` instead.\n",
      "  warnings.warn(\n"
     ]
    }
   ],
   "source": [
    "import numpy as np\n",
    "import pandas as pd\n",
    "from one.api import ONE\n",
    "\n",
    "from psyfun import io"
   ]
  },
  {
   "cell_type": "code",
   "execution_count": 2,
   "id": "a280d65f-1a61-4d17-8849-7d7c40245eb4",
   "metadata": {},
   "outputs": [
    {
     "name": "stdout",
     "output_type": "stream",
     "text": [
      "Downloading: /home/crombie/Downloads/ONE/alyx.internationalbrainlab.org/tmphgjeo6np/cache.zip Bytes: 139632859\n"
     ]
    },
    {
     "name": "stderr",
     "output_type": "stream",
     "text": [
      "100%|█████████████| 133.1642713546753/133.1642713546753 [00:25<00:00,  5.25it/s]\n"
     ]
    }
   ],
   "source": [
    "mode = 'auto'  # sets mode for all queries (one.seach* methods)\n",
    "one = ONE(mode=mode)"
   ]
  },
  {
   "cell_type": "code",
   "execution_count": 14,
   "id": "13986e7f-f42c-4d08-992d-bbf88c3571d2",
   "metadata": {},
   "outputs": [],
   "source": [
    "# Load recordings from previous query\n",
    "df_recordings = io.load_recordings()\n",
    "eids = df_recordings['eid'].unique()\n",
    "eid = eids[0]"
   ]
  },
  {
   "cell_type": "code",
   "execution_count": 28,
   "id": "f3a53886-4687-4ece-989d-bbe90be783c4",
   "metadata": {},
   "outputs": [
    {
     "data": {
      "text/plain": [
       "['alf/_ibl_bodyCamera.dlc.pqt',\n",
       " 'alf/_ibl_bodyCamera.times.npy',\n",
       " 'alf/_ibl_leftCamera.dlc.pqt',\n",
       " 'alf/_ibl_leftCamera.times.npy',\n",
       " 'alf/_ibl_rightCamera.dlc.pqt',\n",
       " 'alf/_ibl_rightCamera.times.npy',\n",
       " 'alf/bodyCamera.ROIMotionEnergy.npy',\n",
       " 'alf/leftCamera.ROIMotionEnergy.npy',\n",
       " 'alf/rightCamera.ROIMotionEnergy.npy',\n",
       " 'raw_video_data/_iblrig_bodyCamera.frameData.bin',\n",
       " 'raw_video_data/_iblrig_bodyCamera.raw.mp4',\n",
       " 'raw_video_data/_iblrig_leftCamera.frameData.bin',\n",
       " 'raw_video_data/_iblrig_leftCamera.raw.mp4',\n",
       " 'raw_video_data/_iblrig_rightCamera.frameData.bin',\n",
       " 'raw_video_data/_iblrig_rightCamera.raw.mp4']"
      ]
     },
     "execution_count": 28,
     "metadata": {},
     "output_type": "execute_result"
    }
   ],
   "source": [
    "# List video-related datasets\n",
    "[dataset for dataset in one.list_datasets(eid) if 'Camera' in dataset]"
   ]
  },
  {
   "cell_type": "code",
   "execution_count": 35,
   "id": "6095ed50-b003-42d0-aecf-78d947d19265",
   "metadata": {},
   "outputs": [
    {
     "name": "stderr",
     "output_type": "stream",
     "text": [
      "100%|█████████████████████████████████████████| 15/15.0 [00:08<00:00,  1.76it/s]\n"
     ]
    }
   ],
   "source": [
    "# Download raw video, return path\n",
    "fpath_video = one.load_dataset(eid, f'*leftCamera.raw*', collection='raw_video_data')"
   ]
  },
  {
   "cell_type": "code",
   "execution_count": 36,
   "id": "1d740622-2943-4690-9d92-90f299c43e8d",
   "metadata": {},
   "outputs": [
    {
     "data": {
      "text/plain": [
       "PosixPath('/home/crombie/Downloads/ONE/alyx.internationalbrainlab.org/mainenlab/Subjects/ZFM-06296/2023-07-13/001/raw_video_data/_iblrig_leftCamera.raw.mp4')"
      ]
     },
     "execution_count": 36,
     "metadata": {},
     "output_type": "execute_result"
    }
   ],
   "source": [
    "fpath_video"
   ]
  },
  {
   "cell_type": "code",
   "execution_count": 19,
   "id": "ba4c7226-c4cf-4f45-a42b-6c3be16637aa",
   "metadata": {},
   "outputs": [
    {
     "name": "stdout",
     "output_type": "stream",
     "text": [
      "(512, 640, 3)\n",
      "(10, 512, 640, 3)0\u001b[2K\n"
     ]
    }
   ],
   "source": [
    "# Use io.video to stream video data instead of dodwnloading full videos\n",
    "import ibllib.io.video as vidio\n",
    "label = 'body' # 'left', 'right' or 'body'\n",
    "\n",
    "# Find url of video data to stream\n",
    "url = vidio.url_from_eid(eid, one=one)[label]\n",
    "# Load video timestamps\n",
    "ts = one.load_dataset(eid, f'*{label}Camera.times*', collection='alf')\n",
    "# Find the frame closest to 1000s into data\n",
    "frame_n = np.searchsorted(ts, 1000)\n",
    "# Stream the data\n",
    "frame = vidio.get_video_frame(url, frame_n)\n",
    "print(frame.shape)\n",
    "\n",
    "# Load the first 10 video frames\n",
    "frames = vidio.get_video_frames_preload(url, range(10))\n",
    "print(frames.shape)"
   ]
  },
  {
   "cell_type": "code",
   "execution_count": 20,
   "id": "8d0e26f7-e523-45f6-8432-114726b0d1ea",
   "metadata": {},
   "outputs": [
    {
     "name": "stdout",
     "output_type": "stream",
     "text": [
      "The video length = 1682400\n",
      "The video fps = 30\n",
      "The video width = 640\n",
      "The video height = 512\n",
      "The video duration = 15:34:40\n",
      "The video size = 12179980136\n"
     ]
    }
   ],
   "source": [
    "# Get video metadata\n",
    "meta = vidio.get_video_meta(url, one=one)\n",
    "for k, v in meta.items():\n",
    "    print(f'The video {k} = {v}')"
   ]
  },
  {
   "cell_type": "code",
   "execution_count": null,
   "id": "b491bf8c-a3b0-421c-a038-cf234edd3238",
   "metadata": {},
   "outputs": [],
   "source": [
    "## TODO: None of this seems to work (can't find data files)\n",
    "# Use io.camera module to run video QC\n",
    "from ibllib.qc.camera import CameraQC\n",
    "label = 'left'\n",
    "\n",
    "# Run right camera QC, downloading all but video file\n",
    "qc = CameraQC(eid, camera=label, one=one)\n",
    "qc.load_data()\n",
    "# Run specific video QC check and display the plots\n",
    "qc.load_data(download_data=True)\n",
    "qc.check_position(display=True)  # NB: Not all checks make plots\n",
    "# qc.run()\n",
    "\n",
    "from ibllib.qc.camera import run_all_qc\n",
    "# Run the QC for all cameras\n",
    "qcs = run_all_qc(eid)"
   ]
  },
  {
   "cell_type": "code",
   "execution_count": 34,
   "id": "5c378b8b-6e96-4343-a13d-9d81f7b567b4",
   "metadata": {},
   "outputs": [
    {
     "name": "stdout",
     "output_type": "stream",
     "text": [
      "\u001b[36m2025-01-15 15:35:48 INFO     camera.py:399  Computing QC outcome for left camera, session d77dd225-f7a9-4d01-996b-82c3ae73d56c\u001b[0m\n",
      "\u001b[36m2025-01-15 15:35:48 INFO     camera.py:203  Gathering data for QC\u001b[0m\n",
      "\u001b[1;33m2025-01-15 15:35:48 WARNING  raw_data_loaders.py:97   No data loaded: could not find raw data file\u001b[0m\n",
      "\u001b[1;33m2025-01-15 15:35:48 WARNING  raw_data_loaders.py:97   No data loaded: could not find raw data file\u001b[0m\n"
     ]
    },
    {
     "ename": "TypeError",
     "evalue": "'NoneType' object is not iterable",
     "output_type": "error",
     "traceback": [
      "\u001b[0;31m---------------------------------------------------------------------------\u001b[0m",
      "\u001b[0;31mTypeError\u001b[0m                                 Traceback (most recent call last)",
      "Cell \u001b[0;32mIn[34], line 2\u001b[0m\n\u001b[1;32m      1\u001b[0m \u001b[38;5;66;03m# Run the QC for all cameras\u001b[39;00m\n\u001b[0;32m----> 2\u001b[0m qcs \u001b[38;5;241m=\u001b[39m \u001b[43mrun_all_qc\u001b[49m\u001b[43m(\u001b[49m\u001b[43meid\u001b[49m\u001b[43m)\u001b[49m\n\u001b[1;32m      3\u001b[0m qcs[\u001b[38;5;124m'\u001b[39m\u001b[38;5;124mleft\u001b[39m\u001b[38;5;124m'\u001b[39m]\u001b[38;5;241m.\u001b[39mmetrics  \u001b[38;5;66;03m# Dict of checks and outcomes for left camer\u001b[39;00m\n",
      "File \u001b[0;32m~/miniconda3/envs/iblenv/lib/python3.10/site-packages/ibllib/qc/camera.py:1223\u001b[0m, in \u001b[0;36mrun_all_qc\u001b[0;34m(session, cameras, **kwargs)\u001b[0m\n\u001b[1;32m   1221\u001b[0m \u001b[38;5;28;01mfor\u001b[39;00m camera \u001b[38;5;129;01min\u001b[39;00m cameras:\n\u001b[1;32m   1222\u001b[0m     qc[camera] \u001b[38;5;241m=\u001b[39m CamQC(session, camera, \u001b[38;5;241m*\u001b[39m\u001b[38;5;241m*\u001b[39mkwargs)\n\u001b[0;32m-> 1223\u001b[0m     \u001b[43mqc\u001b[49m\u001b[43m[\u001b[49m\u001b[43mcamera\u001b[49m\u001b[43m]\u001b[49m\u001b[38;5;241;43m.\u001b[39;49m\u001b[43mrun\u001b[49m\u001b[43m(\u001b[49m\u001b[38;5;241;43m*\u001b[39;49m\u001b[38;5;241;43m*\u001b[39;49m\u001b[43mrun_args\u001b[49m\u001b[43m)\u001b[49m\n\u001b[1;32m   1224\u001b[0m \u001b[38;5;28;01mreturn\u001b[39;00m qc\n",
      "File \u001b[0;32m~/miniconda3/envs/iblenv/lib/python3.10/site-packages/ibllib/qc/camera.py:402\u001b[0m, in \u001b[0;36mCameraQC.run\u001b[0;34m(self, update, **kwargs)\u001b[0m\n\u001b[1;32m    400\u001b[0m namespace \u001b[38;5;241m=\u001b[39m \u001b[38;5;124mf\u001b[39m\u001b[38;5;124m'\u001b[39m\u001b[38;5;124mvideo\u001b[39m\u001b[38;5;132;01m{\u001b[39;00m\u001b[38;5;28mself\u001b[39m\u001b[38;5;241m.\u001b[39mlabel\u001b[38;5;241m.\u001b[39mcapitalize()\u001b[38;5;132;01m}\u001b[39;00m\u001b[38;5;124m'\u001b[39m\n\u001b[1;32m    401\u001b[0m \u001b[38;5;28;01mif\u001b[39;00m \u001b[38;5;28mall\u001b[39m(x \u001b[38;5;129;01mis\u001b[39;00m \u001b[38;5;28;01mNone\u001b[39;00m \u001b[38;5;28;01mfor\u001b[39;00m x \u001b[38;5;129;01min\u001b[39;00m \u001b[38;5;28mself\u001b[39m\u001b[38;5;241m.\u001b[39mdata\u001b[38;5;241m.\u001b[39mvalues()):\n\u001b[0;32m--> 402\u001b[0m     \u001b[38;5;28;43mself\u001b[39;49m\u001b[38;5;241;43m.\u001b[39;49m\u001b[43mload_data\u001b[49m\u001b[43m(\u001b[49m\u001b[38;5;241;43m*\u001b[39;49m\u001b[38;5;241;43m*\u001b[39;49m\u001b[43mkwargs\u001b[49m\u001b[43m)\u001b[49m\n\u001b[1;32m    403\u001b[0m \u001b[38;5;28;01mif\u001b[39;00m \u001b[38;5;28mself\u001b[39m\u001b[38;5;241m.\u001b[39mdata[\u001b[38;5;124m'\u001b[39m\u001b[38;5;124mframe_samples\u001b[39m\u001b[38;5;124m'\u001b[39m] \u001b[38;5;129;01mis\u001b[39;00m \u001b[38;5;28;01mNone\u001b[39;00m \u001b[38;5;129;01mor\u001b[39;00m \u001b[38;5;28mself\u001b[39m\u001b[38;5;241m.\u001b[39mdata[\u001b[38;5;124m'\u001b[39m\u001b[38;5;124mtimestamps\u001b[39m\u001b[38;5;124m'\u001b[39m] \u001b[38;5;129;01mis\u001b[39;00m \u001b[38;5;28;01mNone\u001b[39;00m:\n\u001b[1;32m    404\u001b[0m     \u001b[38;5;28;01mreturn\u001b[39;00m spec\u001b[38;5;241m.\u001b[39mQC\u001b[38;5;241m.\u001b[39mNOT_SET, {}\n",
      "File \u001b[0;32m~/miniconda3/envs/iblenv/lib/python3.10/site-packages/ibllib/qc/camera.py:235\u001b[0m, in \u001b[0;36mCameraQC.load_data\u001b[0;34m(self, extract_times, load_video)\u001b[0m\n\u001b[1;32m    233\u001b[0m     \u001b[38;5;28mself\u001b[39m\u001b[38;5;241m.\u001b[39msync_collection \u001b[38;5;241m=\u001b[39m \u001b[38;5;28mself\u001b[39m\u001b[38;5;241m.\u001b[39msync_collection \u001b[38;5;129;01mor\u001b[39;00m task_collection\n\u001b[1;32m    234\u001b[0m     bpod_data \u001b[38;5;241m=\u001b[39m raw\u001b[38;5;241m.\u001b[39mload_data(\u001b[38;5;28mself\u001b[39m\u001b[38;5;241m.\u001b[39msession_path, task_collection)\n\u001b[0;32m--> 235\u001b[0m     _, audio_ttls \u001b[38;5;241m=\u001b[39m \u001b[43mraw\u001b[49m\u001b[38;5;241;43m.\u001b[39;49m\u001b[43mload_bpod_fronts\u001b[49m\u001b[43m(\u001b[49m\n\u001b[1;32m    236\u001b[0m \u001b[43m        \u001b[49m\u001b[38;5;28;43mself\u001b[39;49m\u001b[38;5;241;43m.\u001b[39;49m\u001b[43msession_path\u001b[49m\u001b[43m,\u001b[49m\u001b[43m \u001b[49m\u001b[43mdata\u001b[49m\u001b[38;5;241;43m=\u001b[39;49m\u001b[43mbpod_data\u001b[49m\u001b[43m,\u001b[49m\u001b[43m \u001b[49m\u001b[43mtask_collection\u001b[49m\u001b[38;5;241;43m=\u001b[39;49m\u001b[43mtask_collection\u001b[49m\u001b[43m)\u001b[49m\n\u001b[1;32m    237\u001b[0m     \u001b[38;5;28mself\u001b[39m\u001b[38;5;241m.\u001b[39mdata[\u001b[38;5;124m'\u001b[39m\u001b[38;5;124maudio\u001b[39m\u001b[38;5;124m'\u001b[39m] \u001b[38;5;241m=\u001b[39m audio_ttls[\u001b[38;5;124m'\u001b[39m\u001b[38;5;124mtimes\u001b[39m\u001b[38;5;124m'\u001b[39m]\n\u001b[1;32m    239\u001b[0m \u001b[38;5;66;03m# Load extracted frame times\u001b[39;00m\n",
      "File \u001b[0;32m~/miniconda3/envs/iblenv/lib/python3.10/site-packages/ibllib/io/raw_data_loaders.py:799\u001b[0m, in \u001b[0;36mload_bpod_fronts\u001b[0;34m(session_path, data, task_collection)\u001b[0m\n\u001b[1;32m    797\u001b[0m BNC1_fronts \u001b[38;5;241m=\u001b[39m np\u001b[38;5;241m.\u001b[39marray([[np\u001b[38;5;241m.\u001b[39mnan, np\u001b[38;5;241m.\u001b[39mnan]])\n\u001b[1;32m    798\u001b[0m BNC2_fronts \u001b[38;5;241m=\u001b[39m np\u001b[38;5;241m.\u001b[39marray([[np\u001b[38;5;241m.\u001b[39mnan, np\u001b[38;5;241m.\u001b[39mnan]])\n\u001b[0;32m--> 799\u001b[0m \u001b[38;5;28;01mfor\u001b[39;00m tr \u001b[38;5;129;01min\u001b[39;00m data:\n\u001b[1;32m    800\u001b[0m     BNC1_fronts \u001b[38;5;241m=\u001b[39m np\u001b[38;5;241m.\u001b[39mappend(\n\u001b[1;32m    801\u001b[0m         BNC1_fronts,\n\u001b[1;32m    802\u001b[0m         np\u001b[38;5;241m.\u001b[39marray(\n\u001b[0;32m   (...)\u001b[0m\n\u001b[1;32m    808\u001b[0m         axis\u001b[38;5;241m=\u001b[39m\u001b[38;5;241m0\u001b[39m,\n\u001b[1;32m    809\u001b[0m     )\n\u001b[1;32m    810\u001b[0m     BNC1_fronts \u001b[38;5;241m=\u001b[39m np\u001b[38;5;241m.\u001b[39mappend(\n\u001b[1;32m    811\u001b[0m         BNC1_fronts,\n\u001b[1;32m    812\u001b[0m         np\u001b[38;5;241m.\u001b[39marray(\n\u001b[0;32m   (...)\u001b[0m\n\u001b[1;32m    818\u001b[0m         axis\u001b[38;5;241m=\u001b[39m\u001b[38;5;241m0\u001b[39m,\n\u001b[1;32m    819\u001b[0m     )\n",
      "\u001b[0;31mTypeError\u001b[0m: 'NoneType' object is not iterable"
     ]
    },
    {
     "name": "stdout",
     "output_type": "stream",
     "text": [
      "> \u001b[0;32m/home/crombie/miniconda3/envs/iblenv/lib/python3.10/site-packages/ibllib/io/raw_data_loaders.py\u001b[0m(799)\u001b[0;36mload_bpod_fronts\u001b[0;34m()\u001b[0m\n",
      "\u001b[0;32m    797 \u001b[0;31m    \u001b[0mBNC1_fronts\u001b[0m \u001b[0;34m=\u001b[0m \u001b[0mnp\u001b[0m\u001b[0;34m.\u001b[0m\u001b[0marray\u001b[0m\u001b[0;34m(\u001b[0m\u001b[0;34m[\u001b[0m\u001b[0;34m[\u001b[0m\u001b[0mnp\u001b[0m\u001b[0;34m.\u001b[0m\u001b[0mnan\u001b[0m\u001b[0;34m,\u001b[0m \u001b[0mnp\u001b[0m\u001b[0;34m.\u001b[0m\u001b[0mnan\u001b[0m\u001b[0;34m]\u001b[0m\u001b[0;34m]\u001b[0m\u001b[0;34m)\u001b[0m\u001b[0;34m\u001b[0m\u001b[0;34m\u001b[0m\u001b[0m\n",
      "\u001b[0m\u001b[0;32m    798 \u001b[0;31m    \u001b[0mBNC2_fronts\u001b[0m \u001b[0;34m=\u001b[0m \u001b[0mnp\u001b[0m\u001b[0;34m.\u001b[0m\u001b[0marray\u001b[0m\u001b[0;34m(\u001b[0m\u001b[0;34m[\u001b[0m\u001b[0;34m[\u001b[0m\u001b[0mnp\u001b[0m\u001b[0;34m.\u001b[0m\u001b[0mnan\u001b[0m\u001b[0;34m,\u001b[0m \u001b[0mnp\u001b[0m\u001b[0;34m.\u001b[0m\u001b[0mnan\u001b[0m\u001b[0;34m]\u001b[0m\u001b[0;34m]\u001b[0m\u001b[0;34m)\u001b[0m\u001b[0;34m\u001b[0m\u001b[0;34m\u001b[0m\u001b[0m\n",
      "\u001b[0m\u001b[0;32m--> 799 \u001b[0;31m    \u001b[0;32mfor\u001b[0m \u001b[0mtr\u001b[0m \u001b[0;32min\u001b[0m \u001b[0mdata\u001b[0m\u001b[0;34m:\u001b[0m\u001b[0;34m\u001b[0m\u001b[0;34m\u001b[0m\u001b[0m\n",
      "\u001b[0m\u001b[0;32m    800 \u001b[0;31m        BNC1_fronts = np.append(\n",
      "\u001b[0m\u001b[0;32m    801 \u001b[0;31m            \u001b[0mBNC1_fronts\u001b[0m\u001b[0;34m,\u001b[0m\u001b[0;34m\u001b[0m\u001b[0;34m\u001b[0m\u001b[0m\n",
      "\u001b[0m\n"
     ]
    },
    {
     "name": "stdin",
     "output_type": "stream",
     "text": [
      "ipdb>  c\n"
     ]
    }
   ],
   "source": []
  },
  {
   "cell_type": "code",
   "execution_count": 33,
   "id": "19a1b1c8-da97-410b-9ed0-e28f6222f4ae",
   "metadata": {},
   "outputs": [],
   "source": []
  }
 ],
 "metadata": {
  "kernelspec": {
   "display_name": "Python 3 (ipykernel)",
   "language": "python",
   "name": "python3"
  },
  "language_info": {
   "codemirror_mode": {
    "name": "ipython",
    "version": 3
   },
   "file_extension": ".py",
   "mimetype": "text/x-python",
   "name": "python",
   "nbconvert_exporter": "python",
   "pygments_lexer": "ipython3",
   "version": "3.10.14"
  }
 },
 "nbformat": 4,
 "nbformat_minor": 5
}
