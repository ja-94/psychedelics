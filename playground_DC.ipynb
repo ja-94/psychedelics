{
 "cells": [
  {
   "cell_type": "code",
   "execution_count": 1,
   "id": "9b2dc544-d877-4de8-95f6-6347f0dfb554",
   "metadata": {},
   "outputs": [
    {
     "name": "stdout",
     "output_type": "stream",
     "text": [
      "\u001b[1;33m2024-11-11 12:39:28 WARNING  camera.py:67   labcams not installed\u001b[0m\n"
     ]
    }
   ],
   "source": [
    "from pprint import pprint\n",
    "import numpy as np\n",
    "\n",
    "from one.api import ONE\n",
    "from brainbox.io.one import SessionLoader, EphysSessionLoader\n",
    "from ibllib.qc.camera import CameraQC\n",
    "from iblatlas.atlas import AllenAtlas"
   ]
  },
  {
   "cell_type": "code",
   "execution_count": 2,
   "id": "08d161a9-f4c2-4614-9ea1-80915cb55d8b",
   "metadata": {},
   "outputs": [],
   "source": [
    "mode = 'local'  # sets mode for all queries (one.seach* methods)\n",
    "one = ONE(mode=mode)"
   ]
  },
  {
   "cell_type": "code",
   "execution_count": 15,
   "id": "c23afa63-0507-4427-9295-5022e0054393",
   "metadata": {},
   "outputs": [],
   "source": [
    "# Note: remote queries *sometimes* need full dataset name?\n",
    "# Note: dataset kwarg can be list, but only for local queries\n",
    "# eids = one.search(project=['psychedelics'], datasets=['spikes.times.npy', '_iblrig_leftCamera.raw.mp4'], query_type='remote')\n",
    "# print(len(eids))"
   ]
  },
  {
   "cell_type": "code",
   "execution_count": 3,
   "id": "a6834b96-f817-4c70-9c33-f3de69d164a7",
   "metadata": {},
   "outputs": [
    {
     "name": "stdout",
     "output_type": "stream",
     "text": [
      "Psychedelics sessions: 74\n"
     ]
    }
   ],
   "source": [
    "eids_all = one.search(project='psychedelics')\n",
    "print(f'Psychedelics sessions: {len(eids_all)}')"
   ]
  },
  {
   "cell_type": "code",
   "execution_count": 4,
   "id": "c7fd7eb9-bae4-4624-8b77-f322472d59de",
   "metadata": {},
   "outputs": [
    {
     "name": "stdout",
     "output_type": "stream",
     "text": [
      "Psychedelics sessions with video: 59\n"
     ]
    }
   ],
   "source": [
    "eids_vid = one.search(project='psychedelics', dataset=['Camera'])\n",
    "print(f'Psychedelics sessions with video: {len(eids_vid)}')"
   ]
  },
  {
   "cell_type": "code",
   "execution_count": 5,
   "id": "92622c6d-db99-4ebe-bec5-4e129e0020c3",
   "metadata": {},
   "outputs": [
    {
     "name": "stdout",
     "output_type": "stream",
     "text": [
      "Psychedelics sessions with ephys: 29\n"
     ]
    }
   ],
   "source": [
    "eids_ephys = one.search(project='psychedelics', dataset=['ephys'])\n",
    "print(f'Psychedelics sessions with ephys: {len(eids_ephys)}')"
   ]
  },
  {
   "cell_type": "code",
   "execution_count": 6,
   "id": "973c0262-8bed-457d-81c4-464374b03a72",
   "metadata": {},
   "outputs": [
    {
     "name": "stdout",
     "output_type": "stream",
     "text": [
      "Psychedelics sessions with spike sorting: 28\n"
     ]
    }
   ],
   "source": [
    "eids_spikes = one.search(project='psychedelics', dataset=['spikes'])\n",
    "print(f'Psychedelics sessions with spike sorting: {len(eids_spikes)}')"
   ]
  },
  {
   "cell_type": "code",
   "execution_count": 7,
   "id": "52eec9a1-306c-469e-9231-0985356c8d1c",
   "metadata": {},
   "outputs": [
    {
     "name": "stdout",
     "output_type": "stream",
     "text": [
      "Psychedelics probes with spike sorting: 48\n"
     ]
    }
   ],
   "source": [
    "# Note: NotImplementedError: Searching on insertions required remote connection\n",
    "pids_spikes = one.search_insertions(project='psychedelics', dataset='spikes', query_type='remote')\n",
    "print(f'Psychedelics probes with spike sorting: {len(pids_spikes)}')"
   ]
  },
  {
   "cell_type": "code",
   "execution_count": 8,
   "id": "a0daa67f-5d96-41e9-a93d-26879f815a3c",
   "metadata": {},
   "outputs": [
    {
     "name": "stdout",
     "output_type": "stream",
     "text": [
      "Psychedelics sessions with spike sorting & video: 28\n"
     ]
    }
   ],
   "source": [
    "eids = one.search(project='psychedelics', dataset=['spikes', 'Camera'], query_type='local')\n",
    "print(f'Psychedelics sessions with spike sorting & video: {len(eids)}')"
   ]
  },
  {
   "cell_type": "code",
   "execution_count": 9,
   "id": "aba408d3-db14-4473-aff5-0e2c13085866",
   "metadata": {},
   "outputs": [
    {
     "name": "stdout",
     "output_type": "stream",
     "text": [
      "All datasets for session: d77dd225-f7a9-4d01-996b-82c3ae73d56c\n",
      "['_ibl_experiment.description.yaml',\n",
      " 'alf/_ibl_bodyCamera.dlc.pqt',\n",
      " 'alf/_ibl_bodyCamera.times.npy',\n",
      " 'alf/_ibl_leftCamera.dlc.pqt',\n",
      " 'alf/_ibl_leftCamera.times.npy',\n",
      " 'alf/_ibl_rightCamera.dlc.pqt',\n",
      " 'alf/_ibl_rightCamera.times.npy',\n",
      " 'alf/bodyCamera.ROIMotionEnergy.npy',\n",
      " 'alf/bodyROIMotionEnergy.position.npy',\n",
      " 'alf/leftCamera.ROIMotionEnergy.npy',\n",
      " 'alf/leftROIMotionEnergy.position.npy',\n",
      " 'alf/probe00/electrodeSites.brainLocationIds_ccf_2017.npy',\n",
      " 'alf/probe00/electrodeSites.localCoordinates.npy',\n",
      " 'alf/probe00/electrodeSites.mlapdv.npy',\n",
      " 'alf/probe00/pykilosort/_ibl_log.info_pykilosort.log',\n",
      " 'alf/probe00/pykilosort/_kilosort_whitening.matrix.npy',\n",
      " 'alf/probe00/pykilosort/_phy_spikes_subset.channels.npy',\n",
      " 'alf/probe00/pykilosort/_phy_spikes_subset.spikes.npy',\n",
      " 'alf/probe00/pykilosort/_phy_spikes_subset.waveforms.npy',\n",
      " 'alf/probe00/pykilosort/channels.brainLocationIds_ccf_2017.npy',\n",
      " 'alf/probe00/pykilosort/channels.localCoordinates.npy',\n",
      " 'alf/probe00/pykilosort/channels.mlapdv.npy',\n",
      " 'alf/probe00/pykilosort/channels.rawInd.npy',\n",
      " 'alf/probe00/pykilosort/clusters.amps.npy',\n",
      " 'alf/probe00/pykilosort/clusters.channels.npy',\n",
      " 'alf/probe00/pykilosort/clusters.depths.npy',\n",
      " 'alf/probe00/pykilosort/clusters.metrics.pqt',\n",
      " 'alf/probe00/pykilosort/clusters.peakToTrough.npy',\n",
      " 'alf/probe00/pykilosort/clusters.uuids.csv',\n",
      " 'alf/probe00/pykilosort/clusters.waveforms.npy',\n",
      " 'alf/probe00/pykilosort/clusters.waveformsChannels.npy',\n",
      " 'alf/probe00/pykilosort/drift.times.npy',\n",
      " 'alf/probe00/pykilosort/drift.um.npy',\n",
      " 'alf/probe00/pykilosort/drift_depths.um.npy',\n",
      " 'alf/probe00/pykilosort/spikes.amps.npy',\n",
      " 'alf/probe00/pykilosort/spikes.clusters.npy',\n",
      " 'alf/probe00/pykilosort/spikes.depths.npy',\n",
      " 'alf/probe00/pykilosort/spikes.samples.npy',\n",
      " 'alf/probe00/pykilosort/spikes.templates.npy',\n",
      " 'alf/probe00/pykilosort/spikes.times.npy',\n",
      " 'alf/probe00/pykilosort/templates.amps.npy',\n",
      " 'alf/probe00/pykilosort/templates.waveforms.npy',\n",
      " 'alf/probe00/pykilosort/templates.waveformsChannels.npy',\n",
      " 'alf/probes.description.json',\n",
      " 'alf/rightCamera.ROIMotionEnergy.npy',\n",
      " 'alf/rightROIMotionEnergy.position.npy',\n",
      " 'alf/task_00/_ibl_passiveGabor.table.csv',\n",
      " 'alf/task_00/_ibl_passivePeriods.intervalsTable.csv',\n",
      " 'alf/task_00/_ibl_passiveRFM.times.npy',\n",
      " 'alf/task_00/_ibl_passiveStims.table.csv',\n",
      " 'alf/task_01/_ibl_passiveGabor.table.csv',\n",
      " 'alf/task_01/_ibl_passivePeriods.intervalsTable.csv',\n",
      " 'alf/task_01/_ibl_passiveRFM.times.npy',\n",
      " 'alf/task_01/_ibl_passiveStims.table.csv',\n",
      " 'raw_ephys_data/_spikeglx_ephysData_g0_t0.nidq.cbin',\n",
      " 'raw_ephys_data/_spikeglx_ephysData_g0_t0.nidq.ch',\n",
      " 'raw_ephys_data/_spikeglx_ephysData_g0_t0.nidq.meta',\n",
      " 'raw_ephys_data/_spikeglx_ephysData_g0_t0.nidq.wiring.json',\n",
      " 'raw_ephys_data/_spikeglx_sync.channels.npy',\n",
      " 'raw_ephys_data/_spikeglx_sync.polarities.npy',\n",
      " 'raw_ephys_data/_spikeglx_sync.times.npy',\n",
      " 'raw_ephys_data/probe00/_iblqc_ephysChannels.apRMS.npy',\n",
      " 'raw_ephys_data/probe00/_iblqc_ephysChannels.labels.npy',\n",
      " 'raw_ephys_data/probe00/_iblqc_ephysChannels.rawSpikeRates.npy',\n",
      " 'raw_ephys_data/probe00/_iblqc_ephysSpectralDensityAP.freqs.npy',\n",
      " 'raw_ephys_data/probe00/_iblqc_ephysSpectralDensityAP.power.npy',\n",
      " 'raw_ephys_data/probe00/_iblqc_ephysSpectralDensityLF.freqs.npy',\n",
      " 'raw_ephys_data/probe00/_iblqc_ephysSpectralDensityLF.power.npy',\n",
      " 'raw_ephys_data/probe00/_iblqc_ephysTimeRmsLF.rms.npy',\n",
      " 'raw_ephys_data/probe00/_iblqc_ephysTimeRmsLF.timestamps.npy',\n",
      " 'raw_ephys_data/probe00/_spikeglx_ephysData_g0_t0.imec0.ap.cbin',\n",
      " 'raw_ephys_data/probe00/_spikeglx_ephysData_g0_t0.imec0.ap.ch',\n",
      " 'raw_ephys_data/probe00/_spikeglx_ephysData_g0_t0.imec0.ap.meta',\n",
      " 'raw_ephys_data/probe00/_spikeglx_ephysData_g0_t0.imec0.lf.cbin',\n",
      " 'raw_ephys_data/probe00/_spikeglx_ephysData_g0_t0.imec0.lf.ch',\n",
      " 'raw_ephys_data/probe00/_spikeglx_ephysData_g0_t0.imec0.lf.meta',\n",
      " 'raw_ephys_data/probe00/_spikeglx_ephysData_g0_t0.imec0.sync.npy',\n",
      " 'raw_ephys_data/probe00/_spikeglx_ephysData_g0_t0.imec0.timestamps.npy',\n",
      " 'raw_ephys_data/probe00/_spikeglx_ephysData_g0_t0.imec0.wiring.json',\n",
      " 'raw_ephys_data/probe00/_spikeglx_sync.channels.probe00.npy',\n",
      " 'raw_ephys_data/probe00/_spikeglx_sync.polarities.probe00.npy',\n",
      " 'raw_ephys_data/probe00/_spikeglx_sync.times.probe00.npy',\n",
      " 'raw_task_data_00/_iblrig_RFMapStim.raw.bin',\n",
      " 'raw_task_data_00/_iblrig_encoderEvents.raw.ssv',\n",
      " 'raw_task_data_00/_iblrig_encoderPositions.raw.ssv',\n",
      " 'raw_task_data_00/_iblrig_encoderTrialInfo.raw.ssv',\n",
      " 'raw_task_data_00/_iblrig_stimPositionScreen.raw.csv',\n",
      " 'raw_task_data_00/_iblrig_syncSquareUpdate.raw.csv',\n",
      " 'raw_task_data_00/_iblrig_taskSettings.raw.json',\n",
      " 'raw_task_data_01/_iblrig_RFMapStim.raw.bin',\n",
      " 'raw_task_data_01/_iblrig_encoderEvents.raw.ssv',\n",
      " 'raw_task_data_01/_iblrig_encoderPositions.raw.ssv',\n",
      " 'raw_task_data_01/_iblrig_encoderTrialInfo.raw.ssv',\n",
      " 'raw_task_data_01/_iblrig_stimPositionScreen.raw.csv',\n",
      " 'raw_task_data_01/_iblrig_syncSquareUpdate.raw.csv',\n",
      " 'raw_task_data_01/_iblrig_taskSettings.raw.json',\n",
      " 'raw_video_data/_iblrig_bodyCamera.frameData.bin',\n",
      " 'raw_video_data/_iblrig_bodyCamera.raw.mp4',\n",
      " 'raw_video_data/_iblrig_leftCamera.frameData.bin',\n",
      " 'raw_video_data/_iblrig_leftCamera.raw.mp4',\n",
      " 'raw_video_data/_iblrig_rightCamera.frameData.bin',\n",
      " 'raw_video_data/_iblrig_rightCamera.raw.mp4',\n",
      " 'spike_sorters/pykilosort/probe00/_kilosort_raw.output.tar']\n"
     ]
    }
   ],
   "source": [
    "eid = eids[0]\n",
    "print(f'All datasets for session: {eid}')\n",
    "pprint(one.list_datasets(eid))"
   ]
  },
  {
   "cell_type": "code",
   "execution_count": 10,
   "id": "fdf759ff-01f7-4381-9065-06fc4e44c349",
   "metadata": {},
   "outputs": [],
   "source": [
    "def sessions_with_datasets(eids, datasets):\n",
    "    eids_with_datasets = {}\n",
    "    print('Proportion of sessions with')\n",
    "    for name, dataset in datasets.items():\n",
    "        has_dataset = [dataset in one.list_datasets(eid) for eid in eids]\n",
    "        n = np.array(has_dataset).sum()\n",
    "        prop = np.array(has_dataset).mean()\n",
    "        print(f'    {name}: {prop:.2f} ({n}/{len(eids)})')\n",
    "        eids_with_datasets[name] = np.array(eids)[has_dataset]\n",
    "    return eids_with_datasets"
   ]
  },
  {
   "cell_type": "code",
   "execution_count": 16,
   "id": "13bffbf2-70cd-4e8f-b902-7e9108098fe6",
   "metadata": {},
   "outputs": [
    {
     "name": "stdout",
     "output_type": "stream",
     "text": [
      "Proportion of sessions with\n",
      "    left_camera: 1.00 (28/28)\n",
      "    right_camera: 1.00 (28/28)\n",
      "    body_camera: 1.00 (28/28)\n"
     ]
    }
   ],
   "source": [
    "one.mode = 'local'\n",
    "datasets  = {\n",
    "    'left_camera':  'raw_video_data/_iblrig_leftCamera.raw.mp4',\n",
    "    'right_camera': 'raw_video_data/_iblrig_rightCamera.raw.mp4',\n",
    "    'body_camera':  'raw_video_data/_iblrig_bodyCamera.raw.mp4'\n",
    "}\n",
    "eids_vid = sessions_with_datasets(eids, datasets)"
   ]
  },
  {
   "cell_type": "code",
   "execution_count": 17,
   "id": "80343b31-688c-4f74-a970-b8901eb1339e",
   "metadata": {},
   "outputs": [
    {
     "name": "stdout",
     "output_type": "stream",
     "text": [
      "Proportion of sessions with\n",
      "    left_ME: 0.96 (27/28)\n",
      "    right_ME: 0.96 (27/28)\n",
      "    body_ME: 0.96 (27/28)\n"
     ]
    }
   ],
   "source": [
    "datasets  = {\n",
    "    'left_ME':  'alf/leftCamera.ROIMotionEnergy.npy',\n",
    "    'right_ME': 'alf/rightCamera.ROIMotionEnergy.npy',\n",
    "    'body_ME':  'alf/bodyCamera.ROIMotionEnergy.npy'\n",
    "}\n",
    "eids_ME = sessions_with_datasets(eids, datasets)"
   ]
  },
  {
   "cell_type": "code",
   "execution_count": 18,
   "id": "7cc05c7a-6d0d-4b46-9add-fb5159e8f7a9",
   "metadata": {},
   "outputs": [
    {
     "name": "stdout",
     "output_type": "stream",
     "text": [
      "Proportion of sessions with\n",
      "    left_DLC: 0.96 (27/28)\n",
      "    right_DLC: 0.96 (27/28)\n",
      "    body_DLC: 0.96 (27/28)\n"
     ]
    }
   ],
   "source": [
    "datasets  = {\n",
    "    'left_DLC':  'alf/_ibl_leftCamera.dlc.pqt',\n",
    "    'right_DLC': 'alf/_ibl_rightCamera.dlc.pqt',\n",
    "    'body_DLC':  'alf/_ibl_bodyCamera.dlc.pqt'\n",
    "}\n",
    "eids_DLC = sessions_with_datasets(eids, datasets)"
   ]
  },
  {
   "cell_type": "code",
   "execution_count": 23,
   "id": "a5727f57-e594-4c9a-a5a9-080db76f528f",
   "metadata": {},
   "outputs": [
    {
     "data": {
      "text/plain": [
       "{'subject': 'ZFM-06048', 'date': datetime.date(2023, 5, 17), 'sequence': 1}"
      ]
     },
     "execution_count": 23,
     "metadata": {},
     "output_type": "execute_result"
    }
   ],
   "source": [
    "eid_missing_data = np.setdiff1d(eids_vid['left_camera'], eids_ME['left_ME'])[0]\n",
    "print('Session with missing \n",
    "one.eid2ref(eid_vid_missing)"
   ]
  },
  {
   "cell_type": "code",
   "execution_count": 14,
   "id": "322ee905-bc7b-49db-9a49-92bdabc731fd",
   "metadata": {},
   "outputs": [
    {
     "name": "stdout",
     "output_type": "stream",
     "text": [
      "\u001b[36m2024-11-11 12:40:32 INFO     camera.py:399  Computing QC outcome for left camera, session d77dd225-f7a9-4d01-996b-82c3ae73d56c\u001b[0m\n",
      "\u001b[36m2024-11-11 12:40:32 INFO     camera.py:203  Gathering data for QC\u001b[0m\n",
      "\u001b[1;33m2024-11-11 12:40:32 WARNING  raw_data_loaders.py:97   No data loaded: could not find raw data file\u001b[0m\n",
      "\u001b[1;33m2024-11-11 12:40:32 WARNING  raw_data_loaders.py:97   No data loaded: could not find raw data file\u001b[0m\n"
     ]
    },
    {
     "ename": "TypeError",
     "evalue": "'NoneType' object is not iterable",
     "output_type": "error",
     "traceback": [
      "\u001b[0;31m---------------------------------------------------------------------------\u001b[0m",
      "\u001b[0;31mTypeError\u001b[0m                                 Traceback (most recent call last)",
      "Cell \u001b[0;32mIn[14], line 2\u001b[0m\n\u001b[1;32m      1\u001b[0m qc \u001b[38;5;241m=\u001b[39m CameraQC(one\u001b[38;5;241m.\u001b[39meid2path(eids[\u001b[38;5;241m0\u001b[39m]), \u001b[38;5;124m'\u001b[39m\u001b[38;5;124mleft\u001b[39m\u001b[38;5;124m'\u001b[39m, one\u001b[38;5;241m=\u001b[39mone)\n\u001b[0;32m----> 2\u001b[0m outcome, extended \u001b[38;5;241m=\u001b[39m \u001b[43mqc\u001b[49m\u001b[38;5;241;43m.\u001b[39;49m\u001b[43mrun\u001b[49m\u001b[43m(\u001b[49m\u001b[43m)\u001b[49m\n\u001b[1;32m      3\u001b[0m \u001b[38;5;28mprint\u001b[39m(\u001b[38;5;124mf\u001b[39m\u001b[38;5;124m'\u001b[39m\u001b[38;5;124mvideo QC = \u001b[39m\u001b[38;5;132;01m{\u001b[39;00moutcome\u001b[38;5;132;01m}\u001b[39;00m\u001b[38;5;124m'\u001b[39m)\n\u001b[1;32m      4\u001b[0m extended\n",
      "File \u001b[0;32m~/code/ibllib/ibllib/qc/camera.py:402\u001b[0m, in \u001b[0;36mCameraQC.run\u001b[0;34m(self, update, **kwargs)\u001b[0m\n\u001b[1;32m    400\u001b[0m namespace \u001b[38;5;241m=\u001b[39m \u001b[38;5;124mf\u001b[39m\u001b[38;5;124m'\u001b[39m\u001b[38;5;124mvideo\u001b[39m\u001b[38;5;132;01m{\u001b[39;00m\u001b[38;5;28mself\u001b[39m\u001b[38;5;241m.\u001b[39mlabel\u001b[38;5;241m.\u001b[39mcapitalize()\u001b[38;5;132;01m}\u001b[39;00m\u001b[38;5;124m'\u001b[39m\n\u001b[1;32m    401\u001b[0m \u001b[38;5;28;01mif\u001b[39;00m \u001b[38;5;28mall\u001b[39m(x \u001b[38;5;129;01mis\u001b[39;00m \u001b[38;5;28;01mNone\u001b[39;00m \u001b[38;5;28;01mfor\u001b[39;00m x \u001b[38;5;129;01min\u001b[39;00m \u001b[38;5;28mself\u001b[39m\u001b[38;5;241m.\u001b[39mdata\u001b[38;5;241m.\u001b[39mvalues()):\n\u001b[0;32m--> 402\u001b[0m     \u001b[38;5;28;43mself\u001b[39;49m\u001b[38;5;241;43m.\u001b[39;49m\u001b[43mload_data\u001b[49m\u001b[43m(\u001b[49m\u001b[38;5;241;43m*\u001b[39;49m\u001b[38;5;241;43m*\u001b[39;49m\u001b[43mkwargs\u001b[49m\u001b[43m)\u001b[49m\n\u001b[1;32m    403\u001b[0m \u001b[38;5;28;01mif\u001b[39;00m \u001b[38;5;28mself\u001b[39m\u001b[38;5;241m.\u001b[39mdata[\u001b[38;5;124m'\u001b[39m\u001b[38;5;124mframe_samples\u001b[39m\u001b[38;5;124m'\u001b[39m] \u001b[38;5;129;01mis\u001b[39;00m \u001b[38;5;28;01mNone\u001b[39;00m \u001b[38;5;129;01mor\u001b[39;00m \u001b[38;5;28mself\u001b[39m\u001b[38;5;241m.\u001b[39mdata[\u001b[38;5;124m'\u001b[39m\u001b[38;5;124mtimestamps\u001b[39m\u001b[38;5;124m'\u001b[39m] \u001b[38;5;129;01mis\u001b[39;00m \u001b[38;5;28;01mNone\u001b[39;00m:\n\u001b[1;32m    404\u001b[0m     \u001b[38;5;28;01mreturn\u001b[39;00m spec\u001b[38;5;241m.\u001b[39mQC\u001b[38;5;241m.\u001b[39mNOT_SET, {}\n",
      "File \u001b[0;32m~/code/ibllib/ibllib/qc/camera.py:235\u001b[0m, in \u001b[0;36mCameraQC.load_data\u001b[0;34m(self, extract_times, load_video)\u001b[0m\n\u001b[1;32m    233\u001b[0m     \u001b[38;5;28mself\u001b[39m\u001b[38;5;241m.\u001b[39msync_collection \u001b[38;5;241m=\u001b[39m \u001b[38;5;28mself\u001b[39m\u001b[38;5;241m.\u001b[39msync_collection \u001b[38;5;129;01mor\u001b[39;00m task_collection\n\u001b[1;32m    234\u001b[0m     bpod_data \u001b[38;5;241m=\u001b[39m raw\u001b[38;5;241m.\u001b[39mload_data(\u001b[38;5;28mself\u001b[39m\u001b[38;5;241m.\u001b[39msession_path, task_collection)\n\u001b[0;32m--> 235\u001b[0m     _, audio_ttls \u001b[38;5;241m=\u001b[39m \u001b[43mraw\u001b[49m\u001b[38;5;241;43m.\u001b[39;49m\u001b[43mload_bpod_fronts\u001b[49m\u001b[43m(\u001b[49m\n\u001b[1;32m    236\u001b[0m \u001b[43m        \u001b[49m\u001b[38;5;28;43mself\u001b[39;49m\u001b[38;5;241;43m.\u001b[39;49m\u001b[43msession_path\u001b[49m\u001b[43m,\u001b[49m\u001b[43m \u001b[49m\u001b[43mdata\u001b[49m\u001b[38;5;241;43m=\u001b[39;49m\u001b[43mbpod_data\u001b[49m\u001b[43m,\u001b[49m\u001b[43m \u001b[49m\u001b[43mtask_collection\u001b[49m\u001b[38;5;241;43m=\u001b[39;49m\u001b[43mtask_collection\u001b[49m\u001b[43m)\u001b[49m\n\u001b[1;32m    237\u001b[0m     \u001b[38;5;28mself\u001b[39m\u001b[38;5;241m.\u001b[39mdata[\u001b[38;5;124m'\u001b[39m\u001b[38;5;124maudio\u001b[39m\u001b[38;5;124m'\u001b[39m] \u001b[38;5;241m=\u001b[39m audio_ttls[\u001b[38;5;124m'\u001b[39m\u001b[38;5;124mtimes\u001b[39m\u001b[38;5;124m'\u001b[39m]\n\u001b[1;32m    239\u001b[0m \u001b[38;5;66;03m# Load extracted frame times\u001b[39;00m\n",
      "File \u001b[0;32m~/code/ibllib/ibllib/io/raw_data_loaders.py:798\u001b[0m, in \u001b[0;36mload_bpod_fronts\u001b[0;34m(session_path, data, task_collection)\u001b[0m\n\u001b[1;32m    796\u001b[0m BNC1_fronts \u001b[38;5;241m=\u001b[39m np\u001b[38;5;241m.\u001b[39marray([[np\u001b[38;5;241m.\u001b[39mnan, np\u001b[38;5;241m.\u001b[39mnan]])\n\u001b[1;32m    797\u001b[0m BNC2_fronts \u001b[38;5;241m=\u001b[39m np\u001b[38;5;241m.\u001b[39marray([[np\u001b[38;5;241m.\u001b[39mnan, np\u001b[38;5;241m.\u001b[39mnan]])\n\u001b[0;32m--> 798\u001b[0m \u001b[38;5;28;01mfor\u001b[39;00m tr \u001b[38;5;129;01min\u001b[39;00m data:\n\u001b[1;32m    799\u001b[0m     BNC1_fronts \u001b[38;5;241m=\u001b[39m np\u001b[38;5;241m.\u001b[39mappend(\n\u001b[1;32m    800\u001b[0m         BNC1_fronts,\n\u001b[1;32m    801\u001b[0m         np\u001b[38;5;241m.\u001b[39marray(\n\u001b[0;32m   (...)\u001b[0m\n\u001b[1;32m    807\u001b[0m         axis\u001b[38;5;241m=\u001b[39m\u001b[38;5;241m0\u001b[39m,\n\u001b[1;32m    808\u001b[0m     )\n\u001b[1;32m    809\u001b[0m     BNC1_fronts \u001b[38;5;241m=\u001b[39m np\u001b[38;5;241m.\u001b[39mappend(\n\u001b[1;32m    810\u001b[0m         BNC1_fronts,\n\u001b[1;32m    811\u001b[0m         np\u001b[38;5;241m.\u001b[39marray(\n\u001b[0;32m   (...)\u001b[0m\n\u001b[1;32m    817\u001b[0m         axis\u001b[38;5;241m=\u001b[39m\u001b[38;5;241m0\u001b[39m,\n\u001b[1;32m    818\u001b[0m     )\n",
      "\u001b[0;31mTypeError\u001b[0m: 'NoneType' object is not iterable"
     ]
    },
    {
     "name": "stdout",
     "output_type": "stream",
     "text": [
      "> \u001b[0;32m/home/crombie/code/ibllib/ibllib/io/raw_data_loaders.py\u001b[0m(798)\u001b[0;36mload_bpod_fronts\u001b[0;34m()\u001b[0m\n",
      "\u001b[0;32m    796 \u001b[0;31m    \u001b[0mBNC1_fronts\u001b[0m \u001b[0;34m=\u001b[0m \u001b[0mnp\u001b[0m\u001b[0;34m.\u001b[0m\u001b[0marray\u001b[0m\u001b[0;34m(\u001b[0m\u001b[0;34m[\u001b[0m\u001b[0;34m[\u001b[0m\u001b[0mnp\u001b[0m\u001b[0;34m.\u001b[0m\u001b[0mnan\u001b[0m\u001b[0;34m,\u001b[0m \u001b[0mnp\u001b[0m\u001b[0;34m.\u001b[0m\u001b[0mnan\u001b[0m\u001b[0;34m]\u001b[0m\u001b[0;34m]\u001b[0m\u001b[0;34m)\u001b[0m\u001b[0;34m\u001b[0m\u001b[0;34m\u001b[0m\u001b[0m\n",
      "\u001b[0m\u001b[0;32m    797 \u001b[0;31m    \u001b[0mBNC2_fronts\u001b[0m \u001b[0;34m=\u001b[0m \u001b[0mnp\u001b[0m\u001b[0;34m.\u001b[0m\u001b[0marray\u001b[0m\u001b[0;34m(\u001b[0m\u001b[0;34m[\u001b[0m\u001b[0;34m[\u001b[0m\u001b[0mnp\u001b[0m\u001b[0;34m.\u001b[0m\u001b[0mnan\u001b[0m\u001b[0;34m,\u001b[0m \u001b[0mnp\u001b[0m\u001b[0;34m.\u001b[0m\u001b[0mnan\u001b[0m\u001b[0;34m]\u001b[0m\u001b[0;34m]\u001b[0m\u001b[0;34m)\u001b[0m\u001b[0;34m\u001b[0m\u001b[0;34m\u001b[0m\u001b[0m\n",
      "\u001b[0m\u001b[0;32m--> 798 \u001b[0;31m    \u001b[0;32mfor\u001b[0m \u001b[0mtr\u001b[0m \u001b[0;32min\u001b[0m \u001b[0mdata\u001b[0m\u001b[0;34m:\u001b[0m\u001b[0;34m\u001b[0m\u001b[0;34m\u001b[0m\u001b[0m\n",
      "\u001b[0m\u001b[0;32m    799 \u001b[0;31m        BNC1_fronts = np.append(\n",
      "\u001b[0m\u001b[0;32m    800 \u001b[0;31m            \u001b[0mBNC1_fronts\u001b[0m\u001b[0;34m,\u001b[0m\u001b[0;34m\u001b[0m\u001b[0;34m\u001b[0m\u001b[0m\n",
      "\u001b[0m\n"
     ]
    },
    {
     "name": "stdin",
     "output_type": "stream",
     "text": [
      "ipdb>  c\n"
     ]
    }
   ],
   "source": [
    "qc = CameraQC(one.eid2path(eids[0]), 'left', one=one)\n",
    "outcome, extended = qc.run()\n",
    "print(f'video QC = {outcome}')\n",
    "extended"
   ]
  },
  {
   "cell_type": "code",
   "execution_count": 72,
   "id": "29b92cf3-6982-4a61-8fa8-9bdd4e3c5567",
   "metadata": {},
   "outputs": [
    {
     "name": "stderr",
     "output_type": "stream",
     "text": [
      "(S3) /home/crombie/Downloads/ONE/alyx.internationalbrainlab.org/mainenlab/Subjects/ZFM-06296/2023-07-13/001/raw_video_data/_iblrig_leftCamera.raw.mp4: 100%|█| 4.01G/\n"
     ]
    }
   ],
   "source": [
    "one.mode = 'remote'\n",
    "video_body = one.load_dataset(eids[0], '_iblrig_leftCamera.raw.mp4', collection='raw_video_data')"
   ]
  },
  {
   "cell_type": "code",
   "execution_count": 24,
   "id": "c7a92477-18db-436e-9f51-cf56f3a4885a",
   "metadata": {},
   "outputs": [
    {
     "data": {
      "text/plain": [
       "'d77dd225-f7a9-4d01-996b-82c3ae73d56c'"
      ]
     },
     "execution_count": 24,
     "metadata": {},
     "output_type": "execute_result"
    }
   ],
   "source": [
    "eid"
   ]
  },
  {
   "cell_type": "code",
   "execution_count": 38,
   "id": "b57447fd-ea9e-4e4d-8f99-0183208f845d",
   "metadata": {},
   "outputs": [
    {
     "name": "stderr",
     "output_type": "stream",
     "text": [
      "(S3) /home/crombie/Downloads/ONE/alyx.internationalbrainlab.org/mainenlab/Subjects/ZFM-06301/2023-07-11/001/alf/_ibl_leftCamera.dlc.pqt: 100%|█| 39.8M/39.8M [00:17<0\n",
      "(S3) /home/crombie/Downloads/ONE/alyx.internationalbrainlab.org/mainenlab/Subjects/ZFM-06301/2023-07-11/001/alf/_ibl_rightCamera.dlc.pqt: 100%|█| 83.9M/83.9M [00:41<\n",
      "(S3) /home/crombie/Downloads/ONE/alyx.internationalbrainlab.org/mainenlab/Subjects/ZFM-06301/2023-07-11/001/alf/_ibl_bodyCamera.dlc.pqt: 100%|█| 21.1M/21.1M [00:06<0\n"
     ]
    }
   ],
   "source": [
    "one.mode = 'remote'\n",
    "loader = SessionLoader(eid=eids[1], one=one)\n",
    "loader.load_pose()"
   ]
  },
  {
   "cell_type": "code",
   "execution_count": 42,
   "id": "6864d1de-6aab-41b9-9a26-9f2f11b1938c",
   "metadata": {},
   "outputs": [],
   "source": [
    "dx = np.diff(loader.pose['leftCamera']['nose_tip_x'])\n",
    "dy = np.diff(loader.pose['leftCamera']['nose_tip_y'])"
   ]
  },
  {
   "cell_type": "code",
   "execution_count": 43,
   "id": "db8f1561-f87e-44e1-8f62-e27ba2dcbd2b",
   "metadata": {},
   "outputs": [],
   "source": [
    "movement = np.sqrt(dx ** 2 + dy ** 2)"
   ]
  },
  {
   "cell_type": "code",
   "execution_count": 47,
   "id": "0a61ea41-6ff5-444b-bb5f-8732466602f4",
   "metadata": {},
   "outputs": [
    {
     "data": {
      "text/plain": [
       "[<matplotlib.lines.Line2D at 0x7a81c81866b0>]"
      ]
     },
     "execution_count": 47,
     "metadata": {},
     "output_type": "execute_result"
    },
    {
     "data": {
      "image/png": "[encoded data removed]",
      "text/plain": [
       "<Figure size 640x480 with 1 Axes>"
      ]
     },
     "metadata": {},
     "output_type": "display_data"
    }
   ],
   "source": [
    "from matplotlib import pyplot as plt\n",
    "plt.plot(movement[:10000])"
   ]
  },
  {
   "cell_type": "code",
   "execution_count": 31,
   "id": "538752ed-89b8-4806-840f-d5f228fc46d6",
   "metadata": {},
   "outputs": [
    {
     "data": {
      "text/plain": [
       "array([5.17430735, 1.36335754, 1.25472152, ..., 0.26682809, 0.41113803,\n",
       "       0.41113803])"
      ]
     },
     "execution_count": 31,
     "metadata": {},
     "output_type": "execute_result"
    }
   ],
   "source": [
    "one.load_dataset(eids[0], 'alf/bodyCamera.ROIMotionEnergy.npy')"
   ]
  },
  {
   "cell_type": "code",
   "execution_count": null,
   "id": "d8e6a630-a26c-435a-ba39-7821fcaed7bd",
   "metadata": {},
   "outputs": [],
   "source": []
  },
  {
   "cell_type": "code",
   "execution_count": 113,
   "id": "ab9db9a8-1b73-456a-918f-552cc110ef4b",
   "metadata": {},
   "outputs": [
    {
     "name": "stderr",
     "output_type": "stream",
     "text": [
      "(S3) /home/crombie/Downloads/ONE/alyx.internationalbrainlab.org/mainenlab/Subjects/ZFM-06301/2023-07-11/001/alf/leftCamera.ROIMotionEnergy.npy: 100%|█| 1.94M/1.94M [\n",
      "(S3) /home/crombie/Downloads/ONE/alyx.internationalbrainlab.org/mainenlab/Subjects/ZFM-06301/2023-07-11/001/alf/_ibl_leftCamera.times.npy: 100%|█| 1.94M/1.94M [00:01\n",
      "(S3) /home/crombie/Downloads/ONE/alyx.internationalbrainlab.org/mainenlab/Subjects/ZFM-06301/2023-07-11/001/alf/rightCamera.ROIMotionEnergy.npy: 100%|█| 4.87M/4.87M \n",
      "(S3) /home/crombie/Downloads/ONE/alyx.internationalbrainlab.org/mainenlab/Subjects/ZFM-06301/2023-07-11/001/alf/_ibl_rightCamera.times.npy: 100%|█| 4.87M/4.87M [00:0\n",
      "(S3) /home/crombie/Downloads/ONE/alyx.internationalbrainlab.org/mainenlab/Subjects/ZFM-06301/2023-07-11/001/alf/_ibl_bodyCamera.times.npy: 100%|█| 13.6M/13.6M [00:04\n",
      "(S3) /home/crombie/Downloads/ONE/alyx.internationalbrainlab.org/mainenlab/Subjects/ZFM-06301/2023-07-11/001/alf/bodyCamera.ROIMotionEnergy.npy: 100%|█| 13.6M/13.6M [\n",
      "(S3) /home/crombie/Downloads/ONE/alyx.internationalbrainlab.org/mainenlab/Subjects/ZFM-06296/2023-07-06/001/alf/_ibl_leftCamera.times.npy: 100%|█| 1.87M/1.87M [00:03\n",
      "(S3) /home/crombie/Downloads/ONE/alyx.internationalbrainlab.org/mainenlab/Subjects/ZFM-06296/2023-07-06/001/alf/leftCamera.ROIMotionEnergy.npy: 100%|█| 1.87M/1.87M [\n",
      "(S3) /home/crombie/Downloads/ONE/alyx.internationalbrainlab.org/mainenlab/Subjects/ZFM-06296/2023-07-06/001/alf/_ibl_rightCamera.times.npy: 100%|█| 4.69M/4.69M [00:0\n",
      "(S3) /home/crombie/Downloads/ONE/alyx.internationalbrainlab.org/mainenlab/Subjects/ZFM-06296/2023-07-06/001/alf/rightCamera.ROIMotionEnergy.npy: 100%|█| 4.69M/4.69M \n",
      "(S3) /home/crombie/Downloads/ONE/alyx.internationalbrainlab.org/mainenlab/Subjects/ZFM-06296/2023-07-06/001/alf/_ibl_bodyCamera.times.npy: 100%|█| 13.1M/13.1M [05:32\n",
      "(S3) /home/crombie/Downloads/ONE/alyx.internationalbrainlab.org/mainenlab/Subjects/ZFM-06296/2023-07-06/001/alf/bodyCamera.ROIMotionEnergy.npy: 100%|█| 13.1M/13.1M [\n",
      "(S3) /home/crombie/Downloads/ONE/alyx.internationalbrainlab.org/mainenlab/Subjects/ZFM-06373/2023-07-05/001/alf/leftCamera.ROIMotionEnergy.npy: 100%|█| 1.98M/1.98M [\n"
     ]
    },
    {
     "ename": "KeyError",
     "evalue": "'times'",
     "output_type": "error",
     "traceback": [
      "\u001b[0;31m---------------------------------------------------------------------------\u001b[0m",
      "\u001b[0;31mKeyError\u001b[0m                                  Traceback (most recent call last)",
      "Cell \u001b[0;32mIn[113], line 5\u001b[0m\n\u001b[1;32m      3\u001b[0m \u001b[38;5;28;01mfor\u001b[39;00m eid \u001b[38;5;129;01min\u001b[39;00m eids:\n\u001b[1;32m      4\u001b[0m     loader \u001b[38;5;241m=\u001b[39m SessionLoader(eid\u001b[38;5;241m=\u001b[39meid, one\u001b[38;5;241m=\u001b[39mone)\n\u001b[0;32m----> 5\u001b[0m     \u001b[43mloader\u001b[49m\u001b[38;5;241;43m.\u001b[39;49m\u001b[43mload_motion_energy\u001b[49m\u001b[43m(\u001b[49m\u001b[43m)\u001b[49m\n",
      "File \u001b[0;32m~/code/ibllib/brainbox/io/one.py:1556\u001b[0m, in \u001b[0;36mSessionLoader.load_motion_energy\u001b[0;34m(self, views)\u001b[0m\n\u001b[1;32m   1552\u001b[0m me_raw \u001b[38;5;241m=\u001b[39m \u001b[38;5;28mself\u001b[39m\u001b[38;5;241m.\u001b[39mone\u001b[38;5;241m.\u001b[39mload_object(\n\u001b[1;32m   1553\u001b[0m     \u001b[38;5;28mself\u001b[39m\u001b[38;5;241m.\u001b[39meid, \u001b[38;5;124mf\u001b[39m\u001b[38;5;124m'\u001b[39m\u001b[38;5;132;01m{\u001b[39;00mview\u001b[38;5;132;01m}\u001b[39;00m\u001b[38;5;124mCamera\u001b[39m\u001b[38;5;124m'\u001b[39m, attribute\u001b[38;5;241m=\u001b[39m[\u001b[38;5;124m'\u001b[39m\u001b[38;5;124mROIMotionEnergy\u001b[39m\u001b[38;5;124m'\u001b[39m, \u001b[38;5;124m'\u001b[39m\u001b[38;5;124mtimes\u001b[39m\u001b[38;5;124m'\u001b[39m], revision\u001b[38;5;241m=\u001b[39m\u001b[38;5;28mself\u001b[39m\u001b[38;5;241m.\u001b[39mrevision \u001b[38;5;129;01mor\u001b[39;00m \u001b[38;5;28;01mNone\u001b[39;00m)\n\u001b[1;32m   1554\u001b[0m \u001b[38;5;66;03m# Double check if video timestamps are correct length or can be fixed\u001b[39;00m\n\u001b[1;32m   1555\u001b[0m times_fixed, motion_energy \u001b[38;5;241m=\u001b[39m \u001b[38;5;28mself\u001b[39m\u001b[38;5;241m.\u001b[39m_check_video_timestamps(\n\u001b[0;32m-> 1556\u001b[0m     view, \u001b[43mme_raw\u001b[49m\u001b[43m[\u001b[49m\u001b[38;5;124;43m'\u001b[39;49m\u001b[38;5;124;43mtimes\u001b[39;49m\u001b[38;5;124;43m'\u001b[39;49m\u001b[43m]\u001b[49m, me_raw[\u001b[38;5;124m'\u001b[39m\u001b[38;5;124mROIMotionEnergy\u001b[39m\u001b[38;5;124m'\u001b[39m])\n\u001b[1;32m   1557\u001b[0m \u001b[38;5;28mself\u001b[39m\u001b[38;5;241m.\u001b[39mmotion_energy[\u001b[38;5;124mf\u001b[39m\u001b[38;5;124m'\u001b[39m\u001b[38;5;132;01m{\u001b[39;00mview\u001b[38;5;132;01m}\u001b[39;00m\u001b[38;5;124mCamera\u001b[39m\u001b[38;5;124m'\u001b[39m] \u001b[38;5;241m=\u001b[39m pd\u001b[38;5;241m.\u001b[39mDataFrame(columns\u001b[38;5;241m=\u001b[39m[names[view]], data\u001b[38;5;241m=\u001b[39mmotion_energy)\n\u001b[1;32m   1558\u001b[0m \u001b[38;5;28mself\u001b[39m\u001b[38;5;241m.\u001b[39mmotion_energy[\u001b[38;5;124mf\u001b[39m\u001b[38;5;124m'\u001b[39m\u001b[38;5;132;01m{\u001b[39;00mview\u001b[38;5;132;01m}\u001b[39;00m\u001b[38;5;124mCamera\u001b[39m\u001b[38;5;124m'\u001b[39m]\u001b[38;5;241m.\u001b[39minsert(\u001b[38;5;241m0\u001b[39m, \u001b[38;5;124m'\u001b[39m\u001b[38;5;124mtimes\u001b[39m\u001b[38;5;124m'\u001b[39m, times_fixed)\n",
      "\u001b[0;31mKeyError\u001b[0m: 'times'"
     ]
    },
    {
     "name": "stdout",
     "output_type": "stream",
     "text": [
      "> \u001b[0;32m/home/crombie/code/ibllib/brainbox/io/one.py\u001b[0m(1556)\u001b[0;36mload_motion_energy\u001b[0;34m()\u001b[0m\n",
      "\u001b[0;32m   1554 \u001b[0;31m            \u001b[0;31m# Double check if video timestamps are correct length or can be fixed\u001b[0m\u001b[0;34m\u001b[0m\u001b[0;34m\u001b[0m\u001b[0m\n",
      "\u001b[0m\u001b[0;32m   1555 \u001b[0;31m            times_fixed, motion_energy = self._check_video_timestamps(\n",
      "\u001b[0m\u001b[0;32m-> 1556 \u001b[0;31m                view, me_raw['times'], me_raw['ROIMotionEnergy'])\n",
      "\u001b[0m\u001b[0;32m   1557 \u001b[0;31m            \u001b[0mself\u001b[0m\u001b[0;34m.\u001b[0m\u001b[0mmotion_energy\u001b[0m\u001b[0;34m[\u001b[0m\u001b[0;34mf'{view}Camera'\u001b[0m\u001b[0;34m]\u001b[0m \u001b[0;34m=\u001b[0m \u001b[0mpd\u001b[0m\u001b[0;34m.\u001b[0m\u001b[0mDataFrame\u001b[0m\u001b[0;34m(\u001b[0m\u001b[0mcolumns\u001b[0m\u001b[0;34m=\u001b[0m\u001b[0;34m[\u001b[0m\u001b[0mnames\u001b[0m\u001b[0;34m[\u001b[0m\u001b[0mview\u001b[0m\u001b[0;34m]\u001b[0m\u001b[0;34m]\u001b[0m\u001b[0;34m,\u001b[0m \u001b[0mdata\u001b[0m\u001b[0;34m=\u001b[0m\u001b[0mmotion_energy\u001b[0m\u001b[0;34m)\u001b[0m\u001b[0;34m\u001b[0m\u001b[0;34m\u001b[0m\u001b[0m\n",
      "\u001b[0m\u001b[0;32m   1558 \u001b[0;31m            \u001b[0mself\u001b[0m\u001b[0;34m.\u001b[0m\u001b[0mmotion_energy\u001b[0m\u001b[0;34m[\u001b[0m\u001b[0;34mf'{view}Camera'\u001b[0m\u001b[0;34m]\u001b[0m\u001b[0;34m.\u001b[0m\u001b[0minsert\u001b[0m\u001b[0;34m(\u001b[0m\u001b[0;36m0\u001b[0m\u001b[0;34m,\u001b[0m \u001b[0;34m'times'\u001b[0m\u001b[0;34m,\u001b[0m \u001b[0mtimes_fixed\u001b[0m\u001b[0;34m)\u001b[0m\u001b[0;34m\u001b[0m\u001b[0;34m\u001b[0m\u001b[0m\n",
      "\u001b[0m\n"
     ]
    },
    {
     "name": "stdin",
     "output_type": "stream",
     "text": [
      "ipdb>  c\n"
     ]
    }
   ],
   "source": [
    "# Download motion energy (and camera tpts)\n",
    "one.mode = 'remote'\n",
    "for eid in eids:\n",
    "    loader = SessionLoader(eid=eid, one=one)\n",
    "    try:\n",
    "        loader.load_motion_energy()\n",
    "    except KeyError:\n",
    "        print(\"Failed:"
   ]
  },
  {
   "cell_type": "code",
   "execution_count": 71,
   "id": "30905749-ed42-4bd8-8037-d0fcf4c11520",
   "metadata": {},
   "outputs": [
    {
     "name": "stderr",
     "output_type": "stream",
     "text": [
      "(S3) /home/crombie/Downloads/ONE/alyx.internationalbrainlab.org/mainenlab/Subjects/ZFM-06296/2023-07-13/001/alf/leftCamera.ROIMotionEnergy.npy: 100%|█| 1.92M/1.92M [\n",
      "(S3) /home/crombie/Downloads/ONE/alyx.internationalbrainlab.org/mainenlab/Subjects/ZFM-06296/2023-07-13/001/alf/_ibl_leftCamera.times.npy: 100%|█| 1.92M/1.92M [00:06\n",
      "(S3) /home/crombie/Downloads/ONE/alyx.internationalbrainlab.org/mainenlab/Subjects/ZFM-06296/2023-07-13/001/alf/_ibl_rightCamera.times.npy: 100%|█| 4.82M/4.82M [00:1\n",
      "(S3) /home/crombie/Downloads/ONE/alyx.internationalbrainlab.org/mainenlab/Subjects/ZFM-06296/2023-07-13/001/alf/rightCamera.ROIMotionEnergy.npy: 100%|█| 4.82M/4.82M \n",
      "(S3) /home/crombie/Downloads/ONE/alyx.internationalbrainlab.org/mainenlab/Subjects/ZFM-06296/2023-07-13/001/alf/bodyCamera.ROIMotionEnergy.npy: 100%|█| 13.5M/13.5M [\n"
     ]
    }
   ],
   "source": []
  },
  {
   "cell_type": "code",
   "execution_count": 89,
   "id": "eeb388c5-fec2-4835-85ff-aaf9a23f0bc2",
   "metadata": {},
   "outputs": [],
   "source": [
    "one.mode = 'remote'\n",
    "pids = np.concatenate([one.eid2pid(eid)[0] for eid in eids])"
   ]
  },
  {
   "cell_type": "code",
   "execution_count": null,
   "id": "28c76617-8f54-4f3f-985f-8cb5b68e72a3",
   "metadata": {},
   "outputs": [],
   "source": [
    "ssl = SpikeSortingLoader(one=one, pid=pid, atlas=AllenAtlas(res_um=10))\n",
    "spikes, clusters, channels = ssl.load_spike_sorting()\n",
    "clusters = ssl.merge_clusters(spikes, clusters, channels)"
   ]
  },
  {
   "cell_type": "code",
   "execution_count": 85,
   "id": "1a7e2657-6d94-41b9-b965-17ab59160a01",
   "metadata": {},
   "outputs": [
    {
     "data": {
      "text/plain": [
       "\u001b[0;31mInit signature:\u001b[0m \u001b[0mAllenAtlas\u001b[0m\u001b[0;34m(\u001b[0m\u001b[0mres_um\u001b[0m\u001b[0;34m=\u001b[0m\u001b[0;36m25\u001b[0m\u001b[0;34m,\u001b[0m \u001b[0mscaling\u001b[0m\u001b[0;34m=\u001b[0m\u001b[0;34m(\u001b[0m\u001b[0;36m1\u001b[0m\u001b[0;34m,\u001b[0m \u001b[0;36m1\u001b[0m\u001b[0;34m,\u001b[0m \u001b[0;36m1\u001b[0m\u001b[0;34m)\u001b[0m\u001b[0;34m,\u001b[0m \u001b[0mmock\u001b[0m\u001b[0;34m=\u001b[0m\u001b[0;32mFalse\u001b[0m\u001b[0;34m,\u001b[0m \u001b[0mhist_path\u001b[0m\u001b[0;34m=\u001b[0m\u001b[0;32mNone\u001b[0m\u001b[0;34m)\u001b[0m\u001b[0;34m\u001b[0m\u001b[0;34m\u001b[0m\u001b[0m\n",
       "\u001b[0;31mDocstring:\u001b[0m     \n",
       "The Allan Common Coordinate Framework (CCF) brain atlas.\n",
       "\n",
       "Instantiates an atlas.BrainAtlas corresponding to the Allen CCF at the given resolution\n",
       "using the IBL Bregma and coordinate system.\n",
       "\u001b[0;31mInit docstring:\u001b[0m\n",
       "Instantiates an atlas.BrainAtlas corresponding to the Allen CCF at the given resolution\n",
       "using the IBL Bregma and coordinate system.\n",
       "\n",
       "Parameters\n",
       "----------\n",
       "res_um : {10, 25, 50} int\n",
       "    The Atlas resolution in micrometres; one of 10, 25 or 50um.\n",
       "scaling : float, numpy.array\n",
       "    Scale factor along ml, ap, dv for squeeze and stretch (default: [1, 1, 1]).\n",
       "mock : bool\n",
       "    For testing purposes, return atlas object with image comprising zeros.\n",
       "hist_path : str, pathlib.Path\n",
       "    The location of the image volume. May be a full file path or a directory.\n",
       "\n",
       "Examples\n",
       "--------\n",
       "Instantiate Atlas from a non-default location, in this case the cache_dir of an ONE instance.\n",
       ">>> target_dir = one.cache_dir / AllenAtlas.atlas_rel_path\n",
       "... ba = AllenAtlas(hist_path=target_dir)\n",
       "\u001b[0;31mFile:\u001b[0m           ~/.local/lib/python3.10/site-packages/iblatlas/atlas.py\n",
       "\u001b[0;31mType:\u001b[0m           type\n",
       "\u001b[0;31mSubclasses:\u001b[0m     "
      ]
     },
     "metadata": {},
     "output_type": "display_data"
    }
   ],
   "source": [
    "AllenAtlas?"
   ]
  },
  {
   "cell_type": "code",
   "execution_count": 83,
   "id": "d9a4f69c-2fa6-4ccc-b65a-3fac1d302fb6",
   "metadata": {},
   "outputs": [
    {
     "data": {
      "text/plain": [
       "(['b0b6a756-8b8a-4cee-9f4f-da0daab9790d',\n",
       "  'a4d69060-1834-4c71-87fe-24eec1988bce'],\n",
       " ['probe00', 'probe01'])"
      ]
     },
     "execution_count": 83,
     "metadata": {},
     "output_type": "execute_result"
    }
   ],
   "source": []
  },
  {
   "cell_type": "code",
   "execution_count": null,
   "id": "74623d5a-49dc-4fb1-999f-f9ee562c0c78",
   "metadata": {},
   "outputs": [],
   "source": [
    "EphysSessionLoader"
   ]
  }
 ],
 "metadata": {
  "kernelspec": {
   "display_name": "Python 3 (ipykernel)",
   "language": "python",
   "name": "python3"
  },
  "language_info": {
   "codemirror_mode": {
    "name": "ipython",
    "version": 3
   },
   "file_extension": ".py",
   "mimetype": "text/x-python",
   "name": "python",
   "nbconvert_exporter": "python",
   "pygments_lexer": "ipython3",
   "version": "3.10.14"
  }
 },
 "nbformat": 4,
 "nbformat_minor": 5
}
