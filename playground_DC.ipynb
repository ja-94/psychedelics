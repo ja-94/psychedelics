{
 "cells": [
  {
   "cell_type": "code",
   "execution_count": 11,
   "id": "9b2dc544-d877-4de8-95f6-6347f0dfb554",
   "metadata": {},
   "outputs": [],
   "source": [
    "from datetime import datetime\n",
    "from pprint import pprint\n",
    "import numpy as np\n",
    "import pandas as pd\n",
    "\n",
    "from one.api import ONE\n",
    "from brainbox.io.one import SessionLoader, EphysSessionLoader\n",
    "from ibllib.qc.camera import CameraQC\n",
    "from iblatlas.atlas import AllenAtlas"
   ]
  },
  {
   "cell_type": "code",
   "execution_count": 2,
   "id": "08d161a9-f4c2-4614-9ea1-80915cb55d8b",
   "metadata": {},
   "outputs": [],
   "source": [
    "mode = 'local'  # sets mode for all queries (one.seach* methods)\n",
    "one = ONE(mode=mode)"
   ]
  },
  {
   "cell_type": "code",
   "execution_count": 3,
   "id": "c23afa63-0507-4427-9295-5022e0054393",
   "metadata": {},
   "outputs": [],
   "source": [
    "# Note: remote queries *sometimes* need full dataset name?\n",
    "# Note: dataset kwarg can be list, but only for local queries\n",
    "# eids = one.search(project=['psychedelics'], datasets=['spikes.times.npy', '_iblrig_leftCamera.raw.mp4'], query_type='remote')\n",
    "# print(len(eids))"
   ]
  },
  {
   "cell_type": "code",
   "execution_count": 4,
   "id": "a6834b96-f817-4c70-9c33-f3de69d164a7",
   "metadata": {},
   "outputs": [
    {
     "name": "stdout",
     "output_type": "stream",
     "text": [
      "Psychedelics sessions: 74\n"
     ]
    }
   ],
   "source": [
    "eids_all = one.search(project='psychedelics')\n",
    "print(f'Psychedelics sessions: {len(eids_all)}')"
   ]
  },
  {
   "cell_type": "code",
   "execution_count": 5,
   "id": "c7fd7eb9-bae4-4624-8b77-f322472d59de",
   "metadata": {},
   "outputs": [
    {
     "name": "stdout",
     "output_type": "stream",
     "text": [
      "Psychedelics sessions with video: 59\n"
     ]
    }
   ],
   "source": [
    "eids_vid = one.search(project='psychedelics', dataset=['Camera'])\n",
    "print(f'Psychedelics sessions with video: {len(eids_vid)}')"
   ]
  },
  {
   "cell_type": "code",
   "execution_count": 6,
   "id": "92622c6d-db99-4ebe-bec5-4e129e0020c3",
   "metadata": {},
   "outputs": [
    {
     "name": "stdout",
     "output_type": "stream",
     "text": [
      "Psychedelics sessions with ephys: 29\n"
     ]
    }
   ],
   "source": [
    "eids_ephys = one.search(project='psychedelics', dataset=['ephys'])\n",
    "print(f'Psychedelics sessions with ephys: {len(eids_ephys)}')"
   ]
  },
  {
   "cell_type": "code",
   "execution_count": 7,
   "id": "973c0262-8bed-457d-81c4-464374b03a72",
   "metadata": {},
   "outputs": [
    {
     "name": "stdout",
     "output_type": "stream",
     "text": [
      "Psychedelics sessions with spike sorting: 28\n"
     ]
    }
   ],
   "source": [
    "eids_spikes = one.search(project='psychedelics', dataset=['spikes'])\n",
    "print(f'Psychedelics sessions with spike sorting: {len(eids_spikes)}')"
   ]
  },
  {
   "cell_type": "code",
   "execution_count": 8,
   "id": "52eec9a1-306c-469e-9231-0985356c8d1c",
   "metadata": {},
   "outputs": [
    {
     "name": "stdout",
     "output_type": "stream",
     "text": [
      "Psychedelics probes with spike sorting: 48\n"
     ]
    }
   ],
   "source": [
    "# Note: NotImplementedError: Searching on insertions required remote connection\n",
    "pids_spikes = one.search_insertions(project='psychedelics', dataset='spikes', query_type='remote')\n",
    "print(f'Psychedelics probes with spike sorting: {len(pids_spikes)}')"
   ]
  },
  {
   "cell_type": "code",
   "execution_count": 10,
   "id": "142dec48-78a4-4b02-a293-ce9975696340",
   "metadata": {},
   "outputs": [
    {
     "name": "stdout",
     "output_type": "stream",
     "text": [
      "Sessions with two probes: 23\n"
     ]
    }
   ],
   "source": [
    "one.mode = 'remote'\n",
    "n_probes = np.full(len(eids_spikes), np.nan)\n",
    "for i, eid in enumerate(eids_spikes):\n",
    "    info = one.load_dataset(eid, '_ibl_experiment.description.yaml')\n",
    "    n_probes[i] = len(info['devices']['neuropixel'])\n",
    "print(f'Sessions with two probes: {(n_probes == 2).sum()}')"
   ]
  },
  {
   "cell_type": "code",
   "execution_count": 11,
   "id": "a0daa67f-5d96-41e9-a93d-26879f815a3c",
   "metadata": {},
   "outputs": [
    {
     "name": "stdout",
     "output_type": "stream",
     "text": [
      "Psychedelics sessions with spike sorting & video: 28\n"
     ]
    }
   ],
   "source": [
    "eids = one.search(project='psychedelics', dataset=['spikes', 'Camera'], query_type='local')\n",
    "print(f'Psychedelics sessions with spike sorting & video: {len(eids)}')"
   ]
  },
  {
   "cell_type": "code",
   "execution_count": 12,
   "id": "aba408d3-db14-4473-aff5-0e2c13085866",
   "metadata": {},
   "outputs": [
    {
     "name": "stdout",
     "output_type": "stream",
     "text": [
      "All datasets for session: d77dd225-f7a9-4d01-996b-82c3ae73d56c\n",
      "['_ibl_experiment.description.yaml',\n",
      " 'alf/_ibl_bodyCamera.dlc.pqt',\n",
      " 'alf/_ibl_bodyCamera.times.npy',\n",
      " 'alf/_ibl_leftCamera.dlc.pqt',\n",
      " 'alf/_ibl_leftCamera.times.npy',\n",
      " 'alf/_ibl_rightCamera.dlc.pqt',\n",
      " 'alf/_ibl_rightCamera.times.npy',\n",
      " 'alf/bodyCamera.ROIMotionEnergy.npy',\n",
      " 'alf/bodyROIMotionEnergy.position.npy',\n",
      " 'alf/leftCamera.ROIMotionEnergy.npy',\n",
      " 'alf/leftROIMotionEnergy.position.npy',\n",
      " 'alf/probe00/electrodeSites.brainLocationIds_ccf_2017.npy',\n",
      " 'alf/probe00/electrodeSites.localCoordinates.npy',\n",
      " 'alf/probe00/electrodeSites.mlapdv.npy',\n",
      " 'alf/probe00/pykilosort/_ibl_log.info_pykilosort.log',\n",
      " 'alf/probe00/pykilosort/_kilosort_whitening.matrix.npy',\n",
      " 'alf/probe00/pykilosort/_phy_spikes_subset.channels.npy',\n",
      " 'alf/probe00/pykilosort/_phy_spikes_subset.spikes.npy',\n",
      " 'alf/probe00/pykilosort/_phy_spikes_subset.waveforms.npy',\n",
      " 'alf/probe00/pykilosort/channels.brainLocationIds_ccf_2017.npy',\n",
      " 'alf/probe00/pykilosort/channels.localCoordinates.npy',\n",
      " 'alf/probe00/pykilosort/channels.mlapdv.npy',\n",
      " 'alf/probe00/pykilosort/channels.rawInd.npy',\n",
      " 'alf/probe00/pykilosort/clusters.amps.npy',\n",
      " 'alf/probe00/pykilosort/clusters.channels.npy',\n",
      " 'alf/probe00/pykilosort/clusters.depths.npy',\n",
      " 'alf/probe00/pykilosort/clusters.metrics.pqt',\n",
      " 'alf/probe00/pykilosort/clusters.peakToTrough.npy',\n",
      " 'alf/probe00/pykilosort/clusters.uuids.csv',\n",
      " 'alf/probe00/pykilosort/clusters.waveforms.npy',\n",
      " 'alf/probe00/pykilosort/clusters.waveformsChannels.npy',\n",
      " 'alf/probe00/pykilosort/drift.times.npy',\n",
      " 'alf/probe00/pykilosort/drift.um.npy',\n",
      " 'alf/probe00/pykilosort/drift_depths.um.npy',\n",
      " 'alf/probe00/pykilosort/spikes.amps.npy',\n",
      " 'alf/probe00/pykilosort/spikes.clusters.npy',\n",
      " 'alf/probe00/pykilosort/spikes.depths.npy',\n",
      " 'alf/probe00/pykilosort/spikes.samples.npy',\n",
      " 'alf/probe00/pykilosort/spikes.templates.npy',\n",
      " 'alf/probe00/pykilosort/spikes.times.npy',\n",
      " 'alf/probe00/pykilosort/templates.amps.npy',\n",
      " 'alf/probe00/pykilosort/templates.waveforms.npy',\n",
      " 'alf/probe00/pykilosort/templates.waveformsChannels.npy',\n",
      " 'alf/probes.description.json',\n",
      " 'alf/rightCamera.ROIMotionEnergy.npy',\n",
      " 'alf/rightROIMotionEnergy.position.npy',\n",
      " 'alf/task_00/_ibl_passiveGabor.table.csv',\n",
      " 'alf/task_00/_ibl_passivePeriods.intervalsTable.csv',\n",
      " 'alf/task_00/_ibl_passiveRFM.times.npy',\n",
      " 'alf/task_00/_ibl_passiveStims.table.csv',\n",
      " 'alf/task_01/_ibl_passiveGabor.table.csv',\n",
      " 'alf/task_01/_ibl_passivePeriods.intervalsTable.csv',\n",
      " 'alf/task_01/_ibl_passiveRFM.times.npy',\n",
      " 'alf/task_01/_ibl_passiveStims.table.csv',\n",
      " 'raw_ephys_data/_spikeglx_ephysData_g0_t0.nidq.cbin',\n",
      " 'raw_ephys_data/_spikeglx_ephysData_g0_t0.nidq.ch',\n",
      " 'raw_ephys_data/_spikeglx_ephysData_g0_t0.nidq.meta',\n",
      " 'raw_ephys_data/_spikeglx_ephysData_g0_t0.nidq.wiring.json',\n",
      " 'raw_ephys_data/_spikeglx_sync.channels.npy',\n",
      " 'raw_ephys_data/_spikeglx_sync.polarities.npy',\n",
      " 'raw_ephys_data/_spikeglx_sync.times.npy',\n",
      " 'raw_ephys_data/probe00/_iblqc_ephysChannels.apRMS.npy',\n",
      " 'raw_ephys_data/probe00/_iblqc_ephysChannels.labels.npy',\n",
      " 'raw_ephys_data/probe00/_iblqc_ephysChannels.rawSpikeRates.npy',\n",
      " 'raw_ephys_data/probe00/_iblqc_ephysSpectralDensityAP.freqs.npy',\n",
      " 'raw_ephys_data/probe00/_iblqc_ephysSpectralDensityAP.power.npy',\n",
      " 'raw_ephys_data/probe00/_iblqc_ephysSpectralDensityLF.freqs.npy',\n",
      " 'raw_ephys_data/probe00/_iblqc_ephysSpectralDensityLF.power.npy',\n",
      " 'raw_ephys_data/probe00/_iblqc_ephysTimeRmsLF.rms.npy',\n",
      " 'raw_ephys_data/probe00/_iblqc_ephysTimeRmsLF.timestamps.npy',\n",
      " 'raw_ephys_data/probe00/_spikeglx_ephysData_g0_t0.imec0.ap.cbin',\n",
      " 'raw_ephys_data/probe00/_spikeglx_ephysData_g0_t0.imec0.ap.ch',\n",
      " 'raw_ephys_data/probe00/_spikeglx_ephysData_g0_t0.imec0.ap.meta',\n",
      " 'raw_ephys_data/probe00/_spikeglx_ephysData_g0_t0.imec0.lf.cbin',\n",
      " 'raw_ephys_data/probe00/_spikeglx_ephysData_g0_t0.imec0.lf.ch',\n",
      " 'raw_ephys_data/probe00/_spikeglx_ephysData_g0_t0.imec0.lf.meta',\n",
      " 'raw_ephys_data/probe00/_spikeglx_ephysData_g0_t0.imec0.sync.npy',\n",
      " 'raw_ephys_data/probe00/_spikeglx_ephysData_g0_t0.imec0.timestamps.npy',\n",
      " 'raw_ephys_data/probe00/_spikeglx_ephysData_g0_t0.imec0.wiring.json',\n",
      " 'raw_ephys_data/probe00/_spikeglx_sync.channels.probe00.npy',\n",
      " 'raw_ephys_data/probe00/_spikeglx_sync.polarities.probe00.npy',\n",
      " 'raw_ephys_data/probe00/_spikeglx_sync.times.probe00.npy',\n",
      " 'raw_task_data_00/_iblrig_RFMapStim.raw.bin',\n",
      " 'raw_task_data_00/_iblrig_encoderEvents.raw.ssv',\n",
      " 'raw_task_data_00/_iblrig_encoderPositions.raw.ssv',\n",
      " 'raw_task_data_00/_iblrig_encoderTrialInfo.raw.ssv',\n",
      " 'raw_task_data_00/_iblrig_stimPositionScreen.raw.csv',\n",
      " 'raw_task_data_00/_iblrig_syncSquareUpdate.raw.csv',\n",
      " 'raw_task_data_00/_iblrig_taskSettings.raw.json',\n",
      " 'raw_task_data_01/_iblrig_RFMapStim.raw.bin',\n",
      " 'raw_task_data_01/_iblrig_encoderEvents.raw.ssv',\n",
      " 'raw_task_data_01/_iblrig_encoderPositions.raw.ssv',\n",
      " 'raw_task_data_01/_iblrig_encoderTrialInfo.raw.ssv',\n",
      " 'raw_task_data_01/_iblrig_stimPositionScreen.raw.csv',\n",
      " 'raw_task_data_01/_iblrig_syncSquareUpdate.raw.csv',\n",
      " 'raw_task_data_01/_iblrig_taskSettings.raw.json',\n",
      " 'raw_video_data/_iblrig_bodyCamera.frameData.bin',\n",
      " 'raw_video_data/_iblrig_bodyCamera.raw.mp4',\n",
      " 'raw_video_data/_iblrig_leftCamera.frameData.bin',\n",
      " 'raw_video_data/_iblrig_leftCamera.raw.mp4',\n",
      " 'raw_video_data/_iblrig_rightCamera.frameData.bin',\n",
      " 'raw_video_data/_iblrig_rightCamera.raw.mp4',\n",
      " 'spike_sorters/pykilosort/probe00/_kilosort_raw.output.tar']\n"
     ]
    }
   ],
   "source": [
    "eid = eids[0]\n",
    "pprint(one.list_datasets(eid))\n",
    "print(f'All datasets for session: {eid}')"
   ]
  },
  {
   "cell_type": "code",
   "execution_count": 13,
   "id": "7a94983c-ebf1-4cbf-aa05-ca68674eb896",
   "metadata": {},
   "outputs": [
    {
     "name": "stderr",
     "output_type": "stream",
     "text": [
      "(S3) /home/openlab/Downloads/ONE/alyx.internationalbrainlab.org/mainenlab/Subjects/ZFM-06296/2023-07-13/001/alf/task_00/_ibl_passivePeriods.intervalsTable.csv: 100%|██████████| 207/207 [00:00<00:00, 586B/s]\n",
      "(S3) /home/openlab/Downloads/ONE/alyx.internationalbrainlab.org/mainenlab/Subjects/ZFM-06296/2023-07-13/001/alf/task_01/_ibl_passivePeriods.intervalsTable.csv: 100%|██████████| 209/209 [00:00<00:00, 585B/s]"
     ]
    },
    {
     "name": "stdout",
     "output_type": "stream",
     "text": [
      "  Unnamed: 0  passiveProtocol  spontaneousActivity         RFM   taskReplay\n",
      "0      start        40.189634            52.456301  364.755134   678.087198\n",
      "1       stop      3029.724119           352.488467  665.820531  3029.724119\n",
      "  Unnamed: 0  passiveProtocol  spontaneousActivity          RFM   taskReplay\n",
      "0      start      3038.170606          3050.437273  3362.753138  3676.101400\n",
      "1       stop      4042.941732          3350.486471  3663.834733  4042.941732\n"
     ]
    },
    {
     "name": "stderr",
     "output_type": "stream",
     "text": [
      "\n"
     ]
    }
   ],
   "source": [
    "# Get overall timings for stimulation protocols\n",
    "one.mode = 'remote'\n",
    "\n",
    "# ALFObjectNotFound: trials \n",
    "# loader = SessionLoader(eid=eid, one=one)\n",
    "# loader.load_trials()\n",
    "\n",
    "['alf/task_00/_ibl_passiveGabor.table.csv',\n",
    "'alf/task_00/_ibl_passivePeriods.intervalsTable.csv',\n",
    "'alf/task_00/_ibl_passiveRFM.times.npy',\n",
    "'alf/task_00/_ibl_passiveStims.table.csv']\n",
    "\n",
    "first = one.load_dataset(eid, 'alf/task_00/_ibl_passivePeriods.intervalsTable.csv')\n",
    "second = one.load_dataset(eid, 'alf/task_01/_ibl_passivePeriods.intervalsTable.csv')\n",
    "\n",
    "print(first)\n",
    "print(second)"
   ]
  },
  {
   "cell_type": "code",
   "execution_count": 14,
   "id": "fea61dbb-46bb-4ebf-956e-a152525d1d29",
   "metadata": {},
   "outputs": [
    {
     "name": "stderr",
     "output_type": "stream",
     "text": [
      "(S3) /home/openlab/Downloads/ONE/alyx.internationalbrainlab.org/mainenlab/Subjects/ZFM-06296/2023-07-13/001/alf/task_00/_ibl_passiveGabor.table.csv: 100%|██████████| 12.4k/12.4k [00:00<00:00, 40.2kB/s]\n"
     ]
    },
    {
     "data": {
      "text/html": [
       "<div>\n",
       "<style scoped>\n",
       "    .dataframe tbody tr th:only-of-type {\n",
       "        vertical-align: middle;\n",
       "    }\n",
       "\n",
       "    .dataframe tbody tr th {\n",
       "        vertical-align: top;\n",
       "    }\n",
       "\n",
       "    .dataframe thead th {\n",
       "        text-align: right;\n",
       "    }\n",
       "</style>\n",
       "<table border=\"1\" class=\"dataframe\">\n",
       "  <thead>\n",
       "    <tr style=\"text-align: right;\">\n",
       "      <th></th>\n",
       "      <th>Unnamed: 0</th>\n",
       "      <th>start</th>\n",
       "      <th>stop</th>\n",
       "      <th>position</th>\n",
       "      <th>contrast</th>\n",
       "      <th>phase</th>\n",
       "    </tr>\n",
       "  </thead>\n",
       "  <tbody>\n",
       "    <tr>\n",
       "      <th>0</th>\n",
       "      <td>0</td>\n",
       "      <td>682.515575</td>\n",
       "      <td>682.771049</td>\n",
       "      <td>-35.0</td>\n",
       "      <td>0.250</td>\n",
       "      <td>2.727673</td>\n",
       "    </tr>\n",
       "    <tr>\n",
       "      <th>1</th>\n",
       "      <td>1</td>\n",
       "      <td>687.535640</td>\n",
       "      <td>687.852941</td>\n",
       "      <td>35.0</td>\n",
       "      <td>0.000</td>\n",
       "      <td>0.667190</td>\n",
       "    </tr>\n",
       "    <tr>\n",
       "      <th>2</th>\n",
       "      <td>2</td>\n",
       "      <td>689.268900</td>\n",
       "      <td>689.569803</td>\n",
       "      <td>35.0</td>\n",
       "      <td>0.000</td>\n",
       "      <td>3.019945</td>\n",
       "    </tr>\n",
       "    <tr>\n",
       "      <th>3</th>\n",
       "      <td>3</td>\n",
       "      <td>690.768916</td>\n",
       "      <td>691.085751</td>\n",
       "      <td>35.0</td>\n",
       "      <td>0.000</td>\n",
       "      <td>2.401130</td>\n",
       "    </tr>\n",
       "    <tr>\n",
       "      <th>4</th>\n",
       "      <td>4</td>\n",
       "      <td>691.835476</td>\n",
       "      <td>692.136279</td>\n",
       "      <td>-35.0</td>\n",
       "      <td>0.250</td>\n",
       "      <td>0.827183</td>\n",
       "    </tr>\n",
       "    <tr>\n",
       "      <th>...</th>\n",
       "      <td>...</td>\n",
       "      <td>...</td>\n",
       "      <td>...</td>\n",
       "      <td>...</td>\n",
       "      <td>...</td>\n",
       "      <td>...</td>\n",
       "    </tr>\n",
       "    <tr>\n",
       "      <th>175</th>\n",
       "      <td>175</td>\n",
       "      <td>984.568633</td>\n",
       "      <td>984.886035</td>\n",
       "      <td>-35.0</td>\n",
       "      <td>0.125</td>\n",
       "      <td>2.918050</td>\n",
       "    </tr>\n",
       "    <tr>\n",
       "      <th>176</th>\n",
       "      <td>176</td>\n",
       "      <td>986.001890</td>\n",
       "      <td>986.318792</td>\n",
       "      <td>-35.0</td>\n",
       "      <td>0.250</td>\n",
       "      <td>2.549127</td>\n",
       "    </tr>\n",
       "    <tr>\n",
       "      <th>177</th>\n",
       "      <td>177</td>\n",
       "      <td>987.768480</td>\n",
       "      <td>988.102613</td>\n",
       "      <td>35.0</td>\n",
       "      <td>0.125</td>\n",
       "      <td>1.696819</td>\n",
       "    </tr>\n",
       "    <tr>\n",
       "      <th>178</th>\n",
       "      <td>178</td>\n",
       "      <td>989.768447</td>\n",
       "      <td>990.085682</td>\n",
       "      <td>-35.0</td>\n",
       "      <td>0.000</td>\n",
       "      <td>1.087737</td>\n",
       "    </tr>\n",
       "    <tr>\n",
       "      <th>179</th>\n",
       "      <td>179</td>\n",
       "      <td>990.618028</td>\n",
       "      <td>990.918965</td>\n",
       "      <td>35.0</td>\n",
       "      <td>0.125</td>\n",
       "      <td>1.873942</td>\n",
       "    </tr>\n",
       "  </tbody>\n",
       "</table>\n",
       "<p>180 rows × 6 columns</p>\n",
       "</div>"
      ],
      "text/plain": [
       "     Unnamed: 0       start        stop  position  contrast     phase\n",
       "0             0  682.515575  682.771049     -35.0     0.250  2.727673\n",
       "1             1  687.535640  687.852941      35.0     0.000  0.667190\n",
       "2             2  689.268900  689.569803      35.0     0.000  3.019945\n",
       "3             3  690.768916  691.085751      35.0     0.000  2.401130\n",
       "4             4  691.835476  692.136279     -35.0     0.250  0.827183\n",
       "..          ...         ...         ...       ...       ...       ...\n",
       "175         175  984.568633  984.886035     -35.0     0.125  2.918050\n",
       "176         176  986.001890  986.318792     -35.0     0.250  2.549127\n",
       "177         177  987.768480  988.102613      35.0     0.125  1.696819\n",
       "178         178  989.768447  990.085682     -35.0     0.000  1.087737\n",
       "179         179  990.618028  990.918965      35.0     0.125  1.873942\n",
       "\n",
       "[180 rows x 6 columns]"
      ]
     },
     "execution_count": 14,
     "metadata": {},
     "output_type": "execute_result"
    }
   ],
   "source": [
    "# Get specific trial timing for trials (needed because task_00 keeps running even though no stimuli are presented)\n",
    "one.mode = 'remote'\n",
    "\n",
    "# ALFObjectNotFound: trials \n",
    "# loader = SessionLoader(eid=eid, one=one)\n",
    "# loader.load_trials()\n",
    "\n",
    "['alf/task_00/_ibl_passiveGabor.table.csv',\n",
    "'alf/task_00/_ibl_passivePeriods.intervalsTable.csv',\n",
    "'alf/task_00/_ibl_passiveRFM.times.npy',\n",
    "'alf/task_00/_ibl_passiveStims.table.csv']\n",
    "\n",
    "one.load_dataset(eid, 'alf/task_00/_ibl_passiveGabor.table.csv')"
   ]
  },
  {
   "cell_type": "code",
   "execution_count": 15,
   "id": "09c6b81f-e464-471a-8b0c-dfb93740aeac",
   "metadata": {},
   "outputs": [],
   "source": [
    "# Get administration time in seconds\n",
    "df_infos = pd.read_csv('recordings.csv')\n",
    "df_infos['date'] = df_infos['date'].apply(lambda x: datetime.strptime(x, '%d.%m.%Y').date())\n",
    "df_infos['administration_time'] = df_infos['administration_time'].apply(lambda x: np.sum(np.array([int(val) for val in x.split(':')]) * np.array([3600, 60, 1])))\n",
    "\n",
    "eid_info = one.get_details(eid)\n",
    "subject = eid_info['subject']\n",
    "date = eid_info['date']\n",
    "\n",
    "admin_time = df_infos[(df_infos['animal_ID'] == subject) & (df_infos['date'] == date)]['administration_time']"
   ]
  },
  {
   "cell_type": "code",
   "execution_count": 16,
   "id": "fdf759ff-01f7-4381-9065-06fc4e44c349",
   "metadata": {},
   "outputs": [],
   "source": [
    "def sessions_with_datasets(eids, datasets):\n",
    "    eids_with_datasets = {}\n",
    "    print('Proportion of sessions with')\n",
    "    for name, dataset in datasets.items():\n",
    "        has_dataset = [dataset in one.list_datasets(eid) for eid in eids]\n",
    "        n = np.array(has_dataset).sum()\n",
    "        prop = np.array(has_dataset).mean()\n",
    "        print(f'    {name}: {prop:.2f} ({n}/{len(eids)})')\n",
    "        eids_with_datasets[name] = np.array(eids)[has_dataset]\n",
    "    return eids_with_datasets"
   ]
  },
  {
   "cell_type": "code",
   "execution_count": 17,
   "id": "13bffbf2-70cd-4e8f-b902-7e9108098fe6",
   "metadata": {},
   "outputs": [
    {
     "name": "stdout",
     "output_type": "stream",
     "text": [
      "Proportion of sessions with\n",
      "    left_camera: 1.00 (28/28)\n",
      "    right_camera: 1.00 (28/28)\n",
      "    body_camera: 1.00 (28/28)\n"
     ]
    }
   ],
   "source": [
    "one.mode = 'local'\n",
    "datasets  = {\n",
    "    'left_camera':  'raw_video_data/_iblrig_leftCamera.raw.mp4',\n",
    "    'right_camera': 'raw_video_data/_iblrig_rightCamera.raw.mp4',\n",
    "    'body_camera':  'raw_video_data/_iblrig_bodyCamera.raw.mp4'\n",
    "}\n",
    "eids_vid = sessions_with_datasets(eids, datasets)"
   ]
  },
  {
   "cell_type": "code",
   "execution_count": 18,
   "id": "80343b31-688c-4f74-a970-b8901eb1339e",
   "metadata": {},
   "outputs": [
    {
     "name": "stdout",
     "output_type": "stream",
     "text": [
      "Proportion of sessions with\n"
     ]
    },
    {
     "name": "stdout",
     "output_type": "stream",
     "text": [
      "    left_ME: 0.96 (27/28)\n",
      "    right_ME: 0.96 (27/28)\n",
      "    body_ME: 0.96 (27/28)\n"
     ]
    }
   ],
   "source": [
    "datasets  = {\n",
    "    'left_ME':  'alf/leftCamera.ROIMotionEnergy.npy',\n",
    "    'right_ME': 'alf/rightCamera.ROIMotionEnergy.npy',\n",
    "    'body_ME':  'alf/bodyCamera.ROIMotionEnergy.npy'\n",
    "}\n",
    "eids_ME = sessions_with_datasets(eids, datasets)"
   ]
  },
  {
   "cell_type": "code",
   "execution_count": 19,
   "id": "7cc05c7a-6d0d-4b46-9add-fb5159e8f7a9",
   "metadata": {},
   "outputs": [
    {
     "name": "stdout",
     "output_type": "stream",
     "text": [
      "Proportion of sessions with\n",
      "    left_DLC: 0.96 (27/28)\n",
      "    right_DLC: 0.96 (27/28)\n",
      "    body_DLC: 0.96 (27/28)\n"
     ]
    }
   ],
   "source": [
    "datasets  = {\n",
    "    'left_DLC':  'alf/_ibl_leftCamera.dlc.pqt',\n",
    "    'right_DLC': 'alf/_ibl_rightCamera.dlc.pqt',\n",
    "    'body_DLC':  'alf/_ibl_bodyCamera.dlc.pqt'\n",
    "}\n",
    "eids_DLC = sessions_with_datasets(eids, datasets)"
   ]
  },
  {
   "cell_type": "code",
   "execution_count": 20,
   "id": "a5727f57-e594-4c9a-a5a9-080db76f528f",
   "metadata": {},
   "outputs": [
    {
     "ename": "SyntaxError",
     "evalue": "unterminated string literal (detected at line 2) (2752337143.py, line 2)",
     "output_type": "error",
     "traceback": [
      "\u001b[0;36m  Cell \u001b[0;32mIn[20], line 2\u001b[0;36m\u001b[0m\n\u001b[0;31m    print('Session with missing\u001b[0m\n\u001b[0m          ^\u001b[0m\n\u001b[0;31mSyntaxError\u001b[0m\u001b[0;31m:\u001b[0m unterminated string literal (detected at line 2)\n"
     ]
    }
   ],
   "source": [
    "eid_missing_data = np.setdiff1d(eids_vid['left_camera'], eids_ME['left_ME'])[0]\n",
    "print('Session with missing \n",
    "one.eid2ref(eid_vid_missing)"
   ]
  },
  {
   "cell_type": "code",
   "execution_count": 21,
   "id": "322ee905-bc7b-49db-9a49-92bdabc731fd",
   "metadata": {},
   "outputs": [
    {
     "name": "stdout",
     "output_type": "stream",
     "text": [
      "\u001b[36m2024-11-19 16:52:27 INFO     camera.py:399  Computing QC outcome for left camera, session d77dd225-f7a9-4d01-996b-82c3ae73d56c\u001b[0m\n",
      "\u001b[36m2024-11-19 16:52:27 INFO     camera.py:203  Gathering data for QC\u001b[0m\n"
     ]
    },
    {
     "ename": "FileNotFoundError",
     "evalue": "No ephys files found in /home/openlab/Downloads/ONE/alyx.internationalbrainlab.org/mainenlab/Subjects/ZFM-06296/2023-07-13/001",
     "output_type": "error",
     "traceback": [
      "\u001b[0;31m---------------------------------------------------------------------------\u001b[0m",
      "\u001b[0;31mFileNotFoundError\u001b[0m                         Traceback (most recent call last)",
      "Cell \u001b[0;32mIn[21], line 2\u001b[0m\n\u001b[1;32m      1\u001b[0m qc \u001b[38;5;241m=\u001b[39m CameraQC(one\u001b[38;5;241m.\u001b[39meid2path(eids[\u001b[38;5;241m0\u001b[39m]), \u001b[38;5;124m'\u001b[39m\u001b[38;5;124mleft\u001b[39m\u001b[38;5;124m'\u001b[39m, one\u001b[38;5;241m=\u001b[39mone)\n\u001b[0;32m----> 2\u001b[0m outcome, extended \u001b[38;5;241m=\u001b[39m \u001b[43mqc\u001b[49m\u001b[38;5;241;43m.\u001b[39;49m\u001b[43mrun\u001b[49m\u001b[43m(\u001b[49m\u001b[43m)\u001b[49m\n\u001b[1;32m      3\u001b[0m \u001b[38;5;28mprint\u001b[39m(\u001b[38;5;124mf\u001b[39m\u001b[38;5;124m'\u001b[39m\u001b[38;5;124mvideo QC = \u001b[39m\u001b[38;5;132;01m{\u001b[39;00moutcome\u001b[38;5;132;01m}\u001b[39;00m\u001b[38;5;124m'\u001b[39m)\n\u001b[1;32m      4\u001b[0m extended\n",
      "File \u001b[0;32m~/anaconda3/envs/iblenv/lib/python3.10/site-packages/ibllib/qc/camera.py:402\u001b[0m, in \u001b[0;36mCameraQC.run\u001b[0;34m(self, update, **kwargs)\u001b[0m\n\u001b[1;32m    400\u001b[0m namespace \u001b[38;5;241m=\u001b[39m \u001b[38;5;124mf\u001b[39m\u001b[38;5;124m'\u001b[39m\u001b[38;5;124mvideo\u001b[39m\u001b[38;5;132;01m{\u001b[39;00m\u001b[38;5;28mself\u001b[39m\u001b[38;5;241m.\u001b[39mlabel\u001b[38;5;241m.\u001b[39mcapitalize()\u001b[38;5;132;01m}\u001b[39;00m\u001b[38;5;124m'\u001b[39m\n\u001b[1;32m    401\u001b[0m \u001b[38;5;28;01mif\u001b[39;00m \u001b[38;5;28mall\u001b[39m(x \u001b[38;5;129;01mis\u001b[39;00m \u001b[38;5;28;01mNone\u001b[39;00m \u001b[38;5;28;01mfor\u001b[39;00m x \u001b[38;5;129;01min\u001b[39;00m \u001b[38;5;28mself\u001b[39m\u001b[38;5;241m.\u001b[39mdata\u001b[38;5;241m.\u001b[39mvalues()):\n\u001b[0;32m--> 402\u001b[0m     \u001b[38;5;28;43mself\u001b[39;49m\u001b[38;5;241;43m.\u001b[39;49m\u001b[43mload_data\u001b[49m\u001b[43m(\u001b[49m\u001b[38;5;241;43m*\u001b[39;49m\u001b[38;5;241;43m*\u001b[39;49m\u001b[43mkwargs\u001b[49m\u001b[43m)\u001b[49m\n\u001b[1;32m    403\u001b[0m \u001b[38;5;28;01mif\u001b[39;00m \u001b[38;5;28mself\u001b[39m\u001b[38;5;241m.\u001b[39mdata[\u001b[38;5;124m'\u001b[39m\u001b[38;5;124mframe_samples\u001b[39m\u001b[38;5;124m'\u001b[39m] \u001b[38;5;129;01mis\u001b[39;00m \u001b[38;5;28;01mNone\u001b[39;00m \u001b[38;5;129;01mor\u001b[39;00m \u001b[38;5;28mself\u001b[39m\u001b[38;5;241m.\u001b[39mdata[\u001b[38;5;124m'\u001b[39m\u001b[38;5;124mtimestamps\u001b[39m\u001b[38;5;124m'\u001b[39m] \u001b[38;5;129;01mis\u001b[39;00m \u001b[38;5;28;01mNone\u001b[39;00m:\n\u001b[1;32m    404\u001b[0m     \u001b[38;5;28;01mreturn\u001b[39;00m spec\u001b[38;5;241m.\u001b[39mQC\u001b[38;5;241m.\u001b[39mNOT_SET, {}\n",
      "File \u001b[0;32m~/anaconda3/envs/iblenv/lib/python3.10/site-packages/ibllib/qc/camera.py:222\u001b[0m, in \u001b[0;36mCameraQC.load_data\u001b[0;34m(self, extract_times, load_video)\u001b[0m\n\u001b[1;32m    220\u001b[0m ns \u001b[38;5;241m=\u001b[39m ns \u001b[38;5;129;01mor\u001b[39;00m \u001b[38;5;124m'\u001b[39m\u001b[38;5;124mspikeglx\u001b[39m\u001b[38;5;124m'\u001b[39m\n\u001b[1;32m    221\u001b[0m \u001b[38;5;28;01mif\u001b[39;00m ns \u001b[38;5;241m==\u001b[39m \u001b[38;5;124m'\u001b[39m\u001b[38;5;124mspikeglx\u001b[39m\u001b[38;5;124m'\u001b[39m:\n\u001b[0;32m--> 222\u001b[0m     sync, chmap \u001b[38;5;241m=\u001b[39m \u001b[43mephys_fpga\u001b[49m\u001b[38;5;241;43m.\u001b[39;49m\u001b[43mget_sync_and_chn_map\u001b[49m\u001b[43m(\u001b[49m\u001b[38;5;28;43mself\u001b[39;49m\u001b[38;5;241;43m.\u001b[39;49m\u001b[43msession_path\u001b[49m\u001b[43m,\u001b[49m\u001b[43m \u001b[49m\u001b[38;5;28;43mself\u001b[39;49m\u001b[38;5;241;43m.\u001b[39;49m\u001b[43msync_collection\u001b[49m\u001b[43m)\u001b[49m\n\u001b[1;32m    223\u001b[0m \u001b[38;5;28;01melif\u001b[39;00m ns \u001b[38;5;241m==\u001b[39m \u001b[38;5;124m'\u001b[39m\u001b[38;5;124mtimeline\u001b[39m\u001b[38;5;124m'\u001b[39m:\n\u001b[1;32m    224\u001b[0m     sync, chmap \u001b[38;5;241m=\u001b[39m load_timeline_sync_and_chmap(\u001b[38;5;28mself\u001b[39m\u001b[38;5;241m.\u001b[39msession_path \u001b[38;5;241m/\u001b[39m \u001b[38;5;28mself\u001b[39m\u001b[38;5;241m.\u001b[39msync_collection)\n",
      "File \u001b[0;32m~/anaconda3/envs/iblenv/lib/python3.10/site-packages/ibllib/io/extractors/ephys_fpga.py:1537\u001b[0m, in \u001b[0;36mget_sync_and_chn_map\u001b[0;34m(session_path, sync_collection)\u001b[0m\n\u001b[1;32m   1535\u001b[0m nidq_meta \u001b[38;5;241m=\u001b[39m \u001b[38;5;28mnext\u001b[39m(session_path\u001b[38;5;241m.\u001b[39mjoinpath(sync_collection)\u001b[38;5;241m.\u001b[39mglob(\u001b[38;5;124m'\u001b[39m\u001b[38;5;124m*nidq.meta\u001b[39m\u001b[38;5;124m'\u001b[39m), \u001b[38;5;28;01mNone\u001b[39;00m)\n\u001b[1;32m   1536\u001b[0m \u001b[38;5;28;01mif\u001b[39;00m \u001b[38;5;129;01mnot\u001b[39;00m nidq_meta:\n\u001b[0;32m-> 1537\u001b[0m     sync, chmap \u001b[38;5;241m=\u001b[39m \u001b[43mget_main_probe_sync\u001b[49m\u001b[43m(\u001b[49m\u001b[43msession_path\u001b[49m\u001b[43m)\u001b[49m\n\u001b[1;32m   1538\u001b[0m \u001b[38;5;28;01melse\u001b[39;00m:\n\u001b[1;32m   1539\u001b[0m     sync \u001b[38;5;241m=\u001b[39m load_sync(session_path, sync_collection)\n",
      "File \u001b[0;32m~/anaconda3/envs/iblenv/lib/python3.10/site-packages/ibllib/io/extractors/ephys_fpga.py:535\u001b[0m, in \u001b[0;36mget_main_probe_sync\u001b[0;34m(session_path, bin_exists)\u001b[0m\n\u001b[1;32m    533\u001b[0m ephys_files \u001b[38;5;241m=\u001b[39m _get_all_probes_sync(session_path, bin_exists\u001b[38;5;241m=\u001b[39mbin_exists)\n\u001b[1;32m    534\u001b[0m \u001b[38;5;28;01mif\u001b[39;00m \u001b[38;5;129;01mnot\u001b[39;00m ephys_files:\n\u001b[0;32m--> 535\u001b[0m     \u001b[38;5;28;01mraise\u001b[39;00m \u001b[38;5;167;01mFileNotFoundError\u001b[39;00m(\u001b[38;5;124mf\u001b[39m\u001b[38;5;124m\"\u001b[39m\u001b[38;5;124mNo ephys files found in \u001b[39m\u001b[38;5;132;01m{\u001b[39;00msession_path\u001b[38;5;132;01m}\u001b[39;00m\u001b[38;5;124m\"\u001b[39m)\n\u001b[1;32m    536\u001b[0m version \u001b[38;5;241m=\u001b[39m spikeglx\u001b[38;5;241m.\u001b[39mget_neuropixel_version_from_files(ephys_files)\n\u001b[1;32m    537\u001b[0m \u001b[38;5;28;01mif\u001b[39;00m version \u001b[38;5;241m==\u001b[39m \u001b[38;5;124m'\u001b[39m\u001b[38;5;124m3A\u001b[39m\u001b[38;5;124m'\u001b[39m:\n\u001b[1;32m    538\u001b[0m     \u001b[38;5;66;03m# the sync master is the probe with the most sync pulses\u001b[39;00m\n",
      "\u001b[0;31mFileNotFoundError\u001b[0m: No ephys files found in /home/openlab/Downloads/ONE/alyx.internationalbrainlab.org/mainenlab/Subjects/ZFM-06296/2023-07-13/001"
     ]
    }
   ],
   "source": [
    "qc = CameraQC(one.eid2path(eids[0]), 'left', one=one)\n",
    "outcome, extended = qc.run()\n",
    "print(f'video QC = {outcome}')\n",
    "extended"
   ]
  },
  {
   "cell_type": "code",
   "execution_count": 22,
   "id": "29b92cf3-6982-4a61-8fa8-9bdd4e3c5567",
   "metadata": {},
   "outputs": [
    {
     "name": "stderr",
     "output_type": "stream",
     "text": [
      "100%|██████████| 15/15.0 [00:12<00:00,  1.15it/s]\n"
     ]
    }
   ],
   "source": [
    "one.mode = 'remote'\n",
    "video_body = one.load_dataset(eids[0], '_iblrig_leftCamera.raw.mp4', collection='raw_video_data')"
   ]
  },
  {
   "cell_type": "code",
   "execution_count": 23,
   "id": "c7a92477-18db-436e-9f51-cf56f3a4885a",
   "metadata": {},
   "outputs": [
    {
     "data": {
      "text/plain": [
       "'d77dd225-f7a9-4d01-996b-82c3ae73d56c'"
      ]
     },
     "execution_count": 23,
     "metadata": {},
     "output_type": "execute_result"
    }
   ],
   "source": [
    "eid"
   ]
  },
  {
   "cell_type": "code",
   "execution_count": 24,
   "id": "b57447fd-ea9e-4e4d-8f99-0183208f845d",
   "metadata": {},
   "outputs": [
    {
     "name": "stderr",
     "output_type": "stream",
     "text": [
      "(S3) /home/openlab/Downloads/ONE/alyx.internationalbrainlab.org/mainenlab/Subjects/ZFM-06301/2023-07-11/001/alf/_ibl_bodyCamera.times.npy: 100%|██████████| 13.6M/13.6M [00:06<00:00, 2.18MB/s]\n"
     ]
    }
   ],
   "source": [
    "one.mode = 'remote'\n",
    "loader = SessionLoader(eid=eids[1], one=one)\n",
    "loader.load_pose()"
   ]
  },
  {
   "cell_type": "code",
   "execution_count": 25,
   "id": "6864d1de-6aab-41b9-9a26-9f2f11b1938c",
   "metadata": {},
   "outputs": [],
   "source": [
    "dx = np.diff(loader.pose['leftCamera']['nose_tip_x'])\n",
    "dy = np.diff(loader.pose['leftCamera']['nose_tip_y'])"
   ]
  },
  {
   "cell_type": "code",
   "execution_count": 43,
   "id": "db8f1561-f87e-44e1-8f62-e27ba2dcbd2b",
   "metadata": {},
   "outputs": [],
   "source": [
    "movement = np.sqrt(dx ** 2 + dy ** 2)"
   ]
  },
  {
   "cell_type": "code",
   "execution_count": 47,
   "id": "0a61ea41-6ff5-444b-bb5f-8732466602f4",
   "metadata": {},
   "outputs": [
    {
     "data": {
      "text/plain": [
       "[<matplotlib.lines.Line2D at 0x7a81c81866b0>]"
      ]
     },
     "execution_count": 47,
     "metadata": {},
     "output_type": "execute_result"
    },
    {
     "data": {
      "image/png": "[encoded data removed]",
      "text/plain": [
       "<Figure size 640x480 with 1 Axes>"
      ]
     },
     "metadata": {},
     "output_type": "display_data"
    }
   ],
   "source": [
    "from matplotlib import pyplot as plt\n",
    "plt.plot(movement[:10000])"
   ]
  },
  {
   "cell_type": "code",
   "execution_count": 31,
   "id": "538752ed-89b8-4806-840f-d5f228fc46d6",
   "metadata": {},
   "outputs": [
    {
     "data": {
      "text/plain": [
       "array([5.17430735, 1.36335754, 1.25472152, ..., 0.26682809, 0.41113803,\n",
       "       0.41113803])"
      ]
     },
     "execution_count": 31,
     "metadata": {},
     "output_type": "execute_result"
    }
   ],
   "source": [
    "one.load_dataset(eids[0], 'alf/bodyCamera.ROIMotionEnergy.npy')"
   ]
  },
  {
   "cell_type": "code",
   "execution_count": 26,
   "id": "ab9db9a8-1b73-456a-918f-552cc110ef4b",
   "metadata": {
    "scrolled": true
   },
   "outputs": [
    {
     "name": "stderr",
     "output_type": "stream",
     "text": [
      "(S3) /home/openlab/Downloads/ONE/alyx.internationalbrainlab.org/mainenlab/Subjects/ZFM-06296/2023-07-13/001/alf/leftCamera.ROIMotionEnergy.npy: 100%|██████████| 1.92M/1.92M [00:02<00:00, 742kB/s] \n",
      "(S3) /home/openlab/Downloads/ONE/alyx.internationalbrainlab.org/mainenlab/Subjects/ZFM-06296/2023-07-13/001/alf/_ibl_leftCamera.times.npy: 100%|██████████| 1.92M/1.92M [00:01<00:00, 1.09MB/s]\n",
      "(S3) /home/openlab/Downloads/ONE/alyx.internationalbrainlab.org/mainenlab/Subjects/ZFM-06296/2023-07-13/001/alf/_ibl_rightCamera.times.npy: 100%|██████████| 4.82M/4.82M [00:03<00:00, 1.25MB/s]\n",
      "(S3) /home/openlab/Downloads/ONE/alyx.internationalbrainlab.org/mainenlab/Subjects/ZFM-06296/2023-07-13/001/alf/rightCamera.ROIMotionEnergy.npy: 100%|██████████| 4.82M/4.82M [00:01<00:00, 3.05MB/s]\n",
      "(S3) /home/openlab/Downloads/ONE/alyx.internationalbrainlab.org/mainenlab/Subjects/ZFM-06296/2023-07-13/001/alf/bodyCamera.ROIMotionEnergy.npy: 100%|██████████| 13.5M/13.5M [00:06<00:00, 2.23MB/s]\n",
      "(S3) /home/openlab/Downloads/ONE/alyx.internationalbrainlab.org/mainenlab/Subjects/ZFM-06296/2023-07-13/001/alf/_ibl_bodyCamera.times.npy: 100%|██████████| 13.5M/13.5M [00:04<00:00, 3.30MB/s]\n",
      "(S3) /home/openlab/Downloads/ONE/alyx.internationalbrainlab.org/mainenlab/Subjects/ZFM-06301/2023-07-11/001/alf/leftCamera.ROIMotionEnergy.npy: 100%|██████████| 1.94M/1.94M [00:01<00:00, 1.65MB/s]\n",
      "(S3) /home/openlab/Downloads/ONE/alyx.internationalbrainlab.org/mainenlab/Subjects/ZFM-06301/2023-07-11/001/alf/rightCamera.ROIMotionEnergy.npy: 100%|██████████| 4.87M/4.87M [00:06<00:00, 784kB/s]\n",
      "(S3) /home/openlab/Downloads/ONE/alyx.internationalbrainlab.org/mainenlab/Subjects/ZFM-06301/2023-07-11/001/alf/bodyCamera.ROIMotionEnergy.npy: 100%|██████████| 13.6M/13.6M [00:14<00:00, 946kB/s] \n",
      "(S3) /home/openlab/Downloads/ONE/alyx.internationalbrainlab.org/mainenlab/Subjects/ZFM-06048/2023-05-31/001/alf/leftCamera.ROIMotionEnergy.npy: 100%|██████████| 1.86M/1.86M [00:02<00:00, 856kB/s] \n",
      "(S3) /home/openlab/Downloads/ONE/alyx.internationalbrainlab.org/mainenlab/Subjects/ZFM-06187/2023-05-30/001/alf/leftCamera.ROIMotionEnergy.npy: 100%|██████████| 1.96M/1.96M [00:03<00:00, 614kB/s]\n",
      "(S3) /home/openlab/Downloads/ONE/alyx.internationalbrainlab.org/mainenlab/Subjects/ZFM-06187/2023-05-30/001/alf/_ibl_leftCamera.times.npy: 100%|██████████| 1.96M/1.96M [00:03<00:00, 564kB/s]\n",
      "(S3) /home/openlab/Downloads/ONE/alyx.internationalbrainlab.org/mainenlab/Subjects/ZFM-06187/2023-05-30/001/alf/rightCamera.ROIMotionEnergy.npy: 100%|██████████| 4.93M/4.93M [00:08<00:00, 595kB/s]\n",
      "(S3) /home/openlab/Downloads/ONE/alyx.internationalbrainlab.org/mainenlab/Subjects/ZFM-06187/2023-05-30/001/alf/_ibl_rightCamera.times.npy: 100%|██████████| 4.93M/4.93M [00:08<00:00, 598kB/s]\n",
      "(S3) /home/openlab/Downloads/ONE/alyx.internationalbrainlab.org/mainenlab/Subjects/ZFM-06187/2023-05-30/001/alf/_ibl_bodyCamera.times.npy: 100%|██████████| 13.8M/13.8M [00:12<00:00, 1.09MB/s]\n",
      "(S3) /home/openlab/Downloads/ONE/alyx.internationalbrainlab.org/mainenlab/Subjects/ZFM-06187/2023-05-30/001/alf/bodyCamera.ROIMotionEnergy.npy: 100%|██████████| 13.8M/13.8M [00:12<00:00, 1.09MB/s]\n",
      "(S3) /home/openlab/Downloads/ONE/alyx.internationalbrainlab.org/mainenlab/Subjects/SQL-15020/2023-04-04/001/alf/leftCamera.ROIMotionEnergy.npy: 100%|██████████| 1.91M/1.91M [00:02<00:00, 665kB/s]\n",
      "(S3) /home/openlab/Downloads/ONE/alyx.internationalbrainlab.org/mainenlab/Subjects/SQL-15020/2023-04-04/001/alf/_ibl_leftCamera.times.npy: 100%|██████████| 1.91M/1.91M [00:02<00:00, 693kB/s]\n",
      "(S3) /home/openlab/Downloads/ONE/alyx.internationalbrainlab.org/mainenlab/Subjects/SQL-15020/2023-04-04/001/alf/rightCamera.ROIMotionEnergy.npy: 100%|██████████| 4.80M/4.80M [00:04<00:00, 998kB/s] \n",
      "(S3) /home/openlab/Downloads/ONE/alyx.internationalbrainlab.org/mainenlab/Subjects/SQL-15020/2023-04-04/001/alf/_ibl_rightCamera.times.npy: 100%|██████████| 4.80M/4.80M [00:02<00:00, 1.97MB/s]\n",
      "(S3) /home/openlab/Downloads/ONE/alyx.internationalbrainlab.org/mainenlab/Subjects/SQL-15020/2023-04-04/001/alf/bodyCamera.ROIMotionEnergy.npy: 100%|██████████| 13.4M/13.4M [00:13<00:00, 1.03MB/s]\n",
      "(S3) /home/openlab/Downloads/ONE/alyx.internationalbrainlab.org/mainenlab/Subjects/SQL-15020/2023-04-04/001/alf/_ibl_bodyCamera.times.npy: 100%|██████████| 13.4M/13.4M [00:12<00:00, 1.06MB/s]\n",
      "(S3) /home/openlab/Downloads/ONE/alyx.internationalbrainlab.org/mainenlab/Subjects/SQL-15020/2023-03-21/001/alf/_ibl_leftCamera.times.npy: 100%|██████████| 1.87M/1.87M [00:02<00:00, 931kB/s] \n",
      "(S3) /home/openlab/Downloads/ONE/alyx.internationalbrainlab.org/mainenlab/Subjects/SQL-15020/2023-03-21/001/alf/leftCamera.ROIMotionEnergy.npy: 100%|██████████| 1.87M/1.87M [00:01<00:00, 1.62MB/s]\n",
      "(S3) /home/openlab/Downloads/ONE/alyx.internationalbrainlab.org/mainenlab/Subjects/SQL-15020/2023-03-21/001/alf/_ibl_rightCamera.times.npy: 100%|██████████| 4.69M/4.69M [00:04<00:00, 1.16MB/s]\n",
      "(S3) /home/openlab/Downloads/ONE/alyx.internationalbrainlab.org/mainenlab/Subjects/SQL-15020/2023-03-21/001/alf/rightCamera.ROIMotionEnergy.npy: 100%|██████████| 4.69M/4.69M [00:02<00:00, 1.75MB/s]\n",
      "(S3) /home/openlab/Downloads/ONE/alyx.internationalbrainlab.org/mainenlab/Subjects/SQL-15020/2023-03-21/001/alf/bodyCamera.ROIMotionEnergy.npy: 100%|██████████| 13.1M/13.1M [00:13<00:00, 998kB/s] \n",
      "(S3) /home/openlab/Downloads/ONE/alyx.internationalbrainlab.org/mainenlab/Subjects/SQL-15020/2023-03-21/001/alf/_ibl_bodyCamera.times.npy: 100%|██████████| 13.1M/13.1M [00:12<00:00, 1.04MB/s]\n",
      "(S3) /home/openlab/Downloads/ONE/alyx.internationalbrainlab.org/mainenlab/Subjects/ZFM-05727/2023-02-08/001/alf/leftCamera.ROIMotionEnergy.npy: 100%|██████████| 1.87M/1.87M [00:02<00:00, 723kB/s]\n",
      "(S3) /home/openlab/Downloads/ONE/alyx.internationalbrainlab.org/mainenlab/Subjects/ZFM-05727/2023-02-08/001/alf/_ibl_leftCamera.times.npy: 100%|██████████| 1.87M/1.87M [00:01<00:00, 1.24MB/s]\n",
      "(S3) /home/openlab/Downloads/ONE/alyx.internationalbrainlab.org/mainenlab/Subjects/ZFM-05727/2023-02-08/001/alf/rightCamera.ROIMotionEnergy.npy: 100%|██████████| 4.68M/4.68M [00:03<00:00, 1.48MB/s]\n",
      "(S3) /home/openlab/Downloads/ONE/alyx.internationalbrainlab.org/mainenlab/Subjects/ZFM-05727/2023-02-08/001/alf/_ibl_rightCamera.times.npy: 100%|██████████| 4.68M/4.68M [00:02<00:00, 2.27MB/s]\n",
      "(S3) /home/openlab/Downloads/ONE/alyx.internationalbrainlab.org/mainenlab/Subjects/ZFM-05727/2023-02-08/001/alf/bodyCamera.ROIMotionEnergy.npy: 100%|██████████| 13.1M/13.1M [00:07<00:00, 1.71MB/s]\n",
      "(S3) /home/openlab/Downloads/ONE/alyx.internationalbrainlab.org/mainenlab/Subjects/ZFM-05727/2023-02-08/001/alf/_ibl_bodyCamera.times.npy: 100%|██████████| 13.1M/13.1M [00:04<00:00, 2.89MB/s]\n",
      "(S3) /home/openlab/Downloads/ONE/alyx.internationalbrainlab.org/mainenlab/Subjects/ZFM-05725/2023-02-07/001/alf/leftCamera.ROIMotionEnergy.npy: 100%|██████████| 1.87M/1.87M [00:02<00:00, 725kB/s]\n",
      "(S3) /home/openlab/Downloads/ONE/alyx.internationalbrainlab.org/mainenlab/Subjects/ZFM-05725/2023-02-07/001/alf/_ibl_leftCamera.times.npy: 100%|██████████| 1.87M/1.87M [00:01<00:00, 1.06MB/s]\n",
      "(S3) /home/openlab/Downloads/ONE/alyx.internationalbrainlab.org/mainenlab/Subjects/ZFM-05725/2023-02-07/001/alf/_ibl_rightCamera.times.npy: 100%|██████████| 4.70M/4.70M [00:04<00:00, 1.04MB/s]\n",
      "(S3) /home/openlab/Downloads/ONE/alyx.internationalbrainlab.org/mainenlab/Subjects/ZFM-05725/2023-02-07/001/alf/rightCamera.ROIMotionEnergy.npy: 100%|██████████| 4.70M/4.70M [00:01<00:00, 2.81MB/s]\n",
      "(S3) /home/openlab/Downloads/ONE/alyx.internationalbrainlab.org/mainenlab/Subjects/ZFM-05725/2023-02-07/001/alf/bodyCamera.ROIMotionEnergy.npy: 100%|██████████| 13.1M/13.1M [00:06<00:00, 1.90MB/s]\n",
      "(S3) /home/openlab/Downloads/ONE/alyx.internationalbrainlab.org/mainenlab/Subjects/ZFM-05725/2023-02-07/001/alf/_ibl_bodyCamera.times.npy: 100%|██████████| 13.1M/13.1M [00:06<00:00, 2.01MB/s]\n",
      "(S3) /home/openlab/Downloads/ONE/alyx.internationalbrainlab.org/mainenlab/Subjects/ZFM-05727/2023-02-01/001/alf/_ibl_leftCamera.times.npy: 100%|██████████| 1.85M/1.85M [00:01<00:00, 1.32MB/s]\n",
      "(S3) /home/openlab/Downloads/ONE/alyx.internationalbrainlab.org/mainenlab/Subjects/ZFM-05727/2023-02-01/001/alf/leftCamera.ROIMotionEnergy.npy: 100%|██████████| 1.85M/1.85M [00:00<00:00, 2.03MB/s]\n",
      "(S3) /home/openlab/Downloads/ONE/alyx.internationalbrainlab.org/mainenlab/Subjects/ZFM-05727/2023-02-01/001/alf/_ibl_rightCamera.times.npy: 100%|██████████| 4.64M/4.64M [00:04<00:00, 1.05MB/s]\n",
      "(S3) /home/openlab/Downloads/ONE/alyx.internationalbrainlab.org/mainenlab/Subjects/ZFM-05727/2023-02-01/001/alf/rightCamera.ROIMotionEnergy.npy: 100%|██████████| 4.64M/4.64M [00:02<00:00, 1.86MB/s]\n",
      "(S3) /home/openlab/Downloads/ONE/alyx.internationalbrainlab.org/mainenlab/Subjects/ZFM-05727/2023-02-01/001/alf/bodyCamera.ROIMotionEnergy.npy: 100%|██████████| 13.0M/13.0M [00:03<00:00, 3.29MB/s]\n",
      "(S3) /home/openlab/Downloads/ONE/alyx.internationalbrainlab.org/mainenlab/Subjects/ZFM-05727/2023-02-01/001/alf/_ibl_bodyCamera.times.npy: 100%|██████████| 13.0M/13.0M [00:03<00:00, 4.19MB/s]\n",
      "(S3) /home/openlab/Downloads/ONE/alyx.internationalbrainlab.org/mainenlab/Subjects/ZFM-05725/2023-01-31/001/alf/leftCamera.ROIMotionEnergy.npy: 100%|██████████| 1.85M/1.85M [00:02<00:00, 746kB/s] \n",
      "(S3) /home/openlab/Downloads/ONE/alyx.internationalbrainlab.org/mainenlab/Subjects/ZFM-05486/2022-12-07/001/alf/leftCamera.ROIMotionEnergy.npy: 100%|██████████| 1.96M/1.96M [00:02<00:00, 790kB/s] \n"
     ]
    }
   ],
   "source": [
    "import logging\n",
    "logging.basicConfig(filename='fetch.log', level=logging.INFO, format='%(asctime)s - %(name)s - %(levelname)s - %(message)s')\n",
    "logger = logging.getLogger(__name__)\n",
    "\n",
    "# Download motion energy (and camera tpts)\n",
    "one.mode = 'auto'\n",
    "for eid in eids:\n",
    "    logger.info(f'\\nSESSION: {eid}')\n",
    "    loader = SessionLoader(eid=eid, one=one)\n",
    "    try:\n",
    "        loader.load_motion_energy()\n",
    "    except KeyError as exception:\n",
    "        logger.exception(f'Error loading motion energy for session {eid}: {exception}')"
   ]
  },
  {
   "cell_type": "code",
   "execution_count": 27,
   "id": "30905749-ed42-4bd8-8037-d0fcf4c11520",
   "metadata": {},
   "outputs": [
    {
     "data": {
      "text/html": [
       "<div>\n",
       "<style scoped>\n",
       "    .dataframe tbody tr th:only-of-type {\n",
       "        vertical-align: middle;\n",
       "    }\n",
       "\n",
       "    .dataframe tbody tr th {\n",
       "        vertical-align: top;\n",
       "    }\n",
       "\n",
       "    .dataframe thead th {\n",
       "        text-align: right;\n",
       "    }\n",
       "</style>\n",
       "<table border=\"1\" class=\"dataframe\">\n",
       "  <thead>\n",
       "    <tr style=\"text-align: right;\">\n",
       "      <th></th>\n",
       "      <th>rec_day</th>\n",
       "      <th>date</th>\n",
       "      <th>animal_ID</th>\n",
       "      <th>weight</th>\n",
       "      <th>stock_uL</th>\n",
       "      <th>saline_uL</th>\n",
       "      <th>administration_method</th>\n",
       "      <th>administration_time</th>\n",
       "      <th>alyx_registration</th>\n",
       "    </tr>\n",
       "  </thead>\n",
       "  <tbody>\n",
       "    <tr>\n",
       "      <th>0</th>\n",
       "      <td>1</td>\n",
       "      <td>07.12.2022</td>\n",
       "      <td>ZFM-05486</td>\n",
       "      <td>28.8</td>\n",
       "      <td>86.4</td>\n",
       "      <td>113.6</td>\n",
       "      <td>Catheter</td>\n",
       "      <td>0:20:00</td>\n",
       "      <td>Error</td>\n",
       "    </tr>\n",
       "    <tr>\n",
       "      <th>1</th>\n",
       "      <td>1</td>\n",
       "      <td>08.12.2022</td>\n",
       "      <td>ZFM-05496</td>\n",
       "      <td>23.1</td>\n",
       "      <td>69.3</td>\n",
       "      <td>130.7</td>\n",
       "      <td>Catheter</td>\n",
       "      <td>0:18:15</td>\n",
       "      <td>Completed</td>\n",
       "    </tr>\n",
       "    <tr>\n",
       "      <th>2</th>\n",
       "      <td>2</td>\n",
       "      <td>15.12.2022</td>\n",
       "      <td>ZFM-05486</td>\n",
       "      <td>29.3</td>\n",
       "      <td>87.9</td>\n",
       "      <td>112.1</td>\n",
       "      <td>Catheter</td>\n",
       "      <td>0:19:33</td>\n",
       "      <td>Completed</td>\n",
       "    </tr>\n",
       "    <tr>\n",
       "      <th>3</th>\n",
       "      <td>2</td>\n",
       "      <td>15.12.2022</td>\n",
       "      <td>ZFM-05496</td>\n",
       "      <td>23.6</td>\n",
       "      <td>70.8</td>\n",
       "      <td>129.2</td>\n",
       "      <td>Catheter</td>\n",
       "      <td>0:18:20</td>\n",
       "      <td>Error</td>\n",
       "    </tr>\n",
       "    <tr>\n",
       "      <th>4</th>\n",
       "      <td>1</td>\n",
       "      <td>24.01.2023</td>\n",
       "      <td>ZFM-05725</td>\n",
       "      <td>27.2</td>\n",
       "      <td>81.6</td>\n",
       "      <td>118.4</td>\n",
       "      <td>Catheter</td>\n",
       "      <td>0:20:21</td>\n",
       "      <td>Completed</td>\n",
       "    </tr>\n",
       "    <tr>\n",
       "      <th>5</th>\n",
       "      <td>1</td>\n",
       "      <td>25.01.2023</td>\n",
       "      <td>ZFM-05727</td>\n",
       "      <td>27.3</td>\n",
       "      <td>81.9</td>\n",
       "      <td>118.1</td>\n",
       "      <td>Catheter</td>\n",
       "      <td>0:17:11</td>\n",
       "      <td>Completed</td>\n",
       "    </tr>\n",
       "    <tr>\n",
       "      <th>6</th>\n",
       "      <td>2</td>\n",
       "      <td>31.01.2023</td>\n",
       "      <td>ZFM-05725</td>\n",
       "      <td>27.3</td>\n",
       "      <td>81.9</td>\n",
       "      <td>118.1</td>\n",
       "      <td>Catheter</td>\n",
       "      <td>0:17:43</td>\n",
       "      <td>Completed</td>\n",
       "    </tr>\n",
       "    <tr>\n",
       "      <th>7</th>\n",
       "      <td>2</td>\n",
       "      <td>01.02.2023</td>\n",
       "      <td>ZFM-05727</td>\n",
       "      <td>27.4</td>\n",
       "      <td>82.2</td>\n",
       "      <td>117.9</td>\n",
       "      <td>Catheter</td>\n",
       "      <td>0:17:48</td>\n",
       "      <td>Completed</td>\n",
       "    </tr>\n",
       "    <tr>\n",
       "      <th>8</th>\n",
       "      <td>3</td>\n",
       "      <td>07.02.2023</td>\n",
       "      <td>ZFM-05725</td>\n",
       "      <td>28.2</td>\n",
       "      <td>84.6</td>\n",
       "      <td>115.4</td>\n",
       "      <td>Catheter</td>\n",
       "      <td>0:18:08</td>\n",
       "      <td>Completed</td>\n",
       "    </tr>\n",
       "    <tr>\n",
       "      <th>9</th>\n",
       "      <td>3</td>\n",
       "      <td>08.02.2023</td>\n",
       "      <td>ZFM-05727</td>\n",
       "      <td>27.5</td>\n",
       "      <td>82.5</td>\n",
       "      <td>117.5</td>\n",
       "      <td>Catheter</td>\n",
       "      <td>0:17:45</td>\n",
       "      <td>Completed</td>\n",
       "    </tr>\n",
       "    <tr>\n",
       "      <th>10</th>\n",
       "      <td>1</td>\n",
       "      <td>22.03.2023</td>\n",
       "      <td>ZFM-05989</td>\n",
       "      <td>22.9</td>\n",
       "      <td>68.7</td>\n",
       "      <td>131.3</td>\n",
       "      <td>Catheter</td>\n",
       "      <td>0:18:41</td>\n",
       "      <td>Completed</td>\n",
       "    </tr>\n",
       "    <tr>\n",
       "      <th>11</th>\n",
       "      <td>1</td>\n",
       "      <td>21.03.2023</td>\n",
       "      <td>SQL-15020</td>\n",
       "      <td>21.6</td>\n",
       "      <td>64.8</td>\n",
       "      <td>135.2</td>\n",
       "      <td>Catheter</td>\n",
       "      <td>0:18:15</td>\n",
       "      <td>Completed</td>\n",
       "    </tr>\n",
       "    <tr>\n",
       "      <th>12</th>\n",
       "      <td>2</td>\n",
       "      <td>28.03.2023</td>\n",
       "      <td>SQL-15020</td>\n",
       "      <td>22.0</td>\n",
       "      <td>66.0</td>\n",
       "      <td>134.0</td>\n",
       "      <td>Catheter</td>\n",
       "      <td>0:17:45</td>\n",
       "      <td>Completed</td>\n",
       "    </tr>\n",
       "    <tr>\n",
       "      <th>13</th>\n",
       "      <td>3</td>\n",
       "      <td>05.04.2023</td>\n",
       "      <td>ZFM-05989</td>\n",
       "      <td>23.4</td>\n",
       "      <td>70.2</td>\n",
       "      <td>129.8</td>\n",
       "      <td>Catheter</td>\n",
       "      <td>0:17:53</td>\n",
       "      <td>Completed</td>\n",
       "    </tr>\n",
       "    <tr>\n",
       "      <th>14</th>\n",
       "      <td>3</td>\n",
       "      <td>04.04.2023</td>\n",
       "      <td>SQL-15020</td>\n",
       "      <td>22.7</td>\n",
       "      <td>68.1</td>\n",
       "      <td>131.9</td>\n",
       "      <td>Catheter</td>\n",
       "      <td>0:17:53</td>\n",
       "      <td>Completed</td>\n",
       "    </tr>\n",
       "    <tr>\n",
       "      <th>15</th>\n",
       "      <td>1</td>\n",
       "      <td>16.05.2023</td>\n",
       "      <td>ZFM-06187</td>\n",
       "      <td>29.9</td>\n",
       "      <td>89.7</td>\n",
       "      <td>110.3</td>\n",
       "      <td>Catheter</td>\n",
       "      <td>0:18:25</td>\n",
       "      <td>Completed</td>\n",
       "    </tr>\n",
       "    <tr>\n",
       "      <th>16</th>\n",
       "      <td>1</td>\n",
       "      <td>17.05.2023</td>\n",
       "      <td>ZFM-06048</td>\n",
       "      <td>30.7</td>\n",
       "      <td>92.1</td>\n",
       "      <td>107.9</td>\n",
       "      <td>Catheter</td>\n",
       "      <td>0:18:20</td>\n",
       "      <td>Error</td>\n",
       "    </tr>\n",
       "    <tr>\n",
       "      <th>17</th>\n",
       "      <td>1</td>\n",
       "      <td>18.05.2023</td>\n",
       "      <td>ZFM-06047</td>\n",
       "      <td>30.1</td>\n",
       "      <td>90.3</td>\n",
       "      <td>109.7</td>\n",
       "      <td>Catheter</td>\n",
       "      <td>0:19:06</td>\n",
       "      <td>Completed</td>\n",
       "    </tr>\n",
       "    <tr>\n",
       "      <th>18</th>\n",
       "      <td>2</td>\n",
       "      <td>23.05.2023</td>\n",
       "      <td>ZFM-06187</td>\n",
       "      <td>31.0</td>\n",
       "      <td>93.0</td>\n",
       "      <td>107.0</td>\n",
       "      <td>Catheter</td>\n",
       "      <td>0:17:56</td>\n",
       "      <td>Completed</td>\n",
       "    </tr>\n",
       "    <tr>\n",
       "      <th>19</th>\n",
       "      <td>2</td>\n",
       "      <td>24.05.2023</td>\n",
       "      <td>ZFM-06048</td>\n",
       "      <td>30.9</td>\n",
       "      <td>92.7</td>\n",
       "      <td>107.3</td>\n",
       "      <td>Catheter</td>\n",
       "      <td>0:17:57</td>\n",
       "      <td>Completed</td>\n",
       "    </tr>\n",
       "    <tr>\n",
       "      <th>20</th>\n",
       "      <td>3</td>\n",
       "      <td>30.05.2023</td>\n",
       "      <td>ZFM-06187</td>\n",
       "      <td>30.9</td>\n",
       "      <td>92.7</td>\n",
       "      <td>107.3</td>\n",
       "      <td>Catheter</td>\n",
       "      <td>0:18:14</td>\n",
       "      <td>Completed</td>\n",
       "    </tr>\n",
       "    <tr>\n",
       "      <th>21</th>\n",
       "      <td>3</td>\n",
       "      <td>31.05.2023</td>\n",
       "      <td>ZFM-06048</td>\n",
       "      <td>31.0</td>\n",
       "      <td>93.0</td>\n",
       "      <td>107.0</td>\n",
       "      <td>Catheter</td>\n",
       "      <td>0:17:51</td>\n",
       "      <td>Completed</td>\n",
       "    </tr>\n",
       "    <tr>\n",
       "      <th>22</th>\n",
       "      <td>1</td>\n",
       "      <td>27.06.2023</td>\n",
       "      <td>ZFM-06301</td>\n",
       "      <td>22.8</td>\n",
       "      <td>68.4</td>\n",
       "      <td>131.6</td>\n",
       "      <td>Catheter</td>\n",
       "      <td>0:20:40</td>\n",
       "      <td>Completed</td>\n",
       "    </tr>\n",
       "    <tr>\n",
       "      <th>23</th>\n",
       "      <td>1</td>\n",
       "      <td>28.06.2023</td>\n",
       "      <td>ZFM-06373</td>\n",
       "      <td>29.5</td>\n",
       "      <td>88.5</td>\n",
       "      <td>111.5</td>\n",
       "      <td>Catheter</td>\n",
       "      <td>0:17:48</td>\n",
       "      <td>Completed</td>\n",
       "    </tr>\n",
       "    <tr>\n",
       "      <th>24</th>\n",
       "      <td>1</td>\n",
       "      <td>29.06.2023</td>\n",
       "      <td>ZFM-06296</td>\n",
       "      <td>29.0</td>\n",
       "      <td>87.0</td>\n",
       "      <td>113.0</td>\n",
       "      <td>Catheter</td>\n",
       "      <td>0:19:16</td>\n",
       "      <td>No IMEC sync file</td>\n",
       "    </tr>\n",
       "    <tr>\n",
       "      <th>25</th>\n",
       "      <td>2</td>\n",
       "      <td>04.07.2023</td>\n",
       "      <td>ZFM-06301</td>\n",
       "      <td>22.2</td>\n",
       "      <td>66.6</td>\n",
       "      <td>133.4</td>\n",
       "      <td>Catheter</td>\n",
       "      <td>0:24:07</td>\n",
       "      <td>Completed</td>\n",
       "    </tr>\n",
       "    <tr>\n",
       "      <th>26</th>\n",
       "      <td>2</td>\n",
       "      <td>05.07.2023</td>\n",
       "      <td>ZFM-06373</td>\n",
       "      <td>29.6</td>\n",
       "      <td>88.8</td>\n",
       "      <td>11.2</td>\n",
       "      <td>Catheter</td>\n",
       "      <td>0:17:34</td>\n",
       "      <td>Completed</td>\n",
       "    </tr>\n",
       "    <tr>\n",
       "      <th>27</th>\n",
       "      <td>2</td>\n",
       "      <td>06.07.2023</td>\n",
       "      <td>ZFM-06296</td>\n",
       "      <td>22.0</td>\n",
       "      <td>66.0</td>\n",
       "      <td>134.0</td>\n",
       "      <td>Catheter</td>\n",
       "      <td>0:19:44</td>\n",
       "      <td>Error</td>\n",
       "    </tr>\n",
       "    <tr>\n",
       "      <th>28</th>\n",
       "      <td>3</td>\n",
       "      <td>11.07.2023</td>\n",
       "      <td>ZFM-06301</td>\n",
       "      <td>22.6</td>\n",
       "      <td>67.8</td>\n",
       "      <td>132.2</td>\n",
       "      <td>Catheter</td>\n",
       "      <td>0:18:31</td>\n",
       "      <td>Completed</td>\n",
       "    </tr>\n",
       "    <tr>\n",
       "      <th>29</th>\n",
       "      <td>3</td>\n",
       "      <td>13.07.2023</td>\n",
       "      <td>ZFM-06296</td>\n",
       "      <td>28.9</td>\n",
       "      <td>86.7</td>\n",
       "      <td>113.3</td>\n",
       "      <td>Catheter</td>\n",
       "      <td>0:17:27</td>\n",
       "      <td>missing</td>\n",
       "    </tr>\n",
       "  </tbody>\n",
       "</table>\n",
       "</div>"
      ],
      "text/plain": [
       "    rec_day        date  animal_ID  weight  stock_uL  saline_uL  \\\n",
       "0         1  07.12.2022  ZFM-05486    28.8      86.4      113.6   \n",
       "1         1  08.12.2022  ZFM-05496    23.1      69.3      130.7   \n",
       "2         2  15.12.2022  ZFM-05486    29.3      87.9      112.1   \n",
       "3         2  15.12.2022  ZFM-05496    23.6      70.8      129.2   \n",
       "4         1  24.01.2023  ZFM-05725    27.2      81.6      118.4   \n",
       "5         1  25.01.2023  ZFM-05727    27.3      81.9      118.1   \n",
       "6         2  31.01.2023  ZFM-05725    27.3      81.9      118.1   \n",
       "7         2  01.02.2023  ZFM-05727    27.4      82.2      117.9   \n",
       "8         3  07.02.2023  ZFM-05725    28.2      84.6      115.4   \n",
       "9         3  08.02.2023  ZFM-05727    27.5      82.5      117.5   \n",
       "10        1  22.03.2023  ZFM-05989    22.9      68.7      131.3   \n",
       "11        1  21.03.2023  SQL-15020    21.6      64.8      135.2   \n",
       "12        2  28.03.2023  SQL-15020    22.0      66.0      134.0   \n",
       "13        3  05.04.2023  ZFM-05989    23.4      70.2      129.8   \n",
       "14        3  04.04.2023  SQL-15020    22.7      68.1      131.9   \n",
       "15        1  16.05.2023  ZFM-06187    29.9      89.7      110.3   \n",
       "16        1  17.05.2023  ZFM-06048    30.7      92.1      107.9   \n",
       "17        1  18.05.2023  ZFM-06047    30.1      90.3      109.7   \n",
       "18        2  23.05.2023  ZFM-06187    31.0      93.0      107.0   \n",
       "19        2  24.05.2023  ZFM-06048    30.9      92.7      107.3   \n",
       "20        3  30.05.2023  ZFM-06187    30.9      92.7      107.3   \n",
       "21        3  31.05.2023  ZFM-06048    31.0      93.0      107.0   \n",
       "22        1  27.06.2023  ZFM-06301    22.8      68.4      131.6   \n",
       "23        1  28.06.2023  ZFM-06373    29.5      88.5      111.5   \n",
       "24        1  29.06.2023  ZFM-06296    29.0      87.0      113.0   \n",
       "25        2  04.07.2023  ZFM-06301    22.2      66.6      133.4   \n",
       "26        2  05.07.2023  ZFM-06373    29.6      88.8       11.2   \n",
       "27        2  06.07.2023  ZFM-06296    22.0      66.0      134.0   \n",
       "28        3  11.07.2023  ZFM-06301    22.6      67.8      132.2   \n",
       "29        3  13.07.2023  ZFM-06296    28.9      86.7      113.3   \n",
       "\n",
       "   administration_method  administration_time  alyx_registration  \n",
       "0               Catheter              0:20:00              Error  \n",
       "1               Catheter              0:18:15          Completed  \n",
       "2               Catheter              0:19:33          Completed  \n",
       "3               Catheter              0:18:20              Error  \n",
       "4               Catheter              0:20:21          Completed  \n",
       "5               Catheter              0:17:11          Completed  \n",
       "6               Catheter              0:17:43          Completed  \n",
       "7               Catheter              0:17:48          Completed  \n",
       "8               Catheter              0:18:08          Completed  \n",
       "9               Catheter              0:17:45          Completed  \n",
       "10              Catheter              0:18:41          Completed  \n",
       "11              Catheter              0:18:15          Completed  \n",
       "12              Catheter              0:17:45          Completed  \n",
       "13              Catheter              0:17:53          Completed  \n",
       "14              Catheter              0:17:53          Completed  \n",
       "15              Catheter              0:18:25          Completed  \n",
       "16              Catheter              0:18:20              Error  \n",
       "17              Catheter              0:19:06          Completed  \n",
       "18              Catheter              0:17:56          Completed  \n",
       "19              Catheter              0:17:57          Completed  \n",
       "20              Catheter              0:18:14          Completed  \n",
       "21              Catheter              0:17:51          Completed  \n",
       "22              Catheter              0:20:40          Completed  \n",
       "23              Catheter              0:17:48          Completed  \n",
       "24              Catheter              0:19:16  No IMEC sync file  \n",
       "25              Catheter              0:24:07          Completed  \n",
       "26              Catheter              0:17:34          Completed  \n",
       "27              Catheter              0:19:44              Error  \n",
       "28              Catheter              0:18:31          Completed  \n",
       "29              Catheter              0:17:27            missing  "
      ]
     },
     "execution_count": 27,
     "metadata": {},
     "output_type": "execute_result"
    }
   ],
   "source": [
    "import pandas as pd\n",
    "pd.read_csv('recordings.csv')"
   ]
  },
  {
   "cell_type": "code",
   "execution_count": 28,
   "id": "eeb388c5-fec2-4835-85ff-aaf9a23f0bc2",
   "metadata": {},
   "outputs": [],
   "source": [
    "one.mode = 'remote'\n",
    "pids = np.concatenate([one.eid2pid(eid)[0] for eid in eids])"
   ]
  },
  {
   "cell_type": "code",
   "execution_count": null,
   "id": "28c76617-8f54-4f3f-985f-8cb5b68e72a3",
   "metadata": {},
   "outputs": [],
   "source": [
    "ssl = SpikeSortingLoader(one=one, pid=pid, atlas=AllenAtlas(res_um=10))\n",
    "spikes, clusters, channels = ssl.load_spike_sorting()\n",
    "clusters = ssl.merge_clusters(spikes, clusters, channels)"
   ]
  },
  {
   "cell_type": "code",
   "execution_count": 85,
   "id": "1a7e2657-6d94-41b9-b965-17ab59160a01",
   "metadata": {},
   "outputs": [
    {
     "data": {
      "text/plain": [
       "\u001b[0;31mInit signature:\u001b[0m \u001b[0mAllenAtlas\u001b[0m\u001b[0;34m(\u001b[0m\u001b[0mres_um\u001b[0m\u001b[0;34m=\u001b[0m\u001b[0;36m25\u001b[0m\u001b[0;34m,\u001b[0m \u001b[0mscaling\u001b[0m\u001b[0;34m=\u001b[0m\u001b[0;34m(\u001b[0m\u001b[0;36m1\u001b[0m\u001b[0;34m,\u001b[0m \u001b[0;36m1\u001b[0m\u001b[0;34m,\u001b[0m \u001b[0;36m1\u001b[0m\u001b[0;34m)\u001b[0m\u001b[0;34m,\u001b[0m \u001b[0mmock\u001b[0m\u001b[0;34m=\u001b[0m\u001b[0;32mFalse\u001b[0m\u001b[0;34m,\u001b[0m \u001b[0mhist_path\u001b[0m\u001b[0;34m=\u001b[0m\u001b[0;32mNone\u001b[0m\u001b[0;34m)\u001b[0m\u001b[0;34m\u001b[0m\u001b[0;34m\u001b[0m\u001b[0m\n",
       "\u001b[0;31mDocstring:\u001b[0m     \n",
       "The Allan Common Coordinate Framework (CCF) brain atlas.\n",
       "\n",
       "Instantiates an atlas.BrainAtlas corresponding to the Allen CCF at the given resolution\n",
       "using the IBL Bregma and coordinate system.\n",
       "\u001b[0;31mInit docstring:\u001b[0m\n",
       "Instantiates an atlas.BrainAtlas corresponding to the Allen CCF at the given resolution\n",
       "using the IBL Bregma and coordinate system.\n",
       "\n",
       "Parameters\n",
       "----------\n",
       "res_um : {10, 25, 50} int\n",
       "    The Atlas resolution in micrometres; one of 10, 25 or 50um.\n",
       "scaling : float, numpy.array\n",
       "    Scale factor along ml, ap, dv for squeeze and stretch (default: [1, 1, 1]).\n",
       "mock : bool\n",
       "    For testing purposes, return atlas object with image comprising zeros.\n",
       "hist_path : str, pathlib.Path\n",
       "    The location of the image volume. May be a full file path or a directory.\n",
       "\n",
       "Examples\n",
       "--------\n",
       "Instantiate Atlas from a non-default location, in this case the cache_dir of an ONE instance.\n",
       ">>> target_dir = one.cache_dir / AllenAtlas.atlas_rel_path\n",
       "... ba = AllenAtlas(hist_path=target_dir)\n",
       "\u001b[0;31mFile:\u001b[0m           ~/.local/lib/python3.10/site-packages/iblatlas/atlas.py\n",
       "\u001b[0;31mType:\u001b[0m           type\n",
       "\u001b[0;31mSubclasses:\u001b[0m     "
      ]
     },
     "metadata": {},
     "output_type": "display_data"
    }
   ],
   "source": [
    "AllenAtlas?"
   ]
  },
  {
   "cell_type": "code",
   "execution_count": 83,
   "id": "d9a4f69c-2fa6-4ccc-b65a-3fac1d302fb6",
   "metadata": {},
   "outputs": [
    {
     "data": {
      "text/plain": [
       "(['b0b6a756-8b8a-4cee-9f4f-da0daab9790d',\n",
       "  'a4d69060-1834-4c71-87fe-24eec1988bce'],\n",
       " ['probe00', 'probe01'])"
      ]
     },
     "execution_count": 83,
     "metadata": {},
     "output_type": "execute_result"
    }
   ],
   "source": []
  },
  {
   "cell_type": "code",
   "execution_count": null,
   "id": "74623d5a-49dc-4fb1-999f-f9ee562c0c78",
   "metadata": {},
   "outputs": [],
   "source": [
    "EphysSessionLoader"
   ]
  }
 ],
 "metadata": {
  "kernelspec": {
   "display_name": "Python 3 (ipykernel)",
   "language": "python",
   "name": "python3"
  },
  "language_info": {
   "codemirror_mode": {
    "name": "ipython",
    "version": 3
   },
   "file_extension": ".py",
   "mimetype": "text/x-python",
   "name": "python",
   "nbconvert_exporter": "python",
   "pygments_lexer": "ipython3",
   "version": "3.10.14"
  }
 },
 "nbformat": 4,
 "nbformat_minor": 5
}
