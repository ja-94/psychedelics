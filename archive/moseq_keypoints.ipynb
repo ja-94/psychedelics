{
 "cells": [
  {
   "cell_type": "code",
   "execution_count": 4,
   "id": "39f8ee75",
   "metadata": {},
   "outputs": [
    {
     "name": "stdout",
     "output_type": "stream",
     "text": [
      "The directory `test_project` already exists. Use `overwrite=True` or\n",
      "pick a different name\n",
      "done\n"
     ]
    }
   ],
   "source": [
    "import keypoint_moseq as kpms\n",
    "\n",
    "project_dir = 'test_project'\n",
    "config = lambda: kpms.load_config(project_dir)\n",
    "\n",
    "sleap_file = 'C:\\\\Users\\\\guido\\\\Dropbox\\\\Work\\\\Data\\\\Psychedelics\\\\OpenField\\\\Tracking\\\\High_Dose\\\\ZFM-05488\\\\20221215_05488_H.h5'\n",
    "kpms.setup_project(project_dir, sleap_file=sleap_file)\n",
    "print('done')"
   ]
  },
  {
   "cell_type": "code",
   "execution_count": 6,
   "id": "3240e8c3",
   "metadata": {},
   "outputs": [
    {
     "name": "stderr",
     "output_type": "stream",
     "text": [
      "Loading from sleap: 100%|████████████████████████████████████████████████████████████████| 1/1 [00:00<00:00, 20.40it/s]\n"
     ]
    }
   ],
   "source": [
    "# load data from SLEAP\n",
    "sleap_results_directory = 'C:\\\\Users\\\\guido\\\\Dropbox\\\\Work\\\\Data\\\\Psychedelics\\\\OpenField\\\\Tracking\\\\High_Dose\\\\ZFM-05488'\n",
    "coordinates, confidences = kpms.load_sleap_results(sleap_results_directory)\n",
    "\n",
    "# format data for modeling\n",
    "data, labels = kpms.format_data(coordinates, confidences=confidences, **config())"
   ]
  },
  {
   "cell_type": "code",
   "execution_count": 7,
   "id": "5b3b0c9c",
   "metadata": {},
   "outputs": [
    {
     "ename": "AssertionError",
     "evalue": "No matching videos found for 20221215_05488_H.h5",
     "output_type": "error",
     "traceback": [
      "\u001b[1;31m---------------------------------------------------------------------------\u001b[0m",
      "\u001b[1;31mAssertionError\u001b[0m                            Traceback (most recent call last)",
      "Cell \u001b[1;32mIn[7], line 1\u001b[0m\n\u001b[1;32m----> 1\u001b[0m kpms\u001b[38;5;241m.\u001b[39mnoise_calibration(project_dir, coordinates, confidences, \u001b[38;5;241m*\u001b[39m\u001b[38;5;241m*\u001b[39mconfig())\n",
      "File \u001b[1;32m~\\mambaforge\\envs\\keypoint_moseq\\lib\\site-packages\\keypoint_moseq\\calibration.py:440\u001b[0m, in \u001b[0;36mnoise_calibration\u001b[1;34m(project_dir, coordinates, confidences, bodyparts, use_bodyparts, video_dir, video_extension, conf_pseudocount, verbose, **kwargs)\u001b[0m\n\u001b[0;32m    437\u001b[0m annotations \u001b[38;5;241m=\u001b[39m load_annotations(project_dir)\n\u001b[0;32m    438\u001b[0m sample_keys\u001b[38;5;241m.\u001b[39mextend(annotations\u001b[38;5;241m.\u001b[39mkeys())\n\u001b[1;32m--> 440\u001b[0m sample_images \u001b[38;5;241m=\u001b[39m \u001b[43mload_sampled_frames\u001b[49m\u001b[43m(\u001b[49m\n\u001b[0;32m    441\u001b[0m \u001b[43m    \u001b[49m\u001b[43msample_keys\u001b[49m\u001b[43m,\u001b[49m\u001b[43m \u001b[49m\u001b[43mvideo_dir\u001b[49m\u001b[43m,\u001b[49m\u001b[43m \u001b[49m\u001b[43mvideo_extension\u001b[49m\u001b[38;5;241;43m=\u001b[39;49m\u001b[43mvideo_extension\u001b[49m\u001b[43m)\u001b[49m\n\u001b[0;32m    443\u001b[0m \u001b[38;5;28;01mreturn\u001b[39;00m _noise_calibration_widget(\n\u001b[0;32m    444\u001b[0m     project_dir, coordinates, confidences, sample_keys, \n\u001b[0;32m    445\u001b[0m     sample_images, annotations, bodyparts\u001b[38;5;241m=\u001b[39mbodyparts, \u001b[38;5;241m*\u001b[39m\u001b[38;5;241m*\u001b[39mkwargs)\n",
      "File \u001b[1;32m~\\mambaforge\\envs\\keypoint_moseq\\lib\\site-packages\\keypoint_moseq\\calibration.py:101\u001b[0m, in \u001b[0;36mload_sampled_frames\u001b[1;34m(sample_keys, video_dir, video_extension)\u001b[0m\n\u001b[0;32m     78\u001b[0m \u001b[38;5;250m\u001b[39m\u001b[38;5;124;03m\"\"\"\u001b[39;00m\n\u001b[0;32m     79\u001b[0m \u001b[38;5;124;03mLoad sampled frames from a directory of videos.\u001b[39;00m\n\u001b[0;32m     80\u001b[0m \n\u001b[1;32m   (...)\u001b[0m\n\u001b[0;32m     98\u001b[0m \n\u001b[0;32m     99\u001b[0m \u001b[38;5;124;03m\"\"\"\u001b[39;00m\n\u001b[0;32m    100\u001b[0m keys \u001b[38;5;241m=\u001b[39m \u001b[38;5;28msorted\u001b[39m(\u001b[38;5;28mset\u001b[39m([k[\u001b[38;5;241m0\u001b[39m] \u001b[38;5;28;01mfor\u001b[39;00m k \u001b[38;5;129;01min\u001b[39;00m sample_keys]))\n\u001b[1;32m--> 101\u001b[0m videos \u001b[38;5;241m=\u001b[39m \u001b[43mfind_matching_videos\u001b[49m\u001b[43m(\u001b[49m\u001b[43mkeys\u001b[49m\u001b[43m,\u001b[49m\u001b[43mvideo_dir\u001b[49m\u001b[43m)\u001b[49m\n\u001b[0;32m    102\u001b[0m key_to_video \u001b[38;5;241m=\u001b[39m \u001b[38;5;28mdict\u001b[39m(\u001b[38;5;28mzip\u001b[39m(keys,videos))\n\u001b[0;32m    103\u001b[0m readers \u001b[38;5;241m=\u001b[39m {key: OpenCVReader(video) \u001b[38;5;28;01mfor\u001b[39;00m key,video \u001b[38;5;129;01min\u001b[39;00m \u001b[38;5;28mzip\u001b[39m(keys,videos)}\n",
      "File \u001b[1;32m~\\mambaforge\\envs\\keypoint_moseq\\lib\\site-packages\\keypoint_moseq\\util.py:281\u001b[0m, in \u001b[0;36mfind_matching_videos\u001b[1;34m(keys, video_dir, as_dict, video_extension, recursive)\u001b[0m\n\u001b[0;32m    278\u001b[0m \u001b[38;5;28;01mfor\u001b[39;00m key \u001b[38;5;129;01min\u001b[39;00m keys:\n\u001b[0;32m    279\u001b[0m     matches \u001b[38;5;241m=\u001b[39m [path \u001b[38;5;28;01mfor\u001b[39;00m video,path \u001b[38;5;129;01min\u001b[39;00m videos_to_paths\u001b[38;5;241m.\u001b[39mitems() \n\u001b[0;32m    280\u001b[0m                \u001b[38;5;28;01mif\u001b[39;00m os\u001b[38;5;241m.\u001b[39mpath\u001b[38;5;241m.\u001b[39mbasename(key)\u001b[38;5;241m.\u001b[39mstartswith(video)]\n\u001b[1;32m--> 281\u001b[0m     \u001b[38;5;28;01massert\u001b[39;00m \u001b[38;5;28mlen\u001b[39m(matches)\u001b[38;5;241m>\u001b[39m\u001b[38;5;241m0\u001b[39m, fill(\u001b[38;5;124mf\u001b[39m\u001b[38;5;124m'\u001b[39m\u001b[38;5;124mNo matching videos found for \u001b[39m\u001b[38;5;132;01m{\u001b[39;00mkey\u001b[38;5;132;01m}\u001b[39;00m\u001b[38;5;124m'\u001b[39m)\n\u001b[0;32m    282\u001b[0m     \u001b[38;5;28;01massert\u001b[39;00m \u001b[38;5;28mlen\u001b[39m(matches)\u001b[38;5;241m<\u001b[39m\u001b[38;5;241m2\u001b[39m, fill(\u001b[38;5;124mf\u001b[39m\u001b[38;5;124m'\u001b[39m\u001b[38;5;124mMore than one video matches \u001b[39m\u001b[38;5;132;01m{\u001b[39;00mkey\u001b[38;5;132;01m}\u001b[39;00m\u001b[38;5;124m (\u001b[39m\u001b[38;5;132;01m{\u001b[39;00mmatches\u001b[38;5;132;01m}\u001b[39;00m\u001b[38;5;124m)\u001b[39m\u001b[38;5;124m'\u001b[39m)\n\u001b[0;32m    283\u001b[0m     video_paths\u001b[38;5;241m.\u001b[39mappend(matches[\u001b[38;5;241m0\u001b[39m])\n",
      "\u001b[1;31mAssertionError\u001b[0m: No matching videos found for 20221215_05488_H.h5"
     ]
    }
   ],
   "source": [
    "kpms.noise_calibration(project_dir, coordinates, confidences, **config())"
   ]
  },
  {
   "cell_type": "code",
   "execution_count": null,
   "id": "638811d3",
   "metadata": {},
   "outputs": [],
   "source": []
  }
 ],
 "metadata": {
  "kernelspec": {
   "display_name": "keypoint_moseq",
   "language": "python",
   "name": "keypoint_moseq"
  },
  "language_info": {
   "codemirror_mode": {
    "name": "ipython",
    "version": 3
   },
   "file_extension": ".py",
   "mimetype": "text/x-python",
   "name": "python",
   "nbconvert_exporter": "python",
   "pygments_lexer": "ipython3",
   "version": "3.9.16"
  }
 },
 "nbformat": 4,
 "nbformat_minor": 5
}
