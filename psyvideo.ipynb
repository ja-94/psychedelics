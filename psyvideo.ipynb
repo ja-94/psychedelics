{
 "cells": [
  {
   "cell_type": "code",
   "execution_count": 4,
   "id": "458af59b",
   "metadata": {},
   "outputs": [],
   "source": [
    "from one.api import ONE;\n",
    "\n",
    "one = ONE()"
   ]
  },
  {
   "cell_type": "code",
   "execution_count": 5,
   "id": "601c151c",
   "metadata": {},
   "outputs": [
    {
     "data": {
      "text/plain": [
       "[UUID('9f420fcf-bc94-458b-afa0-c64b626e7764'),\n",
       " UUID('4b874c49-3c0c-4f30-9b1f-74c9dbfb57c8'),\n",
       " UUID('cdc1965e-4324-422a-a9d4-86b4e5d0de92'),\n",
       " UUID('895fd80e-bb8a-4154-bd1f-436e6b8e1030'),\n",
       " UUID('20f098da-285c-42e2-aa0e-9dfa4beb34c8'),\n",
       " UUID('5c28961e-1183-43f9-86a8-9c1c9d8ed743'),\n",
       " UUID('878b86b7-9245-40a3-843e-9ebf0a8251db'),\n",
       " UUID('58c61f29-d4e6-4ca7-b6de-bd860e83fe4e'),\n",
       " UUID('4e3f021c-e553-4c67-988a-0ca52535748e'),\n",
       " UUID('55f3644c-3f86-423e-9beb-6604b5aa4e2c'),\n",
       " UUID('e31bff07-d66c-4a03-894d-f71030161ead'),\n",
       " UUID('bb0e0ad2-4c98-4c98-b92f-559683e8a6f3'),\n",
       " UUID('e8128c55-b322-438a-9498-edd47ae4b794'),\n",
       " UUID('3e9d9490-7fb2-4aa3-b8cd-83f216ad8cde'),\n",
       " UUID('c7cf8e25-1e2c-4b03-a5f5-5a049f1cd228'),\n",
       " UUID('6ed6332d-23db-4233-936e-af82f0118191'),\n",
       " UUID('5ea1d6bc-6563-4a81-ae22-37af8b7e0a87'),\n",
       " UUID('58f30ab1-74d9-4d90-ad66-f680e27491fa'),\n",
       " UUID('361218c6-f670-4012-9158-1df5a660708d'),\n",
       " UUID('d21d1474-9fee-4ecc-b9ae-84681b36758d'),\n",
       " UUID('f20f0a37-c219-420f-8e11-d0a04d366d1c'),\n",
       " UUID('86965c89-26fb-4000-af16-1e537d4fb9b1'),\n",
       " UUID('58073cc0-1743-410a-afc2-e8f7a74a7af6'),\n",
       " UUID('6ffa4380-dfee-484d-b0e1-9489d484bbb3'),\n",
       " UUID('4e7d64a2-bab4-43e8-9782-e46abdef8d4e'),\n",
       " UUID('d77dd225-f7a9-4d01-996b-82c3ae73d56c'),\n",
       " UUID('6e0d984b-9948-4f6d-9015-04d1401a33cc'),\n",
       " UUID('4ecefb35-cf94-48a0-a3b5-76821817e936'),\n",
       " UUID('1ab78c47-f153-4573-825f-e818228a546e'),\n",
       " UUID('86f743cd-ee0d-4ca5-a107-dca9a0cf3f7a'),\n",
       " UUID('4b398979-c54c-498f-a3d4-b201c2285be5'),\n",
       " UUID('6dc3fee9-6bfc-4daf-a70f-d726ac2fcfde'),\n",
       " UUID('76bae405-b169-44ba-95db-b39342f21cf0'),\n",
       " UUID('90b53484-ed3d-4f62-9dc7-64170e4941ba'),\n",
       " UUID('50322fbb-5b93-46d7-9ca0-391fa30c966a'),\n",
       " UUID('9c5bc322-8f9f-4242-be39-69b96c635e3a'),\n",
       " UUID('b56d92e1-38d4-49c3-b5b0-e8546b19b78a'),\n",
       " UUID('41fdccdb-da05-4964-8ba7-95db9f1a7e3a'),\n",
       " UUID('fa139beb-f42d-483e-aca2-9e2619eb1975'),\n",
       " UUID('bde8f4a8-3e47-4f22-9bbd-374a5a509e99'),\n",
       " UUID('ce890a13-2bb5-471a-aee7-8b6856377e00'),\n",
       " UUID('2d6bf3a7-3f2f-4041-83aa-0703a263e529'),\n",
       " UUID('e290b97e-766e-47f0-92ef-fab57c319eb5'),\n",
       " UUID('731a5f76-c4d6-4485-8584-7adeecdd6f3a'),\n",
       " UUID('aff40fef-7ef3-4e7a-9451-f248e6d385db'),\n",
       " UUID('8057374c-baf2-4391-b290-e88743d8981a'),\n",
       " UUID('0bd26d4d-c1c1-4f59-af13-59d19b597ab6'),\n",
       " UUID('53d8cb2f-3338-4bcd-81c4-6207b660eba3'),\n",
       " UUID('1cbb24d0-2188-45dc-a116-e23a089c62b4'),\n",
       " UUID('cbc72b2f-2906-497e-8df0-dfaf825ffb39'),\n",
       " UUID('38d851a1-39c7-463b-a671-d36f2b68f03d'),\n",
       " UUID('fd234fc2-ac0d-4060-a1b7-845aae4974db'),\n",
       " UUID('ea238a7d-964f-4b5c-854f-d74dd3d9b6cb'),\n",
       " UUID('70b18b1d-1787-4473-aed5-e6ed7271c479'),\n",
       " UUID('f09dc35c-432d-4f55-835f-d3e8db8235f0'),\n",
       " UUID('293835d1-6d13-48bb-8231-fb86e488d6f4'),\n",
       " UUID('7dc1ed0e-e0e8-402d-ba94-e80dc7d69bbf'),\n",
       " UUID('7b22d278-a843-4a11-b629-4c92968b85a2'),\n",
       " UUID('1e1e3ec6-64d9-4fc3-aff5-124df4b49bc3'),\n",
       " UUID('8868dff6-f4a6-4e84-b62c-24a0c97803c4'),\n",
       " UUID('debe9833-5c26-4d9e-89ba-c63e07e1db10'),\n",
       " UUID('7149e0fc-a52d-4e93-849c-edc22d54e7a5'),\n",
       " UUID('a7a4a70f-57ae-4586-bb2d-37422deca541'),\n",
       " UUID('58ca39c5-e27f-43c4-8516-2ccc4fe88042'),\n",
       " UUID('d0f6ccfd-a795-4991-bfb6-75986e649ff1'),\n",
       " UUID('c6d06afe-8a0f-4fbb-944b-45a14d6249a4'),\n",
       " UUID('67949e34-ef3a-4a59-9ce4-8007e9b022e0'),\n",
       " UUID('944ac75c-a7b8-4d19-a8b9-f54f243071cb'),\n",
       " UUID('e30912ef-b167-4694-9d1e-1f5e5a47f95f'),\n",
       " UUID('c4ac6f5d-1ba6-411d-8ae8-89f19c2e9148'),\n",
       " UUID('88bd6ecf-ac08-4ef7-9aab-ff4b2f291894'),\n",
       " UUID('66a58cd1-3815-4264-948b-0fdb4fe839ec'),\n",
       " UUID('e13d0e58-55c8-4787-a716-03549b3d0240'),\n",
       " UUID('a1d9a3a6-873c-47fe-9350-6c87876a5669'),\n",
       " UUID('59777baf-1b73-4100-9d9c-7673f45ee955'),\n",
       " UUID('04909a79-83d8-4169-8e7c-116737ab707f'),\n",
       " UUID('a6b9f254-7682-47a4-9abd-753013c87c70'),\n",
       " UUID('8dfd9963-25e5-4f63-8f91-5b27a5852628'),\n",
       " UUID('8af06a79-cd95-446e-a57a-7c908d2dbe47'),\n",
       " UUID('547a8c9a-be6b-4306-8a9a-c154096693ff'),\n",
       " UUID('e00ed1fd-89f3-4233-a71a-5d86175ceea8'),\n",
       " UUID('a8d75b2a-ea13-4d59-bfeb-7b6b0bc1df03'),\n",
       " UUID('5bbf740b-ffbd-4f71-bef3-bf0996c140e2'),\n",
       " UUID('3510db76-e6b2-4e8a-8671-1bffc67594e6'),\n",
       " UUID('4be3987e-3e81-4b0b-b62d-5280c92b7ae2'),\n",
       " UUID('21da4e0d-83a0-42c4-879d-42dda1278d01'),\n",
       " UUID('996f3585-b804-4a3d-878a-1c15d708962b'),\n",
       " UUID('2583567d-cd2a-485a-8d79-85aa619e1ce2'),\n",
       " UUID('98317b26-72d6-4805-9a68-beb7d37f955c'),\n",
       " UUID('1bc4aea6-c6fa-4cb8-882f-ea1cc4a12667'),\n",
       " UUID('7eeaa5a2-0a75-4d57-aef1-e3f6ab0f6c9d'),\n",
       " UUID('dff61bf3-304d-487e-8f77-7ce72e599773'),\n",
       " UUID('3511d335-7fb2-4e1f-a87b-e487254dda43'),\n",
       " UUID('54c3e5f4-da22-40b6-9059-daad51ac263e'),\n",
       " UUID('c4aabc71-eb5a-4aa2-9e0d-e9d41919123d'),\n",
       " UUID('3262d62c-9eda-4464-9f10-47ad1d36eabf')]"
      ]
     },
     "execution_count": 5,
     "metadata": {},
     "output_type": "execute_result"
    }
   ],
   "source": [
    "one.search(project = \"psychedelics\")"
   ]
  },
  {
   "cell_type": "code",
   "execution_count": 7,
   "id": "356b7cf4",
   "metadata": {},
   "outputs": [
    {
     "name": "stderr",
     "output_type": "stream",
     "text": [
      "100%|██████████| 83/83 [00:00<00:00, 1526.24it/s]\n",
      "  2%|▏         | 2/83 [00:00<00:00, 954.55it/s]\n"
     ]
    },
    {
     "ename": "TypeError",
     "evalue": "'NoneType' object is not subscriptable",
     "output_type": "error",
     "traceback": [
      "\u001b[1;31m---------------------------------------------------------------------------\u001b[0m",
      "\u001b[1;31mTypeError\u001b[0m                                 Traceback (most recent call last)",
      "Cell \u001b[1;32mIn[7], line 5\u001b[0m\n\u001b[0;32m      1\u001b[0m \u001b[38;5;28;01mfrom\u001b[39;00m\u001b[38;5;250m \u001b[39m\u001b[38;5;21;01mpsyfun\u001b[39;00m\u001b[38;5;250m \u001b[39m\u001b[38;5;28;01mimport\u001b[39;00m io\n\u001b[0;32m      3\u001b[0m eid \u001b[38;5;241m=\u001b[39m \u001b[38;5;124m'\u001b[39m\u001b[38;5;124m9f420fcf-bc94-458b-afa0-c64b626e7764\u001b[39m\u001b[38;5;124m'\u001b[39m\n\u001b[1;32m----> 5\u001b[0m \u001b[43mio\u001b[49m\u001b[38;5;241;43m.\u001b[39;49m\u001b[43mfetch_insertions\u001b[49m\u001b[43m(\u001b[49m\u001b[43mone\u001b[49m\u001b[43m,\u001b[49m\u001b[43m \u001b[49m\u001b[38;5;28;43;01mTrue\u001b[39;49;00m\u001b[43m)\u001b[49m\n",
      "File \u001b[1;32mc:\\Users\\marti\\Documents\\mainen\\psychedelics\\psyfun\\io.py:160\u001b[0m, in \u001b[0;36mfetch_insertions\u001b[1;34m(one, save)\u001b[0m\n\u001b[0;32m    158\u001b[0m df_insertions \u001b[38;5;241m=\u001b[39m df_insertions\u001b[38;5;241m.\u001b[39mprogress_apply(_unpack_session_info, axis\u001b[38;5;241m=\u001b[39m\u001b[38;5;124m'\u001b[39m\u001b[38;5;124mcolumns\u001b[39m\u001b[38;5;124m'\u001b[39m)\n\u001b[0;32m    159\u001b[0m \u001b[38;5;66;03m# Unpack detailed QC info from the json\u001b[39;00m\n\u001b[1;32m--> 160\u001b[0m df_insertions \u001b[38;5;241m=\u001b[39m \u001b[43mdf_insertions\u001b[49m\u001b[38;5;241;43m.\u001b[39;49m\u001b[43mprogress_apply\u001b[49m\u001b[43m(\u001b[49m\u001b[43m_unpack_json\u001b[49m\u001b[43m,\u001b[49m\u001b[43m \u001b[49m\u001b[43maxis\u001b[49m\u001b[38;5;241;43m=\u001b[39;49m\u001b[38;5;124;43m'\u001b[39;49m\u001b[38;5;124;43mcolumns\u001b[39;49m\u001b[38;5;124;43m'\u001b[39;49m\u001b[43m)\u001b[49m\n\u001b[0;32m    161\u001b[0m \u001b[38;5;66;03m# Add any histology QC info present\u001b[39;00m\n\u001b[0;32m    162\u001b[0m df_insertions \u001b[38;5;241m=\u001b[39m df_insertions\u001b[38;5;241m.\u001b[39mprogress_apply(_check_histology, one\u001b[38;5;241m=\u001b[39mone, axis\u001b[38;5;241m=\u001b[39m\u001b[38;5;124m'\u001b[39m\u001b[38;5;124mcolumns\u001b[39m\u001b[38;5;124m'\u001b[39m)\n",
      "File \u001b[1;32mc:\\Users\\marti\\anaconda3\\envs\\iblenv\\lib\\site-packages\\tqdm\\std.py:917\u001b[0m, in \u001b[0;36mtqdm.pandas.<locals>.inner_generator.<locals>.inner\u001b[1;34m(df, func, *args, **kwargs)\u001b[0m\n\u001b[0;32m    914\u001b[0m \u001b[38;5;66;03m# Apply the provided function (in **kwargs)\u001b[39;00m\n\u001b[0;32m    915\u001b[0m \u001b[38;5;66;03m# on the df using our wrapper (which provides bar updating)\u001b[39;00m\n\u001b[0;32m    916\u001b[0m \u001b[38;5;28;01mtry\u001b[39;00m:\n\u001b[1;32m--> 917\u001b[0m     \u001b[38;5;28;01mreturn\u001b[39;00m \u001b[38;5;28mgetattr\u001b[39m(df, df_function)(wrapper, \u001b[38;5;241m*\u001b[39m\u001b[38;5;241m*\u001b[39mkwargs)\n\u001b[0;32m    918\u001b[0m \u001b[38;5;28;01mfinally\u001b[39;00m:\n\u001b[0;32m    919\u001b[0m     t\u001b[38;5;241m.\u001b[39mclose()\n",
      "File \u001b[1;32mc:\\Users\\marti\\anaconda3\\envs\\iblenv\\lib\\site-packages\\pandas\\core\\frame.py:10381\u001b[0m, in \u001b[0;36mDataFrame.apply\u001b[1;34m(self, func, axis, raw, result_type, args, by_row, engine, engine_kwargs, **kwargs)\u001b[0m\n\u001b[0;32m  10367\u001b[0m \u001b[38;5;28;01mfrom\u001b[39;00m\u001b[38;5;250m \u001b[39m\u001b[38;5;21;01mpandas\u001b[39;00m\u001b[38;5;21;01m.\u001b[39;00m\u001b[38;5;21;01mcore\u001b[39;00m\u001b[38;5;21;01m.\u001b[39;00m\u001b[38;5;21;01mapply\u001b[39;00m\u001b[38;5;250m \u001b[39m\u001b[38;5;28;01mimport\u001b[39;00m frame_apply\n\u001b[0;32m  10369\u001b[0m op \u001b[38;5;241m=\u001b[39m frame_apply(\n\u001b[0;32m  10370\u001b[0m     \u001b[38;5;28mself\u001b[39m,\n\u001b[0;32m  10371\u001b[0m     func\u001b[38;5;241m=\u001b[39mfunc,\n\u001b[1;32m   (...)\u001b[0m\n\u001b[0;32m  10379\u001b[0m     kwargs\u001b[38;5;241m=\u001b[39mkwargs,\n\u001b[0;32m  10380\u001b[0m )\n\u001b[1;32m> 10381\u001b[0m \u001b[38;5;28;01mreturn\u001b[39;00m \u001b[43mop\u001b[49m\u001b[38;5;241;43m.\u001b[39;49m\u001b[43mapply\u001b[49m\u001b[43m(\u001b[49m\u001b[43m)\u001b[49m\u001b[38;5;241m.\u001b[39m__finalize__(\u001b[38;5;28mself\u001b[39m, method\u001b[38;5;241m=\u001b[39m\u001b[38;5;124m\"\u001b[39m\u001b[38;5;124mapply\u001b[39m\u001b[38;5;124m\"\u001b[39m)\n",
      "File \u001b[1;32mc:\\Users\\marti\\anaconda3\\envs\\iblenv\\lib\\site-packages\\pandas\\core\\apply.py:916\u001b[0m, in \u001b[0;36mFrameApply.apply\u001b[1;34m(self)\u001b[0m\n\u001b[0;32m    913\u001b[0m \u001b[38;5;28;01melif\u001b[39;00m \u001b[38;5;28mself\u001b[39m\u001b[38;5;241m.\u001b[39mraw:\n\u001b[0;32m    914\u001b[0m     \u001b[38;5;28;01mreturn\u001b[39;00m \u001b[38;5;28mself\u001b[39m\u001b[38;5;241m.\u001b[39mapply_raw(engine\u001b[38;5;241m=\u001b[39m\u001b[38;5;28mself\u001b[39m\u001b[38;5;241m.\u001b[39mengine, engine_kwargs\u001b[38;5;241m=\u001b[39m\u001b[38;5;28mself\u001b[39m\u001b[38;5;241m.\u001b[39mengine_kwargs)\n\u001b[1;32m--> 916\u001b[0m \u001b[38;5;28;01mreturn\u001b[39;00m \u001b[38;5;28;43mself\u001b[39;49m\u001b[38;5;241;43m.\u001b[39;49m\u001b[43mapply_standard\u001b[49m\u001b[43m(\u001b[49m\u001b[43m)\u001b[49m\n",
      "File \u001b[1;32mc:\\Users\\marti\\anaconda3\\envs\\iblenv\\lib\\site-packages\\pandas\\core\\apply.py:1063\u001b[0m, in \u001b[0;36mFrameApply.apply_standard\u001b[1;34m(self)\u001b[0m\n\u001b[0;32m   1061\u001b[0m \u001b[38;5;28;01mdef\u001b[39;00m\u001b[38;5;250m \u001b[39m\u001b[38;5;21mapply_standard\u001b[39m(\u001b[38;5;28mself\u001b[39m):\n\u001b[0;32m   1062\u001b[0m     \u001b[38;5;28;01mif\u001b[39;00m \u001b[38;5;28mself\u001b[39m\u001b[38;5;241m.\u001b[39mengine \u001b[38;5;241m==\u001b[39m \u001b[38;5;124m\"\u001b[39m\u001b[38;5;124mpython\u001b[39m\u001b[38;5;124m\"\u001b[39m:\n\u001b[1;32m-> 1063\u001b[0m         results, res_index \u001b[38;5;241m=\u001b[39m \u001b[38;5;28;43mself\u001b[39;49m\u001b[38;5;241;43m.\u001b[39;49m\u001b[43mapply_series_generator\u001b[49m\u001b[43m(\u001b[49m\u001b[43m)\u001b[49m\n\u001b[0;32m   1064\u001b[0m     \u001b[38;5;28;01melse\u001b[39;00m:\n\u001b[0;32m   1065\u001b[0m         results, res_index \u001b[38;5;241m=\u001b[39m \u001b[38;5;28mself\u001b[39m\u001b[38;5;241m.\u001b[39mapply_series_numba()\n",
      "File \u001b[1;32mc:\\Users\\marti\\anaconda3\\envs\\iblenv\\lib\\site-packages\\pandas\\core\\apply.py:1081\u001b[0m, in \u001b[0;36mFrameApply.apply_series_generator\u001b[1;34m(self)\u001b[0m\n\u001b[0;32m   1078\u001b[0m \u001b[38;5;28;01mwith\u001b[39;00m option_context(\u001b[38;5;124m\"\u001b[39m\u001b[38;5;124mmode.chained_assignment\u001b[39m\u001b[38;5;124m\"\u001b[39m, \u001b[38;5;28;01mNone\u001b[39;00m):\n\u001b[0;32m   1079\u001b[0m     \u001b[38;5;28;01mfor\u001b[39;00m i, v \u001b[38;5;129;01min\u001b[39;00m \u001b[38;5;28menumerate\u001b[39m(series_gen):\n\u001b[0;32m   1080\u001b[0m         \u001b[38;5;66;03m# ignore SettingWithCopy here in case the user mutates\u001b[39;00m\n\u001b[1;32m-> 1081\u001b[0m         results[i] \u001b[38;5;241m=\u001b[39m \u001b[38;5;28mself\u001b[39m\u001b[38;5;241m.\u001b[39mfunc(v, \u001b[38;5;241m*\u001b[39m\u001b[38;5;28mself\u001b[39m\u001b[38;5;241m.\u001b[39margs, \u001b[38;5;241m*\u001b[39m\u001b[38;5;241m*\u001b[39m\u001b[38;5;28mself\u001b[39m\u001b[38;5;241m.\u001b[39mkwargs)\n\u001b[0;32m   1082\u001b[0m         \u001b[38;5;28;01mif\u001b[39;00m \u001b[38;5;28misinstance\u001b[39m(results[i], ABCSeries):\n\u001b[0;32m   1083\u001b[0m             \u001b[38;5;66;03m# If we have a view on v, we need to make a copy because\u001b[39;00m\n\u001b[0;32m   1084\u001b[0m             \u001b[38;5;66;03m#  series_generator will swap out the underlying data\u001b[39;00m\n\u001b[0;32m   1085\u001b[0m             results[i] \u001b[38;5;241m=\u001b[39m results[i]\u001b[38;5;241m.\u001b[39mcopy(deep\u001b[38;5;241m=\u001b[39m\u001b[38;5;28;01mFalse\u001b[39;00m)\n",
      "File \u001b[1;32mc:\\Users\\marti\\anaconda3\\envs\\iblenv\\lib\\site-packages\\tqdm\\std.py:912\u001b[0m, in \u001b[0;36mtqdm.pandas.<locals>.inner_generator.<locals>.inner.<locals>.wrapper\u001b[1;34m(*args, **kwargs)\u001b[0m\n\u001b[0;32m    906\u001b[0m \u001b[38;5;28;01mdef\u001b[39;00m\u001b[38;5;250m \u001b[39m\u001b[38;5;21mwrapper\u001b[39m(\u001b[38;5;241m*\u001b[39margs, \u001b[38;5;241m*\u001b[39m\u001b[38;5;241m*\u001b[39mkwargs):\n\u001b[0;32m    907\u001b[0m     \u001b[38;5;66;03m# update tbar correctly\u001b[39;00m\n\u001b[0;32m    908\u001b[0m     \u001b[38;5;66;03m# it seems `pandas apply` calls `func` twice\u001b[39;00m\n\u001b[0;32m    909\u001b[0m     \u001b[38;5;66;03m# on the first column/row to decide whether it can\u001b[39;00m\n\u001b[0;32m    910\u001b[0m     \u001b[38;5;66;03m# take a fast or slow code path; so stop when t.total==t.n\u001b[39;00m\n\u001b[0;32m    911\u001b[0m     t\u001b[38;5;241m.\u001b[39mupdate(n\u001b[38;5;241m=\u001b[39m\u001b[38;5;241m1\u001b[39m \u001b[38;5;28;01mif\u001b[39;00m \u001b[38;5;129;01mnot\u001b[39;00m t\u001b[38;5;241m.\u001b[39mtotal \u001b[38;5;129;01mor\u001b[39;00m t\u001b[38;5;241m.\u001b[39mn \u001b[38;5;241m<\u001b[39m t\u001b[38;5;241m.\u001b[39mtotal \u001b[38;5;28;01melse\u001b[39;00m \u001b[38;5;241m0\u001b[39m)\n\u001b[1;32m--> 912\u001b[0m     \u001b[38;5;28;01mreturn\u001b[39;00m func(\u001b[38;5;241m*\u001b[39margs, \u001b[38;5;241m*\u001b[39m\u001b[38;5;241m*\u001b[39mkwargs)\n",
      "File \u001b[1;32mc:\\Users\\marti\\Documents\\mainen\\psychedelics\\psyfun\\io.py:179\u001b[0m, in \u001b[0;36m_unpack_json\u001b[1;34m(series)\u001b[0m\n\u001b[0;32m    178\u001b[0m \u001b[38;5;28;01mdef\u001b[39;00m\u001b[38;5;250m \u001b[39m\u001b[38;5;21m_unpack_json\u001b[39m(series):\n\u001b[1;32m--> 179\u001b[0m     series[\u001b[38;5;124m'\u001b[39m\u001b[38;5;124mephys_qc\u001b[39m\u001b[38;5;124m'\u001b[39m] \u001b[38;5;241m=\u001b[39m \u001b[43mseries\u001b[49m\u001b[43m[\u001b[49m\u001b[38;5;124;43m'\u001b[39;49m\u001b[38;5;124;43mjson\u001b[39;49m\u001b[38;5;124;43m'\u001b[39;49m\u001b[43m]\u001b[49m\u001b[43m[\u001b[49m\u001b[38;5;124;43m'\u001b[39;49m\u001b[38;5;124;43mqc\u001b[39;49m\u001b[38;5;124;43m'\u001b[39;49m\u001b[43m]\u001b[49m\n\u001b[0;32m    180\u001b[0m     jsonkeys \u001b[38;5;241m=\u001b[39m [\u001b[38;5;124m'\u001b[39m\u001b[38;5;124mn_units\u001b[39m\u001b[38;5;124m'\u001b[39m, \u001b[38;5;124m'\u001b[39m\u001b[38;5;124mn_units_qc_pass\u001b[39m\u001b[38;5;124m'\u001b[39m, \u001b[38;5;124m'\u001b[39m\u001b[38;5;124mfiring_rate_median\u001b[39m\u001b[38;5;124m'\u001b[39m, \u001b[38;5;124m'\u001b[39m\u001b[38;5;124mfiring_rate_max\u001b[39m\u001b[38;5;124m'\u001b[39m]\n\u001b[0;32m    181\u001b[0m     \u001b[38;5;28;01mfor\u001b[39;00m key \u001b[38;5;129;01min\u001b[39;00m jsonkeys:\n",
      "\u001b[1;31mTypeError\u001b[0m: 'NoneType' object is not subscriptable"
     ]
    }
   ],
   "source": [
    "from psyfun import io\n",
    "\n",
    "eid = '9f420fcf-bc94-458b-afa0-c64b626e7764'\n",
    "\n",
    "io.fetch_insertions(one, True)"
   ]
  },
  {
   "cell_type": "markdown",
   "id": "17f06b60",
   "metadata": {},
   "source": [
    "# Video Processing (API)"
   ]
  },
  {
   "cell_type": "code",
   "execution_count": null,
   "id": "626038ad",
   "metadata": {},
   "outputs": [],
   "source": [
    "import facemap\n",
    "import facemap.process\n",
    "import numpy as np\n",
    "import pandas as pd\n",
    "import matplotlib.pyplot as plt\n",
    "import scipy\n",
    "import scipy.stats as stats\n",
    "import scipy.optimize\n",
    "import seaborn as sns\n",
    "from scipy.stats import entropy\n",
    "\n",
    "from sklearn.preprocessing import MinMaxScaler\n",
    "from sklearn.decomposition import PCA\n",
    "from sklearn.decomposition import IncrementalPCA\n",
    "\n",
    "video_path = 'certain path'\n",
    "\n",
    "download_path = 'C:\\Users\\marti\\Documents\\mainen\\psychedelics\\video'\n",
    "\n",
    "facemap.process.run(video_path, sbin = 4, motSVD = True, savepath=download_path)"
   ]
  }
 ],
 "metadata": {
  "kernelspec": {
   "display_name": "iblenv",
   "language": "python",
   "name": "python3"
  },
  "language_info": {
   "codemirror_mode": {
    "name": "ipython",
    "version": 3
   },
   "file_extension": ".py",
   "mimetype": "text/x-python",
   "name": "python",
   "nbconvert_exporter": "python",
   "pygments_lexer": "ipython3",
   "version": "3.10.18"
  }
 },
 "nbformat": 4,
 "nbformat_minor": 5
}
