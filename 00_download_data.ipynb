{
 "cells": [
  {
   "cell_type": "code",
   "execution_count": 2,
   "id": "cc5f7438-c312-4471-8ecf-5af4995c52df",
   "metadata": {},
   "outputs": [],
   "source": [
    "import numpy as np\n",
    "import pandas as pd\n",
    "from datetime import datetime\n",
    "\n",
    "from one.api import ONE\n",
    "\n",
    "from psychedelic_functions import get_protocol_timings"
   ]
  },
  {
   "cell_type": "code",
   "execution_count": 3,
   "id": "5f9cfcb2-4b72-4f9c-a131-8038f2593df4",
   "metadata": {},
   "outputs": [],
   "source": [
    "mode = 'remote'  # sets mode for all queries (one.seach* methods)\n",
    "one = ONE(mode=mode)"
   ]
  },
  {
   "cell_type": "code",
   "execution_count": 4,
   "id": "49893f9f-5a5b-4489-87f1-f4599f9a9933",
   "metadata": {},
   "outputs": [],
   "source": [
    "df_infos = pd.read_csv('recordings.csv')\n",
    "df_infos['date'] = df_infos['date'].apply(lambda x: datetime.strptime(x, '%d.%m.%Y').date())\n",
    "df_infos['administration_time'] = df_infos['administration_time'].apply(lambda x: np.sum(np.array([int(val) for val in x.split(':')]) * np.array([3600, 60, 1])))"
   ]
  },
  {
   "cell_type": "code",
   "execution_count": 5,
   "id": "461eb29d-f662-4adf-8fea-efc976c4acf9",
   "metadata": {},
   "outputs": [
    {
     "name": "stdout",
     "output_type": "stream",
     "text": [
      "Psychedelics sessions with spike sorting & video: 28\n"
     ]
    }
   ],
   "source": [
    "eids = one.search(project='psychedelics', dataset=['spikes', 'Camera'], query_type='local')\n",
    "print(f'Psychedelics sessions with spike sorting & video: {len(eids)}')"
   ]
  },
  {
   "cell_type": "code",
   "execution_count": 9,
   "id": "89e0b576-94b9-4ccd-823e-f708457a50ee",
   "metadata": {},
   "outputs": [
    {
     "name": "stderr",
     "output_type": "stream",
     "text": [
      "  4%|████▌                                                                                                                            | 1/28 [00:02<01:12,  2.67s/it]/home/crombie/code/psychedelics/psychedelic_functions.py:115: UserWarning: No stimulus timing found for 86f743cd-ee0d-4ca5-a107-dca9a0cf3f7a, task 01\n",
      "  warnings.warn(f\"No stimulus timing found for {eid}, task {i:02d}\")\n",
      " 14%|██████████████████▍                                                                                                              | 4/28 [00:09<01:01,  2.55s/it]/home/crombie/code/psychedelics/psychedelic_functions.py:100: UserWarning: No intervals table found for 76bae405-b169-44ba-95db-b39342f21cf0, task 01\n",
      "  warnings.warn(f\"No intervals table found for {eid}, task {i:02d}\")\n",
      " 18%|███████████████████████                                                                                                          | 5/28 [00:11<00:49,  2.16s/it]/home/crombie/code/psychedelics/psychedelic_functions.py:100: UserWarning: No intervals table found for 90b53484-ed3d-4f62-9dc7-64170e4941ba, task 00\n",
      "  warnings.warn(f\"No intervals table found for {eid}, task {i:02d}\")\n",
      "/home/crombie/code/psychedelics/psychedelic_functions.py:100: UserWarning: No intervals table found for 90b53484-ed3d-4f62-9dc7-64170e4941ba, task 01\n",
      "  warnings.warn(f\"No intervals table found for {eid}, task {i:02d}\")\n",
      " 21%|███████████████████████████▋                                                                                                     | 6/28 [00:11<00:34,  1.55s/it]/home/crombie/code/psychedelics/psychedelic_functions.py:100: UserWarning: No intervals table found for 50322fbb-5b93-46d7-9ca0-391fa30c966a, task 00\n",
      "  warnings.warn(f\"No intervals table found for {eid}, task {i:02d}\")\n",
      "/home/crombie/code/psychedelics/psychedelic_functions.py:100: UserWarning: No intervals table found for 50322fbb-5b93-46d7-9ca0-391fa30c966a, task 01\n",
      "  warnings.warn(f\"No intervals table found for {eid}, task {i:02d}\")\n",
      " 25%|████████████████████████████████▎                                                                                                | 7/28 [00:12<00:23,  1.14s/it]/home/crombie/code/psychedelics/psychedelic_functions.py:100: UserWarning: No intervals table found for 731a5f76-c4d6-4485-8584-7adeecdd6f3a, task 01\n",
      "  warnings.warn(f\"No intervals table found for {eid}, task {i:02d}\")\n",
      " 32%|█████████████████████████████████████████▍                                                                                       | 9/28 [00:16<00:31,  1.67s/it]/home/crombie/code/psychedelics/psychedelic_functions.py:100: UserWarning: No intervals table found for 8057374c-baf2-4391-b290-e88743d8981a, task 00\n",
      "  warnings.warn(f\"No intervals table found for {eid}, task {i:02d}\")\n",
      " 36%|█████████████████████████████████████████████▋                                                                                  | 10/28 [00:17<00:29,  1.64s/it]/home/crombie/code/psychedelics/psychedelic_functions.py:100: UserWarning: No intervals table found for 0bd26d4d-c1c1-4f59-af13-59d19b597ab6, task 00\n",
      "  warnings.warn(f\"No intervals table found for {eid}, task {i:02d}\")\n",
      " 43%|██████████████████████████████████████████████████████▊                                                                         | 12/28 [00:22<00:32,  2.01s/it]/home/crombie/code/psychedelics/psychedelic_functions.py:100: UserWarning: No intervals table found for 1cbb24d0-2188-45dc-a116-e23a089c62b4, task 00\n",
      "  warnings.warn(f\"No intervals table found for {eid}, task {i:02d}\")\n",
      "/home/crombie/code/psychedelics/psychedelic_functions.py:100: UserWarning: No intervals table found for 1cbb24d0-2188-45dc-a116-e23a089c62b4, task 01\n",
      "  warnings.warn(f\"No intervals table found for {eid}, task {i:02d}\")\n",
      " 46%|███████████████████████████████████████████████████████████▍                                                                    | 13/28 [00:22<00:22,  1.50s/it]/home/crombie/code/psychedelics/psychedelic_functions.py:100: UserWarning: No intervals table found for cbc72b2f-2906-497e-8df0-dfaf825ffb39, task 01\n",
      "  warnings.warn(f\"No intervals table found for {eid}, task {i:02d}\")\n",
      " 61%|█████████████████████████████████████████████████████████████████████████████▋                                                  | 17/28 [00:32<00:24,  2.26s/it]/home/crombie/code/psychedelics/psychedelic_functions.py:100: UserWarning: No intervals table found for 58ca39c5-e27f-43c4-8516-2ccc4fe88042, task 01\n",
      "  warnings.warn(f\"No intervals table found for {eid}, task {i:02d}\")\n",
      " 68%|██████████████████████████████████████████████████████████████████████████████████████▊                                         | 19/28 [00:36<00:19,  2.19s/it]/home/crombie/code/psychedelics/psychedelic_functions.py:87: UserWarning: Fewer than 2 protocols found for a1d9a3a6-873c-47fe-9350-6c87876a5669\n",
      "  warnings.warn(f\"Fewer than 2 protocols found for {eid}\")\n",
      "\n",
      "(S3) /home/crombie/Downloads/ONE/alyx.internationalbrainlab.org/mainenlab/Subjects/ZFM-05725/2023-02-07/001/alf/task_00/_ibl_passivePeriods.intervalsTable.csv:   0%|\u001b[A\n",
      "(S3) /home/crombie/Downloads/ONE/alyx.internationalbrainlab.org/mainenlab/Subjects/ZFM-05725/2023-02-07/001/alf/task_00/_ibl_passivePeriods.intervalsTable.csv: 100%|\u001b[A\n",
      "\n",
      "(S3) /home/crombie/Downloads/ONE/alyx.internationalbrainlab.org/mainenlab/Subjects/ZFM-05725/2023-02-07/001/alf/task_00/_ibl_passiveGabor.table.csv:   0%| | 0.00/12.\u001b[A\n",
      "(S3) /home/crombie/Downloads/ONE/alyx.internationalbrainlab.org/mainenlab/Subjects/ZFM-05725/2023-02-07/001/alf/task_00/_ibl_passiveGabor.table.csv: 100%|█| 12.4k/12\u001b[A\n",
      "\n",
      "(S3) /home/crombie/Downloads/ONE/alyx.internationalbrainlab.org/mainenlab/Subjects/ZFM-05725/2023-02-07/001/alf/task_00/_ibl_passiveStims.table.csv:   0%| | 0.00/4.4\u001b[A\n",
      "(S3) /home/crombie/Downloads/ONE/alyx.internationalbrainlab.org/mainenlab/Subjects/ZFM-05725/2023-02-07/001/alf/task_00/_ibl_passiveStims.table.csv: 100%|█| 4.45k/4.\u001b[A\n",
      " 71%|███████████████████████████████████████████████████████████████████████████████████████████▍                                    | 20/28 [00:42<00:27,  3.40s/it]\n",
      "(S3) /home/crombie/Downloads/ONE/alyx.internationalbrainlab.org/mainenlab/Subjects/ZFM-05727/2023-02-01/001/alf/task_00/_ibl_passivePeriods.intervalsTable.csv:   0%|\u001b[A\n",
      "(S3) /home/crombie/Downloads/ONE/alyx.internationalbrainlab.org/mainenlab/Subjects/ZFM-05727/2023-02-01/001/alf/task_00/_ibl_passivePeriods.intervalsTable.csv: 100%|\u001b[A\n",
      "/home/crombie/code/psychedelics/psychedelic_functions.py:115: UserWarning: No stimulus timing found for a6b9f254-7682-47a4-9abd-753013c87c70, task 00\n",
      "  warnings.warn(f\"No stimulus timing found for {eid}, task {i:02d}\")\n",
      "\n",
      "(S3) /home/crombie/Downloads/ONE/alyx.internationalbrainlab.org/mainenlab/Subjects/ZFM-05727/2023-02-01/001/alf/task_01/_ibl_passivePeriods.intervalsTable.csv:   0%|\u001b[A\n",
      "(S3) /home/crombie/Downloads/ONE/alyx.internationalbrainlab.org/mainenlab/Subjects/ZFM-05727/2023-02-01/001/alf/task_01/_ibl_passivePeriods.intervalsTable.csv: 100%|\u001b[A\n",
      "\n",
      "(S3) /home/crombie/Downloads/ONE/alyx.internationalbrainlab.org/mainenlab/Subjects/ZFM-05727/2023-02-01/001/alf/task_01/_ibl_passiveGabor.table.csv:   0%| | 0.00/12.\u001b[A\n",
      "(S3) /home/crombie/Downloads/ONE/alyx.internationalbrainlab.org/mainenlab/Subjects/ZFM-05727/2023-02-01/001/alf/task_01/_ibl_passiveGabor.table.csv: 100%|█| 12.6k/12\u001b[A\n",
      "\n",
      "(S3) /home/crombie/Downloads/ONE/alyx.internationalbrainlab.org/mainenlab/Subjects/ZFM-05727/2023-02-01/001/alf/task_01/_ibl_passiveStims.table.csv:   0%| | 0.00/4.6\u001b[A\n",
      "(S3) /home/crombie/Downloads/ONE/alyx.internationalbrainlab.org/mainenlab/Subjects/ZFM-05727/2023-02-01/001/alf/task_01/_ibl_passiveStims.table.csv: 100%|█| 4.61k/4.\u001b[A\n",
      " 75%|████████████████████████████████████████████████████████████████████████████████████████████████                                | 21/28 [00:52<00:38,  5.51s/it]\n",
      "(S3) /home/crombie/Downloads/ONE/alyx.internationalbrainlab.org/mainenlab/Subjects/ZFM-05725/2023-01-31/001/alf/task_00/_ibl_passivePeriods.intervalsTable.csv:   0%|\u001b[A\n",
      "(S3) /home/crombie/Downloads/ONE/alyx.internationalbrainlab.org/mainenlab/Subjects/ZFM-05725/2023-01-31/001/alf/task_00/_ibl_passivePeriods.intervalsTable.csv: 100%|\u001b[A\n",
      "\n",
      "(S3) /home/crombie/Downloads/ONE/alyx.internationalbrainlab.org/mainenlab/Subjects/ZFM-05725/2023-01-31/001/alf/task_00/_ibl_passiveGabor.table.csv:   0%| | 0.00/12.\u001b[A\n",
      "(S3) /home/crombie/Downloads/ONE/alyx.internationalbrainlab.org/mainenlab/Subjects/ZFM-05725/2023-01-31/001/alf/task_00/_ibl_passiveGabor.table.csv: 100%|█| 12.4k/12\u001b[A\n",
      "\n",
      "(S3) /home/crombie/Downloads/ONE/alyx.internationalbrainlab.org/mainenlab/Subjects/ZFM-05725/2023-01-31/001/alf/task_00/_ibl_passiveStims.table.csv:   0%| | 0.00/4.4\u001b[A\n",
      "(S3) /home/crombie/Downloads/ONE/alyx.internationalbrainlab.org/mainenlab/Subjects/ZFM-05725/2023-01-31/001/alf/task_00/_ibl_passiveStims.table.csv: 100%|█| 4.44k/4.\u001b[A\n",
      "/home/crombie/code/psychedelics/psychedelic_functions.py:100: UserWarning: No intervals table found for 8dfd9963-25e5-4f63-8f91-5b27a5852628, task 01\n",
      "  warnings.warn(f\"No intervals table found for {eid}, task {i:02d}\")\n",
      " 79%|████████████████████████████████████████████████████████████████████████████████████████████████████▌                           | 22/28 [01:00<00:37,  6.31s/it]/home/crombie/code/psychedelics/psychedelic_functions.py:87: UserWarning: Fewer than 2 protocols found for 8af06a79-cd95-446e-a57a-7c908d2dbe47\n",
      "  warnings.warn(f\"Fewer than 2 protocols found for {eid}\")\n",
      "\n",
      "(S3) /home/crombie/Downloads/ONE/alyx.internationalbrainlab.org/mainenlab/Subjects/ZFM-05727/2023-01-25/001/alf/task_00/_ibl_passivePeriods.intervalsTable.csv:   0%|\u001b[A\n",
      "(S3) /home/crombie/Downloads/ONE/alyx.internationalbrainlab.org/mainenlab/Subjects/ZFM-05727/2023-01-25/001/alf/task_00/_ibl_passivePeriods.intervalsTable.csv: 100%|\u001b[A\n",
      "/home/crombie/code/psychedelics/psychedelic_functions.py:115: UserWarning: No stimulus timing found for 8af06a79-cd95-446e-a57a-7c908d2dbe47, task 00\n",
      "  warnings.warn(f\"No stimulus timing found for {eid}, task {i:02d}\")\n",
      " 82%|█████████████████████████████████████████████████████████████████████████████████████████████████████████▏                      | 23/28 [01:05<00:28,  5.77s/it]/home/crombie/code/psychedelics/psychedelic_functions.py:87: UserWarning: Fewer than 2 protocols found for 547a8c9a-be6b-4306-8a9a-c154096693ff\n",
      "  warnings.warn(f\"Fewer than 2 protocols found for {eid}\")\n",
      "\n",
      "(S3) /home/crombie/Downloads/ONE/alyx.internationalbrainlab.org/mainenlab/Subjects/ZFM-05725/2023-01-24/001/alf/task_00/_ibl_passivePeriods.intervalsTable.csv:   0%|\u001b[A\n",
      "(S3) /home/crombie/Downloads/ONE/alyx.internationalbrainlab.org/mainenlab/Subjects/ZFM-05725/2023-01-24/001/alf/task_00/_ibl_passivePeriods.intervalsTable.csv: 100%|\u001b[A\n",
      "\n",
      "(S3) /home/crombie/Downloads/ONE/alyx.internationalbrainlab.org/mainenlab/Subjects/ZFM-05725/2023-01-24/001/alf/task_00/_ibl_passiveGabor.table.csv:   0%| | 0.00/12.\u001b[A\n",
      "(S3) /home/crombie/Downloads/ONE/alyx.internationalbrainlab.org/mainenlab/Subjects/ZFM-05725/2023-01-24/001/alf/task_00/_ibl_passiveGabor.table.csv: 100%|█| 12.4k/12\u001b[A\n",
      "\n",
      "(S3) /home/crombie/Downloads/ONE/alyx.internationalbrainlab.org/mainenlab/Subjects/ZFM-05725/2023-01-24/001/alf/task_00/_ibl_passiveStims.table.csv:   0%| | 0.00/4.4\u001b[A\n",
      "(S3) /home/crombie/Downloads/ONE/alyx.internationalbrainlab.org/mainenlab/Subjects/ZFM-05725/2023-01-24/001/alf/task_00/_ibl_passiveStims.table.csv: 100%|█| 4.44k/4.\u001b[A\n",
      " 86%|█████████████████████████████████████████████████████████████████████████████████████████████████████████████▋                  | 24/28 [01:12<00:25,  6.26s/it]\n",
      "(S3) /home/crombie/Downloads/ONE/alyx.internationalbrainlab.org/mainenlab/Subjects/ZFM-05496/2022-12-15/001/alf/task_00/_ibl_passivePeriods.intervalsTable.csv:   0%|\u001b[A\n",
      "(S3) /home/crombie/Downloads/ONE/alyx.internationalbrainlab.org/mainenlab/Subjects/ZFM-05496/2022-12-15/001/alf/task_00/_ibl_passivePeriods.intervalsTable.csv: 100%|\u001b[A\n",
      "/home/crombie/code/psychedelics/psychedelic_functions.py:115: UserWarning: No stimulus timing found for 2583567d-cd2a-485a-8d79-85aa619e1ce2, task 00\n",
      "  warnings.warn(f\"No stimulus timing found for {eid}, task {i:02d}\")\n",
      "\n",
      "(S3) /home/crombie/Downloads/ONE/alyx.internationalbrainlab.org/mainenlab/Subjects/ZFM-05496/2022-12-15/001/alf/task_01/_ibl_passivePeriods.intervalsTable.csv:   0%|\u001b[A\n",
      "(S3) /home/crombie/Downloads/ONE/alyx.internationalbrainlab.org/mainenlab/Subjects/ZFM-05496/2022-12-15/001/alf/task_01/_ibl_passivePeriods.intervalsTable.csv: 100%|\u001b[A\n",
      "\n",
      "(S3) /home/crombie/Downloads/ONE/alyx.internationalbrainlab.org/mainenlab/Subjects/ZFM-05496/2022-12-15/001/alf/task_01/_ibl_passiveGabor.table.csv:   0%| | 0.00/12.\u001b[A\n",
      "(S3) /home/crombie/Downloads/ONE/alyx.internationalbrainlab.org/mainenlab/Subjects/ZFM-05496/2022-12-15/001/alf/task_01/_ibl_passiveGabor.table.csv: 100%|█| 12.5k/12\u001b[A\n",
      "\n",
      "(S3) /home/crombie/Downloads/ONE/alyx.internationalbrainlab.org/mainenlab/Subjects/ZFM-05496/2022-12-15/001/alf/task_01/_ibl_passiveStims.table.csv:   0%| | 0.00/4.5\u001b[A\n",
      "(S3) /home/crombie/Downloads/ONE/alyx.internationalbrainlab.org/mainenlab/Subjects/ZFM-05496/2022-12-15/001/alf/task_01/_ibl_passiveStims.table.csv: 100%|█| 4.53k/4.\u001b[A\n",
      " 89%|██████████████████████████████████████████████████████████████████████████████████████████████████████████████████▎             | 25/28 [01:25<00:24,  8.20s/it]\n",
      "(S3) /home/crombie/Downloads/ONE/alyx.internationalbrainlab.org/mainenlab/Subjects/ZFM-05486/2022-12-15/001/alf/task_00/_ibl_passivePeriods.intervalsTable.csv:   0%|\u001b[A\n",
      "(S3) /home/crombie/Downloads/ONE/alyx.internationalbrainlab.org/mainenlab/Subjects/ZFM-05486/2022-12-15/001/alf/task_00/_ibl_passivePeriods.intervalsTable.csv: 100%|\u001b[A\n",
      "/home/crombie/code/psychedelics/psychedelic_functions.py:115: UserWarning: No stimulus timing found for 996f3585-b804-4a3d-878a-1c15d708962b, task 00\n",
      "  warnings.warn(f\"No stimulus timing found for {eid}, task {i:02d}\")\n",
      "\n",
      "(S3) /home/crombie/Downloads/ONE/alyx.internationalbrainlab.org/mainenlab/Subjects/ZFM-05486/2022-12-15/001/alf/task_01/_ibl_passivePeriods.intervalsTable.csv:   0%|\u001b[A\n",
      "(S3) /home/crombie/Downloads/ONE/alyx.internationalbrainlab.org/mainenlab/Subjects/ZFM-05486/2022-12-15/001/alf/task_01/_ibl_passivePeriods.intervalsTable.csv: 100%|\u001b[A\n",
      "\n",
      "(S3) /home/crombie/Downloads/ONE/alyx.internationalbrainlab.org/mainenlab/Subjects/ZFM-05486/2022-12-15/001/alf/task_01/_ibl_passiveGabor.table.csv:   0%| | 0.00/12.\u001b[A\n",
      "(S3) /home/crombie/Downloads/ONE/alyx.internationalbrainlab.org/mainenlab/Subjects/ZFM-05486/2022-12-15/001/alf/task_01/_ibl_passiveGabor.table.csv: 100%|█| 12.6k/12\u001b[A\n",
      "\n",
      "(S3) /home/crombie/Downloads/ONE/alyx.internationalbrainlab.org/mainenlab/Subjects/ZFM-05486/2022-12-15/001/alf/task_01/_ibl_passiveStims.table.csv:   0%| | 0.00/4.5\u001b[A\n",
      "(S3) /home/crombie/Downloads/ONE/alyx.internationalbrainlab.org/mainenlab/Subjects/ZFM-05486/2022-12-15/001/alf/task_01/_ibl_passiveStims.table.csv: 100%|█| 4.59k/4.\u001b[A\n",
      " 93%|██████████████████████████████████████████████████████████████████████████████████████████████████████████████████████▊         | 26/28 [01:37<00:18,  9.20s/it]/home/crombie/code/psychedelics/psychedelic_functions.py:87: UserWarning: Fewer than 2 protocols found for 98317b26-72d6-4805-9a68-beb7d37f955c\n",
      "  warnings.warn(f\"Fewer than 2 protocols found for {eid}\")\n",
      "\n",
      "(S3) /home/crombie/Downloads/ONE/alyx.internationalbrainlab.org/mainenlab/Subjects/ZFM-05496/2022-12-08/001/alf/task_00/_ibl_passivePeriods.intervalsTable.csv:   0%|\u001b[A\n",
      "(S3) /home/crombie/Downloads/ONE/alyx.internationalbrainlab.org/mainenlab/Subjects/ZFM-05496/2022-12-08/001/alf/task_00/_ibl_passivePeriods.intervalsTable.csv: 100%|\u001b[A\n",
      "\n",
      "(S3) /home/crombie/Downloads/ONE/alyx.internationalbrainlab.org/mainenlab/Subjects/ZFM-05496/2022-12-08/001/alf/task_00/_ibl_passiveGabor.table.csv:   0%| | 0.00/12.\u001b[A\n",
      "(S3) /home/crombie/Downloads/ONE/alyx.internationalbrainlab.org/mainenlab/Subjects/ZFM-05496/2022-12-08/001/alf/task_00/_ibl_passiveGabor.table.csv: 100%|█| 12.4k/12\u001b[A\n",
      "\n",
      "(S3) /home/crombie/Downloads/ONE/alyx.internationalbrainlab.org/mainenlab/Subjects/ZFM-05496/2022-12-08/001/alf/task_00/_ibl_passiveStims.table.csv:   0%| | 0.00/4.4\u001b[A\n",
      "(S3) /home/crombie/Downloads/ONE/alyx.internationalbrainlab.org/mainenlab/Subjects/ZFM-05496/2022-12-08/001/alf/task_00/_ibl_passiveStims.table.csv: 100%|█| 4.46k/4.\u001b[A\n",
      " 96%|███████████████████████████████████████████████████████████████████████████████████████████████████████████████████████████▍    | 27/28 [01:45<00:09,  9.05s/it]/home/crombie/code/psychedelics/psychedelic_functions.py:87: UserWarning: Fewer than 2 protocols found for 1bc4aea6-c6fa-4cb8-882f-ea1cc4a12667\n",
      "  warnings.warn(f\"Fewer than 2 protocols found for {eid}\")\n",
      "\n",
      "(S3) /home/crombie/Downloads/ONE/alyx.internationalbrainlab.org/mainenlab/Subjects/ZFM-05486/2022-12-07/001/alf/task_00/_ibl_passiveGabor.table.csv:   0%| | 0.00/12.\u001b[A\n",
      "(S3) /home/crombie/Downloads/ONE/alyx.internationalbrainlab.org/mainenlab/Subjects/ZFM-05486/2022-12-07/001/alf/task_00/_ibl_passiveGabor.table.csv: 100%|█| 12.4k/12\u001b[A\n",
      "100%|████████████████████████████████████████████████████████████████████████████████████████████████████████████████████████████████| 28/28 [01:50<00:00,  3.96s/it]\n"
     ]
    }
   ],
   "source": [
    "df_timings = get_protocol_timings(one, eids, df_infos=df_infos).set_index('eid')\n",
    "df_timings.to_csv('protocol_timings.csv')"
   ]
  },
  {
   "cell_type": "code",
   "execution_count": null,
   "id": "b956c930-4088-42b0-adbc-5b8508cd22ea",
   "metadata": {},
   "outputs": [],
   "source": []
  }
 ],
 "metadata": {
  "kernelspec": {
   "display_name": "Python 3 (ipykernel)",
   "language": "python",
   "name": "python3"
  },
  "language_info": {
   "codemirror_mode": {
    "name": "ipython",
    "version": 3
   },
   "file_extension": ".py",
   "mimetype": "text/x-python",
   "name": "python",
   "nbconvert_exporter": "python",
   "pygments_lexer": "ipython3",
   "version": "3.10.14"
  }
 },
 "nbformat": 4,
 "nbformat_minor": 5
}
