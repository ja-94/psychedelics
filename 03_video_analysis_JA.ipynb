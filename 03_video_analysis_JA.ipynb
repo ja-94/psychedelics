{
 "cells": [
  {
   "cell_type": "code",
   "execution_count": 6,
   "id": "e7585543-176f-4b64-91e3-5aa052c9aed3",
   "metadata": {},
   "outputs": [],
   "source": [
    "import numpy as np\n",
    "import pandas as pd\n",
    "from one.api import ONE\n",
    "from psyfun import io"
   ]
  },
  {
   "cell_type": "code",
   "execution_count": 8,
   "id": "f6a5acf5",
   "metadata": {},
   "outputs": [],
   "source": [
    "df_recordings = pd.read_csv('./metadata/recordings.csv')"
   ]
  },
  {
   "cell_type": "code",
   "execution_count": 9,
   "id": "a280d65f-1a61-4d17-8849-7d7c40245eb4",
   "metadata": {},
   "outputs": [],
   "source": [
    "one = ONE()"
   ]
  },
  {
   "cell_type": "code",
   "execution_count": 10,
   "id": "c3c3b741-3228-4387-99cc-3875cec0fbbb",
   "metadata": {},
   "outputs": [],
   "source": [
    "# Load recordings from previous query\n",
    "# df_recordings = io.load_recordings()  #Where did this function go?"
   ]
  },
  {
   "cell_type": "code",
   "execution_count": 23,
   "id": "45d69355-e1a8-4d15-bce4-fbd75120e590",
   "metadata": {},
   "outputs": [],
   "source": [
    "# Pick an example eid\n",
    "eids = df_recordings['eid'].unique()\n",
    "eid = eids[1]"
   ]
  },
  {
   "cell_type": "code",
   "execution_count": 24,
   "id": "f3a53886-4687-4ece-989d-bbe90be783c4",
   "metadata": {},
   "outputs": [
    {
     "data": {
      "text/plain": [
       "['alf/_ibl_bodyCamera.dlc.pqt',\n",
       " 'alf/_ibl_bodyCamera.times.npy',\n",
       " 'alf/_ibl_leftCamera.dlc.pqt',\n",
       " 'alf/_ibl_leftCamera.times.npy',\n",
       " 'alf/_ibl_rightCamera.dlc.pqt',\n",
       " 'alf/_ibl_rightCamera.times.npy',\n",
       " 'alf/bodyCamera.ROIMotionEnergy.npy',\n",
       " 'alf/leftCamera.ROIMotionEnergy.npy',\n",
       " 'alf/rightCamera.ROIMotionEnergy.npy',\n",
       " 'raw_video_data/_iblrig_bodyCamera.frameData.bin',\n",
       " 'raw_video_data/_iblrig_bodyCamera.raw.mp4',\n",
       " 'raw_video_data/_iblrig_leftCamera.frameData.bin',\n",
       " 'raw_video_data/_iblrig_leftCamera.raw.mp4',\n",
       " 'raw_video_data/_iblrig_rightCamera.frameData.bin',\n",
       " 'raw_video_data/_iblrig_rightCamera.raw.mp4']"
      ]
     },
     "execution_count": 24,
     "metadata": {},
     "output_type": "execute_result"
    }
   ],
   "source": [
    "# List video-related datasets\n",
    "[dataset for dataset in one.list_datasets(eid) if 'Camera' in dataset]"
   ]
  },
  {
   "cell_type": "code",
   "execution_count": 25,
   "id": "873a2ffd-f317-40dc-8587-55f021671e9d",
   "metadata": {},
   "outputs": [
    {
     "data": {
      "text/plain": [
       "['_ibl_experiment.description.yaml',\n",
       " 'alf/_ibl_bodyCamera.dlc.pqt',\n",
       " 'alf/_ibl_bodyCamera.times.npy',\n",
       " 'alf/_ibl_leftCamera.dlc.pqt',\n",
       " 'alf/_ibl_leftCamera.times.npy',\n",
       " 'alf/_ibl_rightCamera.dlc.pqt',\n",
       " 'alf/_ibl_rightCamera.times.npy',\n",
       " 'alf/bodyCamera.ROIMotionEnergy.npy',\n",
       " 'alf/bodyROIMotionEnergy.position.npy',\n",
       " 'alf/leftCamera.ROIMotionEnergy.npy',\n",
       " 'alf/leftROIMotionEnergy.position.npy',\n",
       " 'alf/probe00/electrodeSites.brainLocationIds_ccf_2017.npy',\n",
       " 'alf/probe00/electrodeSites.localCoordinates.npy',\n",
       " 'alf/probe00/electrodeSites.mlapdv.npy',\n",
       " 'alf/probe00/pykilosort/_ibl_log.info_pykilosort.log',\n",
       " 'alf/probe00/pykilosort/_kilosort_whitening.matrix.npy',\n",
       " 'alf/probe00/pykilosort/_phy_spikes_subset.channels.npy',\n",
       " 'alf/probe00/pykilosort/_phy_spikes_subset.spikes.npy',\n",
       " 'alf/probe00/pykilosort/_phy_spikes_subset.waveforms.npy',\n",
       " 'alf/probe00/pykilosort/channels.brainLocationIds_ccf_2017.npy',\n",
       " 'alf/probe00/pykilosort/channels.localCoordinates.npy',\n",
       " 'alf/probe00/pykilosort/channels.mlapdv.npy',\n",
       " 'alf/probe00/pykilosort/channels.rawInd.npy',\n",
       " 'alf/probe00/pykilosort/clusters.amps.npy',\n",
       " 'alf/probe00/pykilosort/clusters.channels.npy',\n",
       " 'alf/probe00/pykilosort/clusters.depths.npy',\n",
       " 'alf/probe00/pykilosort/clusters.metrics.pqt',\n",
       " 'alf/probe00/pykilosort/clusters.peakToTrough.npy',\n",
       " 'alf/probe00/pykilosort/clusters.uuids.csv',\n",
       " 'alf/probe00/pykilosort/clusters.waveforms.npy',\n",
       " 'alf/probe00/pykilosort/clusters.waveformsChannels.npy',\n",
       " 'alf/probe00/pykilosort/drift.times.npy',\n",
       " 'alf/probe00/pykilosort/drift.um.npy',\n",
       " 'alf/probe00/pykilosort/drift_depths.um.npy',\n",
       " 'alf/probe00/pykilosort/spikes.amps.npy',\n",
       " 'alf/probe00/pykilosort/spikes.clusters.npy',\n",
       " 'alf/probe00/pykilosort/spikes.depths.npy',\n",
       " 'alf/probe00/pykilosort/spikes.samples.npy',\n",
       " 'alf/probe00/pykilosort/spikes.templates.npy',\n",
       " 'alf/probe00/pykilosort/spikes.times.npy',\n",
       " 'alf/probe00/pykilosort/templates.amps.npy',\n",
       " 'alf/probe00/pykilosort/templates.waveforms.npy',\n",
       " 'alf/probe00/pykilosort/templates.waveformsChannels.npy',\n",
       " 'alf/probes.description.json',\n",
       " 'alf/rightCamera.ROIMotionEnergy.npy',\n",
       " 'alf/rightROIMotionEnergy.position.npy',\n",
       " 'alf/task_00/_ibl_passiveGabor.table.csv',\n",
       " 'alf/task_00/_ibl_passivePeriods.intervalsTable.csv',\n",
       " 'alf/task_00/_ibl_passiveRFM.times.npy',\n",
       " 'alf/task_00/_ibl_passiveStims.table.csv',\n",
       " 'alf/task_01/_ibl_passivePeriods.intervalsTable.csv',\n",
       " 'alf/task_01/_ibl_passiveRFM.times.npy',\n",
       " 'raw_ephys_data/_spikeglx_ephysData_g0_t0.nidq.cbin',\n",
       " 'raw_ephys_data/_spikeglx_ephysData_g0_t0.nidq.ch',\n",
       " 'raw_ephys_data/_spikeglx_ephysData_g0_t0.nidq.meta',\n",
       " 'raw_ephys_data/_spikeglx_ephysData_g0_t0.nidq.wiring.json',\n",
       " 'raw_ephys_data/_spikeglx_sync.channels.npy',\n",
       " 'raw_ephys_data/_spikeglx_sync.polarities.npy',\n",
       " 'raw_ephys_data/_spikeglx_sync.times.npy',\n",
       " 'raw_ephys_data/probe00/_iblqc_ephysChannels.apRMS.npy',\n",
       " 'raw_ephys_data/probe00/_iblqc_ephysChannels.labels.npy',\n",
       " 'raw_ephys_data/probe00/_iblqc_ephysChannels.rawSpikeRates.npy',\n",
       " 'raw_ephys_data/probe00/_iblqc_ephysSpectralDensityAP.freqs.npy',\n",
       " 'raw_ephys_data/probe00/_iblqc_ephysSpectralDensityAP.power.npy',\n",
       " 'raw_ephys_data/probe00/_iblqc_ephysSpectralDensityLF.freqs.npy',\n",
       " 'raw_ephys_data/probe00/_iblqc_ephysSpectralDensityLF.power.npy',\n",
       " 'raw_ephys_data/probe00/_iblqc_ephysTimeRmsLF.rms.npy',\n",
       " 'raw_ephys_data/probe00/_iblqc_ephysTimeRmsLF.timestamps.npy',\n",
       " 'raw_ephys_data/probe00/_spikeglx_ephysData_g0_t0.imec0.ap.cbin',\n",
       " 'raw_ephys_data/probe00/_spikeglx_ephysData_g0_t0.imec0.ap.ch',\n",
       " 'raw_ephys_data/probe00/_spikeglx_ephysData_g0_t0.imec0.ap.meta',\n",
       " 'raw_ephys_data/probe00/_spikeglx_ephysData_g0_t0.imec0.lf.cbin',\n",
       " 'raw_ephys_data/probe00/_spikeglx_ephysData_g0_t0.imec0.lf.ch',\n",
       " 'raw_ephys_data/probe00/_spikeglx_ephysData_g0_t0.imec0.lf.meta',\n",
       " 'raw_ephys_data/probe00/_spikeglx_ephysData_g0_t0.imec0.sync.npy',\n",
       " 'raw_ephys_data/probe00/_spikeglx_ephysData_g0_t0.imec0.timestamps.npy',\n",
       " 'raw_ephys_data/probe00/_spikeglx_ephysData_g0_t0.imec0.wiring.json',\n",
       " 'raw_ephys_data/probe00/_spikeglx_sync.channels.probe00.npy',\n",
       " 'raw_ephys_data/probe00/_spikeglx_sync.polarities.probe00.npy',\n",
       " 'raw_ephys_data/probe00/_spikeglx_sync.times.probe00.npy',\n",
       " 'raw_task_data_00/_iblrig_RFMapStim.raw.bin',\n",
       " 'raw_task_data_00/_iblrig_encoderEvents.raw.ssv',\n",
       " 'raw_task_data_00/_iblrig_encoderPositions.raw.ssv',\n",
       " 'raw_task_data_00/_iblrig_encoderTrialInfo.raw.ssv',\n",
       " 'raw_task_data_00/_iblrig_stimPositionScreen.raw.csv',\n",
       " 'raw_task_data_00/_iblrig_syncSquareUpdate.raw.csv',\n",
       " 'raw_task_data_00/_iblrig_taskSettings.raw.json',\n",
       " 'raw_task_data_01/_iblrig_RFMapStim.raw.bin',\n",
       " 'raw_task_data_01/_iblrig_encoderEvents.raw.ssv',\n",
       " 'raw_task_data_01/_iblrig_encoderPositions.raw.ssv',\n",
       " 'raw_task_data_01/_iblrig_encoderTrialInfo.raw.ssv',\n",
       " 'raw_task_data_01/_iblrig_stimPositionScreen.raw.csv',\n",
       " 'raw_task_data_01/_iblrig_syncSquareUpdate.raw.csv',\n",
       " 'raw_task_data_01/_iblrig_taskSettings.raw.json',\n",
       " 'raw_video_data/_iblrig_bodyCamera.frameData.bin',\n",
       " 'raw_video_data/_iblrig_bodyCamera.raw.mp4',\n",
       " 'raw_video_data/_iblrig_leftCamera.frameData.bin',\n",
       " 'raw_video_data/_iblrig_leftCamera.raw.mp4',\n",
       " 'raw_video_data/_iblrig_rightCamera.frameData.bin',\n",
       " 'raw_video_data/_iblrig_rightCamera.raw.mp4',\n",
       " 'spike_sorters/pykilosort/probe00/_kilosort_raw.output.tar']"
      ]
     },
     "execution_count": 25,
     "metadata": {},
     "output_type": "execute_result"
    }
   ],
   "source": [
    "# List video-related datasets\n",
    "[dataset for dataset in one.list_datasets(eid) if '' in dataset]"
   ]
  },
  {
   "cell_type": "code",
   "execution_count": 26,
   "id": "dba88ce1-ee5d-4658-923f-f67933e535cd",
   "metadata": {},
   "outputs": [
    {
     "data": {
      "text/plain": [
       "'/home/openlab/anaconda3/envs/iblenv/lib/python3.10/site-packages/ibllib/__init__.py'"
      ]
     },
     "execution_count": 26,
     "metadata": {},
     "output_type": "execute_result"
    }
   ],
   "source": [
    "import ibllib\n",
    "ibllib.__file__"
   ]
  },
  {
   "cell_type": "code",
   "execution_count": 27,
   "id": "6095ed50-b003-42d0-aecf-78d947d19265",
   "metadata": {},
   "outputs": [
    {
     "name": "stderr",
     "output_type": "stream",
     "text": [
      "(S3) /home/openlab/Downloads/ONE/alyx.internationalbrainlab.org/mainenlab/Subjects/ZFM-06301/2023-07-11/001/raw_video_data/_iblrig_leftCamera.raw.mp4: 100%|██████████| 3.44G/3.44G [03:26<00:00, 16.6MB/s]\n"
     ]
    }
   ],
   "source": [
    "# Download raw video, return path\n",
    "fpath_video = one.load_dataset(eid, f'*leftCamera.raw*', collection='raw_video_data')"
   ]
  },
  {
   "cell_type": "code",
   "execution_count": 28,
   "id": "ba4c7226-c4cf-4f45-a42b-6c3be16637aa",
   "metadata": {},
   "outputs": [
    {
     "name": "stdout",
     "output_type": "stream",
     "text": [
      "(512, 640, 3)\n",
      "(10, 512, 640, 3)0\u001b[2K\n"
     ]
    }
   ],
   "source": [
    "# Use io.video to stream video data instead of dodwnloading full videos\n",
    "import ibllib.io.video as vidio\n",
    "label = 'body' # 'left', 'right' or 'body'\n",
    "\n",
    "# Find url of video data to stream\n",
    "url = vidio.url_from_eid(eid, one=one)[label]\n",
    "# Load video timestamps\n",
    "ts = one.load_dataset(eid, f'*{label}Camera.times*', collection='alf')\n",
    "# Find the frame closest to 1000s into data\n",
    "frame_n = np.searchsorted(ts, 1000)\n",
    "# Stream the data\n",
    "frame = vidio.get_video_frame(url, frame_n)\n",
    "print(frame.shape)\n",
    "\n",
    "# Load the first 10 video frames\n",
    "frames = vidio.get_video_frames_preload(url, range(10))\n",
    "print(frames.shape)"
   ]
  },
  {
   "cell_type": "code",
   "execution_count": 29,
   "id": "8d0e26f7-e523-45f6-8432-114726b0d1ea",
   "metadata": {},
   "outputs": [
    {
     "name": "stdout",
     "output_type": "stream",
     "text": [
      "The video length = 1697483\n",
      "The video fps = 30\n",
      "The video width = 640\n",
      "The video height = 512\n",
      "The video duration = 15:43:02.766667\n",
      "The video size = 11554467252\n"
     ]
    }
   ],
   "source": [
    "# Get video metadata\n",
    "meta = vidio.get_video_meta(url, one=one)\n",
    "for k, v in meta.items():\n",
    "    print(f'The video {k} = {v}')"
   ]
  },
  {
   "cell_type": "code",
   "execution_count": 30,
   "id": "8787f0aa-3f66-4a91-b9fa-caf354298010",
   "metadata": {},
   "outputs": [
    {
     "name": "stderr",
     "output_type": "stream",
     "text": [
      "(S3) /home/openlab/Downloads/ONE/alyx.internationalbrainlab.org/mainenlab/Subjects/ZFM-06301/2023-07-11/001/raw_video_data/_iblrig_leftCamera.frameData.bin: 100%|██████████| 7.76M/7.76M [00:03<00:00, 2.40MB/s]\n",
      "(S3) /home/openlab/Downloads/ONE/alyx.internationalbrainlab.org/mainenlab/Subjects/ZFM-06301/2023-07-11/001/raw_video_data/_iblrig_rightCamera.frameData.bin: 100%|██████████| 19.5M/19.5M [00:04<00:00, 4.61MB/s]\n",
      "(S3) /home/openlab/Downloads/ONE/alyx.internationalbrainlab.org/mainenlab/Subjects/ZFM-06301/2023-07-11/001/raw_video_data/_iblrig_bodyCamera.frameData.bin: 100%|██████████| 54.3M/54.3M [00:07<00:00, 7.32MB/s]\n"
     ]
    }
   ],
   "source": [
    "# Download frameData\n",
    "for camera in ['left', 'right', 'body']:\n",
    "    one.load_dataset(eid, f'_iblrig_{camera}Camera.frameData.bin')"
   ]
  },
  {
   "cell_type": "code",
   "execution_count": 31,
   "id": "f61cdb1b-7e91-42aa-9511-bbcb8de04402",
   "metadata": {},
   "outputs": [],
   "source": [
    "# Use io.camera module to run video QC\n",
    "from ibllib.qc.camera import CameraQC\n"
   ]
  },
  {
   "cell_type": "code",
   "execution_count": 32,
   "id": "3c501b28-2827-499b-bf92-63ed56752db5",
   "metadata": {},
   "outputs": [
    {
     "name": "stderr",
     "output_type": "stream",
     "text": [
      "(S3) /home/openlab/Downloads/ONE/alyx.internationalbrainlab.org/mainenlab/Subjects/ZFM-06301/2023-07-11/001/raw_task_data_00/_iblrig_encoderPositions.raw.ssv: 100%|██████████| 45.0k/45.0k [00:00<00:00, 99.7kB/s]\n",
      "(S3) /home/openlab/Downloads/ONE/alyx.internationalbrainlab.org/mainenlab/Subjects/ZFM-06301/2023-07-11/001/raw_task_data_00/_iblrig_encoderEvents.raw.ssv: 0.00B [00:00, ?B/s]\n",
      "(S3) /home/openlab/Downloads/ONE/alyx.internationalbrainlab.org/mainenlab/Subjects/ZFM-06301/2023-07-11/001/raw_task_data_00/_iblrig_encoderTrialInfo.raw.ssv: 100%|██████████| 13.6k/13.6k [00:00<00:00, 39.2kB/s]\n",
      "(S3) /home/openlab/Downloads/ONE/alyx.internationalbrainlab.org/mainenlab/Subjects/ZFM-06301/2023-07-11/001/raw_task_data_00/_iblrig_RFMapStim.raw.bin: 100%|██████████| 4.05M/4.05M [00:01<00:00, 2.44MB/s]\n",
      "(S3) /home/openlab/Downloads/ONE/alyx.internationalbrainlab.org/mainenlab/Subjects/ZFM-06301/2023-07-11/001/raw_task_data_00/_iblrig_syncSquareUpdate.raw.csv: 100%|██████████| 13.8k/13.8k [00:00<00:00, 36.1kB/s]\n",
      "(S3) /home/openlab/Downloads/ONE/alyx.internationalbrainlab.org/mainenlab/Subjects/ZFM-06301/2023-07-11/001/raw_task_data_01/_iblrig_encoderEvents.raw.ssv: 0.00B [00:00, ?B/s]\n",
      "(S3) /home/openlab/Downloads/ONE/alyx.internationalbrainlab.org/mainenlab/Subjects/ZFM-06301/2023-07-11/001/raw_task_data_01/_iblrig_encoderTrialInfo.raw.ssv: 100%|██████████| 13.6k/13.6k [00:00<00:00, 35.6kB/s]\n",
      "(S3) /home/openlab/Downloads/ONE/alyx.internationalbrainlab.org/mainenlab/Subjects/ZFM-06301/2023-07-11/001/raw_task_data_01/_iblrig_syncSquareUpdate.raw.csv: 100%|██████████| 13.8k/13.8k [00:00<00:00, 40.2kB/s]\n",
      "(S3) /home/openlab/Downloads/ONE/alyx.internationalbrainlab.org/mainenlab/Subjects/ZFM-06301/2023-07-11/001/raw_task_data_01/_iblrig_encoderPositions.raw.ssv: 100%|██████████| 78.4k/78.4k [00:00<00:00, 140kB/s]\n",
      "(S3) /home/openlab/Downloads/ONE/alyx.internationalbrainlab.org/mainenlab/Subjects/ZFM-06301/2023-07-11/001/raw_task_data_01/_iblrig_RFMapStim.raw.bin: 100%|██████████| 4.05M/4.05M [00:01<00:00, 2.23MB/s]\n"
     ]
    }
   ],
   "source": [
    "for task in ['00', '01']:\n",
    "    _ = one.load_collection(eid, f'raw_task_data_{task}')"
   ]
  },
  {
   "cell_type": "code",
   "execution_count": 33,
   "id": "3707bd19-6083-4202-8419-af3a1428a046",
   "metadata": {},
   "outputs": [
    {
     "name": "stdout",
     "output_type": "stream",
     "text": [
      "\u001b[36m2025-05-08 16:45:11 INFO     camera.py:407  Computing QC outcome for left camera, session 86f743cd-ee0d-4ca5-a107-dca9a0cf3f7a\u001b[0m\n",
      "\u001b[36m2025-05-08 16:45:11 INFO     camera.py:207  Gathering data for QC\u001b[0m\n"
     ]
    },
    {
     "ename": "ALFObjectNotFound",
     "evalue": "No object \"sync\" found in /home/openlab/Downloads/ONE/alyx.internationalbrainlab.org/mainenlab/Subjects/ZFM-06301/2023-07-11/001/raw_task_data \n The ALF object was not found.  This may occur if the object or namespace or incorrectly formatted e.g. the object \"_ibl_trials.intervals.npy\" would be found with the filters `object=\"trials\", namespace=\"ibl\"` ",
     "output_type": "error",
     "traceback": [
      "\u001b[0;31m---------------------------------------------------------------------------\u001b[0m",
      "\u001b[0;31mALFObjectNotFound\u001b[0m                         Traceback (most recent call last)",
      "Cell \u001b[0;32mIn[33], line 5\u001b[0m\n\u001b[1;32m      3\u001b[0m qc \u001b[38;5;241m=\u001b[39m CameraQC(eid, camera\u001b[38;5;241m=\u001b[39mcamera, sync_collection\u001b[38;5;241m=\u001b[39m\u001b[38;5;124m'\u001b[39m\u001b[38;5;124mraw_task_data\u001b[39m\u001b[38;5;124m'\u001b[39m, one\u001b[38;5;241m=\u001b[39mone)\n\u001b[1;32m      4\u001b[0m \u001b[38;5;66;03m# qc.run(download_data=True)\u001b[39;00m\n\u001b[0;32m----> 5\u001b[0m \u001b[43mqc\u001b[49m\u001b[38;5;241;43m.\u001b[39;49m\u001b[43mrun\u001b[49m\u001b[43m(\u001b[49m\u001b[43m)\u001b[49m\n",
      "File \u001b[0;32m~/anaconda3/envs/iblenv/lib/python3.10/site-packages/ibllib/qc/camera.py:410\u001b[0m, in \u001b[0;36mCameraQC.run\u001b[0;34m(self, update, **kwargs)\u001b[0m\n\u001b[1;32m    408\u001b[0m namespace \u001b[38;5;241m=\u001b[39m \u001b[38;5;124mf\u001b[39m\u001b[38;5;124m'\u001b[39m\u001b[38;5;124mvideo\u001b[39m\u001b[38;5;132;01m{\u001b[39;00m\u001b[38;5;28mself\u001b[39m\u001b[38;5;241m.\u001b[39mlabel\u001b[38;5;241m.\u001b[39mcapitalize()\u001b[38;5;132;01m}\u001b[39;00m\u001b[38;5;124m'\u001b[39m\n\u001b[1;32m    409\u001b[0m \u001b[38;5;28;01mif\u001b[39;00m \u001b[38;5;28mall\u001b[39m(x \u001b[38;5;129;01mis\u001b[39;00m \u001b[38;5;28;01mNone\u001b[39;00m \u001b[38;5;28;01mfor\u001b[39;00m x \u001b[38;5;129;01min\u001b[39;00m \u001b[38;5;28mself\u001b[39m\u001b[38;5;241m.\u001b[39mdata\u001b[38;5;241m.\u001b[39mvalues()):\n\u001b[0;32m--> 410\u001b[0m     \u001b[38;5;28;43mself\u001b[39;49m\u001b[38;5;241;43m.\u001b[39;49m\u001b[43mload_data\u001b[49m\u001b[43m(\u001b[49m\u001b[38;5;241;43m*\u001b[39;49m\u001b[38;5;241;43m*\u001b[39;49m\u001b[43mkwargs\u001b[49m\u001b[43m)\u001b[49m\n\u001b[1;32m    411\u001b[0m \u001b[38;5;28;01mif\u001b[39;00m \u001b[38;5;28mself\u001b[39m\u001b[38;5;241m.\u001b[39mdata[\u001b[38;5;124m'\u001b[39m\u001b[38;5;124mframe_samples\u001b[39m\u001b[38;5;124m'\u001b[39m] \u001b[38;5;129;01mis\u001b[39;00m \u001b[38;5;28;01mNone\u001b[39;00m \u001b[38;5;129;01mor\u001b[39;00m \u001b[38;5;28mself\u001b[39m\u001b[38;5;241m.\u001b[39mdata[\u001b[38;5;124m'\u001b[39m\u001b[38;5;124mtimestamps\u001b[39m\u001b[38;5;124m'\u001b[39m] \u001b[38;5;129;01mis\u001b[39;00m \u001b[38;5;28;01mNone\u001b[39;00m:\n\u001b[1;32m    412\u001b[0m     \u001b[38;5;28;01mreturn\u001b[39;00m spec\u001b[38;5;241m.\u001b[39mQC\u001b[38;5;241m.\u001b[39mNOT_SET, {}\n",
      "File \u001b[0;32m~/anaconda3/envs/iblenv/lib/python3.10/site-packages/ibllib/qc/camera.py:226\u001b[0m, in \u001b[0;36mCameraQC.load_data\u001b[0;34m(self, extract_times, load_video)\u001b[0m\n\u001b[1;32m    224\u001b[0m ns \u001b[38;5;241m=\u001b[39m ns \u001b[38;5;129;01mor\u001b[39;00m \u001b[38;5;124m'\u001b[39m\u001b[38;5;124mspikeglx\u001b[39m\u001b[38;5;124m'\u001b[39m\n\u001b[1;32m    225\u001b[0m \u001b[38;5;28;01mif\u001b[39;00m ns \u001b[38;5;241m==\u001b[39m \u001b[38;5;124m'\u001b[39m\u001b[38;5;124mspikeglx\u001b[39m\u001b[38;5;124m'\u001b[39m:\n\u001b[0;32m--> 226\u001b[0m     sync, chmap \u001b[38;5;241m=\u001b[39m \u001b[43mephys_fpga\u001b[49m\u001b[38;5;241;43m.\u001b[39;49m\u001b[43mget_sync_and_chn_map\u001b[49m\u001b[43m(\u001b[49m\u001b[38;5;28;43mself\u001b[39;49m\u001b[38;5;241;43m.\u001b[39;49m\u001b[43msession_path\u001b[49m\u001b[43m,\u001b[49m\u001b[43m \u001b[49m\u001b[38;5;28;43mself\u001b[39;49m\u001b[38;5;241;43m.\u001b[39;49m\u001b[43msync_collection\u001b[49m\u001b[43m)\u001b[49m\n\u001b[1;32m    227\u001b[0m \u001b[38;5;28;01melif\u001b[39;00m ns \u001b[38;5;241m==\u001b[39m \u001b[38;5;124m'\u001b[39m\u001b[38;5;124mtimeline\u001b[39m\u001b[38;5;124m'\u001b[39m:\n\u001b[1;32m    228\u001b[0m     sync, chmap \u001b[38;5;241m=\u001b[39m load_timeline_sync_and_chmap(\u001b[38;5;28mself\u001b[39m\u001b[38;5;241m.\u001b[39msession_path \u001b[38;5;241m/\u001b[39m \u001b[38;5;28mself\u001b[39m\u001b[38;5;241m.\u001b[39msync_collection)\n",
      "File \u001b[0;32m~/anaconda3/envs/iblenv/lib/python3.10/site-packages/ibllib/io/extractors/ephys_fpga.py:1604\u001b[0m, in \u001b[0;36mget_sync_and_chn_map\u001b[0;34m(session_path, sync_collection)\u001b[0m\n\u001b[1;32m   1601\u001b[0m         chmap \u001b[38;5;241m=\u001b[39m get_ibl_sync_map(ef, \u001b[38;5;124m'\u001b[39m\u001b[38;5;124m3B\u001b[39m\u001b[38;5;124m'\u001b[39m)\n\u001b[1;32m   1603\u001b[0m \u001b[38;5;28;01melse\u001b[39;00m:\n\u001b[0;32m-> 1604\u001b[0m     sync \u001b[38;5;241m=\u001b[39m \u001b[43mload_sync\u001b[49m\u001b[43m(\u001b[49m\u001b[43msession_path\u001b[49m\u001b[43m,\u001b[49m\u001b[43m \u001b[49m\u001b[43msync_collection\u001b[49m\u001b[43m)\u001b[49m\n\u001b[1;32m   1605\u001b[0m     chmap \u001b[38;5;241m=\u001b[39m load_channel_map(session_path, sync_collection)\n\u001b[1;32m   1607\u001b[0m \u001b[38;5;28;01mreturn\u001b[39;00m sync, chmap\n",
      "File \u001b[0;32m~/anaconda3/envs/iblenv/lib/python3.10/site-packages/ibllib/io/extractors/ephys_fpga.py:1661\u001b[0m, in \u001b[0;36mload_sync\u001b[0;34m(session_path, sync_collection)\u001b[0m\n\u001b[1;32m   1644\u001b[0m \u001b[38;5;28;01mdef\u001b[39;00m\u001b[38;5;250m \u001b[39m\u001b[38;5;21mload_sync\u001b[39m(session_path, sync_collection):\n\u001b[1;32m   1645\u001b[0m \u001b[38;5;250m    \u001b[39m\u001b[38;5;124;03m\"\"\"\u001b[39;00m\n\u001b[1;32m   1646\u001b[0m \u001b[38;5;124;03m    Load sync files from session path and collection.\u001b[39;00m\n\u001b[1;32m   1647\u001b[0m \n\u001b[0;32m   (...)\u001b[0m\n\u001b[1;32m   1659\u001b[0m \u001b[38;5;124;03m        the corresponding channel numbers.\u001b[39;00m\n\u001b[1;32m   1660\u001b[0m \u001b[38;5;124;03m    \"\"\"\u001b[39;00m\n\u001b[0;32m-> 1661\u001b[0m     sync \u001b[38;5;241m=\u001b[39m \u001b[43malfio\u001b[49m\u001b[38;5;241;43m.\u001b[39;49m\u001b[43mload_object\u001b[49m\u001b[43m(\u001b[49m\u001b[43msession_path\u001b[49m\u001b[38;5;241;43m.\u001b[39;49m\u001b[43mjoinpath\u001b[49m\u001b[43m(\u001b[49m\u001b[43msync_collection\u001b[49m\u001b[43m)\u001b[49m\u001b[43m,\u001b[49m\u001b[43m \u001b[49m\u001b[38;5;124;43m'\u001b[39;49m\u001b[38;5;124;43msync\u001b[39;49m\u001b[38;5;124;43m'\u001b[39;49m\u001b[43m,\u001b[49m\u001b[43m \u001b[49m\u001b[43mnamespace\u001b[49m\u001b[38;5;241;43m=\u001b[39;49m\u001b[38;5;124;43m'\u001b[39;49m\u001b[38;5;124;43mspikeglx\u001b[39;49m\u001b[38;5;124;43m'\u001b[39;49m\u001b[43m,\u001b[49m\u001b[43m \u001b[49m\u001b[43mshort_keys\u001b[49m\u001b[38;5;241;43m=\u001b[39;49m\u001b[38;5;28;43;01mTrue\u001b[39;49;00m\u001b[43m)\u001b[49m\n\u001b[1;32m   1663\u001b[0m     \u001b[38;5;28;01mreturn\u001b[39;00m sync\n",
      "File \u001b[0;32m~/anaconda3/envs/iblenv/lib/python3.10/site-packages/one/alf/io.py:521\u001b[0m, in \u001b[0;36mload_object\u001b[0;34m(alfpath, object, short_keys, **kwargs)\u001b[0m\n\u001b[1;32m    519\u001b[0m     \u001b[38;5;28;01mif\u001b[39;00m Path(alfpath)\u001b[38;5;241m.\u001b[39mis_dir() \u001b[38;5;129;01mand\u001b[39;00m \u001b[38;5;28mobject\u001b[39m \u001b[38;5;129;01mis\u001b[39;00m \u001b[38;5;28;01mNone\u001b[39;00m:\n\u001b[1;32m    520\u001b[0m         \u001b[38;5;28;01mraise\u001b[39;00m \u001b[38;5;167;01mValueError\u001b[39;00m(\u001b[38;5;124m'\u001b[39m\u001b[38;5;124mIf a directory is provided, the object name should be provided too\u001b[39m\u001b[38;5;124m'\u001b[39m)\n\u001b[0;32m--> 521\u001b[0m     files_alf, parts \u001b[38;5;241m=\u001b[39m \u001b[43m_ls\u001b[49m\u001b[43m(\u001b[49m\u001b[43malfpath\u001b[49m\u001b[43m,\u001b[49m\u001b[43m \u001b[49m\u001b[38;5;28;43mobject\u001b[39;49m\u001b[43m,\u001b[49m\u001b[43m \u001b[49m\u001b[38;5;241;43m*\u001b[39;49m\u001b[38;5;241;43m*\u001b[39;49m\u001b[43mkwargs\u001b[49m\u001b[43m)\u001b[49m\n\u001b[1;32m    522\u001b[0m \u001b[38;5;28;01melse\u001b[39;00m:  \u001b[38;5;66;03m# A list of paths allows us to load an object from different revisions\u001b[39;00m\n\u001b[1;32m    523\u001b[0m     files_alf \u001b[38;5;241m=\u001b[39m \u001b[38;5;28mlist\u001b[39m(\u001b[38;5;28mmap\u001b[39m(path\u001b[38;5;241m.\u001b[39mALFPath, alfpath))\n",
      "File \u001b[0;32m~/anaconda3/envs/iblenv/lib/python3.10/site-packages/one/alf/io.py:379\u001b[0m, in \u001b[0;36m_ls\u001b[0;34m(alfpath, object, **kwargs)\u001b[0m\n\u001b[1;32m    377\u001b[0m \u001b[38;5;28;01mif\u001b[39;00m \u001b[38;5;129;01mnot\u001b[39;00m files_alf:\n\u001b[1;32m    378\u001b[0m     err_str \u001b[38;5;241m=\u001b[39m \u001b[38;5;124mf\u001b[39m\u001b[38;5;124m'\u001b[39m\u001b[38;5;124mobject \u001b[39m\u001b[38;5;124m\"\u001b[39m\u001b[38;5;132;01m{\u001b[39;00m\u001b[38;5;28mobject\u001b[39m\u001b[38;5;132;01m}\u001b[39;00m\u001b[38;5;124m\"\u001b[39m\u001b[38;5;124m'\u001b[39m \u001b[38;5;28;01mif\u001b[39;00m \u001b[38;5;28mobject\u001b[39m \u001b[38;5;28;01melse\u001b[39;00m \u001b[38;5;124m'\u001b[39m\u001b[38;5;124mALF files\u001b[39m\u001b[38;5;124m'\u001b[39m\n\u001b[0;32m--> 379\u001b[0m     \u001b[38;5;28;01mraise\u001b[39;00m ALFObjectNotFound(\u001b[38;5;124mf\u001b[39m\u001b[38;5;124m'\u001b[39m\u001b[38;5;124mNo \u001b[39m\u001b[38;5;132;01m{\u001b[39;00merr_str\u001b[38;5;132;01m}\u001b[39;00m\u001b[38;5;124m found in \u001b[39m\u001b[38;5;132;01m{\u001b[39;00malfpath\u001b[38;5;132;01m}\u001b[39;00m\u001b[38;5;124m'\u001b[39m)\n\u001b[1;32m    381\u001b[0m \u001b[38;5;28;01mreturn\u001b[39;00m [alfpath\u001b[38;5;241m.\u001b[39mjoinpath(f) \u001b[38;5;28;01mfor\u001b[39;00m f \u001b[38;5;129;01min\u001b[39;00m files_alf], attributes\n",
      "\u001b[0;31mALFObjectNotFound\u001b[0m: No object \"sync\" found in /home/openlab/Downloads/ONE/alyx.internationalbrainlab.org/mainenlab/Subjects/ZFM-06301/2023-07-11/001/raw_task_data \n The ALF object was not found.  This may occur if the object or namespace or incorrectly formatted e.g. the object \"_ibl_trials.intervals.npy\" would be found with the filters `object=\"trials\", namespace=\"ibl\"` "
     ]
    }
   ],
   "source": [
    "# Run camera QC\n",
    "camera = 'left'  # 'left', 'right', 'body'\n",
    "qc = CameraQC(eid, camera=camera, sync_collection='raw_task_data', one=one)\n",
    "# qc.run(download_data=True)\n",
    "qc.run()"
   ]
  },
  {
   "cell_type": "code",
   "execution_count": null,
   "id": "d3fb69b1-93b0-405f-a4d7-11848a73c383",
   "metadata": {},
   "outputs": [
    {
     "data": {
      "text/plain": [
       "\u001b[0;31mSignature:\u001b[0m \u001b[0mqc\u001b[0m\u001b[0;34m.\u001b[0m\u001b[0mrun\u001b[0m\u001b[0;34m(\u001b[0m\u001b[0mupdate\u001b[0m\u001b[0;34m:\u001b[0m \u001b[0mbool\u001b[0m \u001b[0;34m=\u001b[0m \u001b[0;32mFalse\u001b[0m\u001b[0;34m,\u001b[0m \u001b[0;34m**\u001b[0m\u001b[0mkwargs\u001b[0m\u001b[0;34m)\u001b[0m \u001b[0;34m->\u001b[0m \u001b[0;34m(\u001b[0m\u001b[0;34m<\u001b[0m\u001b[0;32mclass\u001b[0m \u001b[0;34m'str'\u001b[0m\u001b[0;34m>\u001b[0m\u001b[0;34m,\u001b[0m \u001b[0;34m<\u001b[0m\u001b[0;32mclass\u001b[0m \u001b[0;34m'dict'\u001b[0m\u001b[0;34m>\u001b[0m\u001b[0;34m)\u001b[0m\u001b[0;34m\u001b[0m\u001b[0;34m\u001b[0m\u001b[0m\n",
       "\u001b[0;31mDocstring:\u001b[0m\n",
       "Run video QC checks and return outcome.\n",
       "\n",
       ":param update: if True, updates the session QC fields on Alyx\n",
       ":param download_data: if True, downloads any missing data if required\n",
       ":param extract_times: if True, re-extracts the camera timestamps from the raw data\n",
       ":returns: overall outcome as a str, a dict of checks and their outcomes\n",
       "\u001b[0;31mFile:\u001b[0m      ~/miniconda3/envs/iblenv/lib/python3.10/site-packages/ibllib/qc/camera.py\n",
       "\u001b[0;31mType:\u001b[0m      method"
      ]
     },
     "metadata": {},
     "output_type": "display_data"
    }
   ],
   "source": [
    "qc.run?"
   ]
  },
  {
   "cell_type": "code",
   "execution_count": null,
   "id": "a6a4f5e2-6354-4631-a1c7-2ab992c66ba0",
   "metadata": {},
   "outputs": [],
   "source": [
    "from ibllib.io import raw_data_loaders as raw\n",
    "from ibllib.io.session_params import get_task_collection, read_params, get_sync"
   ]
  },
  {
   "cell_type": "code",
   "execution_count": null,
   "id": "796a70d1-14a2-4561-9963-b3afdaf81870",
   "metadata": {},
   "outputs": [],
   "source": [
    "read_params(qc.session_path)"
   ]
  },
  {
   "cell_type": "code",
   "execution_count": null,
   "id": "6f43819f-e482-4fb8-ada5-560155e2eb7e",
   "metadata": {},
   "outputs": [
    {
     "data": {
      "text/plain": [
       "\u001b[0;31mSignature:\u001b[0m \u001b[0mget_task_collection\u001b[0m\u001b[0;34m(\u001b[0m\u001b[0msess_params\u001b[0m\u001b[0;34m,\u001b[0m \u001b[0mtask_protocol\u001b[0m\u001b[0;34m=\u001b[0m\u001b[0;32mNone\u001b[0m\u001b[0;34m)\u001b[0m\u001b[0;34m\u001b[0m\u001b[0;34m\u001b[0m\u001b[0m\n",
       "\u001b[0;31mDocstring:\u001b[0m\n",
       "Fetch the task collection from an experiment description dict.\n",
       "\n",
       "Parameters\n",
       "----------\n",
       "sess_params : dict\n",
       "    The loaded experiment.description file.\n",
       "task_protocol : str, optional\n",
       "    Return the collection that corresponds to this protocol (returns the first matching\n",
       "    protocol in the list). If None, all collections are returned.\n",
       "\n",
       "Returns\n",
       "-------\n",
       "str, set, None\n",
       "    If task_protocol is None, returns the set of collections, otherwise returns the first\n",
       "    collection that corresponds to the protocol, or None if protocol not present.\n",
       "\n",
       "Notes\n",
       "-----\n",
       "- The order of the set may not be the same as the descriptions tasks order when iterating.\n",
       "\u001b[0;31mFile:\u001b[0m      ~/miniconda3/envs/iblenv/lib/python3.10/site-packages/ibllib/io/session_params.py\n",
       "\u001b[0;31mType:\u001b[0m      function"
      ]
     },
     "metadata": {},
     "output_type": "display_data"
    }
   ],
   "source": [
    "get_task_collection?"
   ]
  },
  {
   "cell_type": "code",
   "execution_count": null,
   "id": "a70fe7f9-846d-4403-92af-79eb2edc2be6",
   "metadata": {},
   "outputs": [],
   "source": [
    "read_params(qc.session_path)"
   ]
  },
  {
   "cell_type": "code",
   "execution_count": null,
   "id": "98d64824-c399-48df-a6db-76a1e49cdc10",
   "metadata": {},
   "outputs": [],
   "source": [
    "next(qc.session_path.joinpath('raw_video_data').glob(f'_iblrig_{label}Camera.frameData*.bin'), None)"
   ]
  },
  {
   "cell_type": "code",
   "execution_count": null,
   "id": "030518d7-2eaf-4a5a-9c1c-69a9124e5c1a",
   "metadata": {},
   "outputs": [
    {
     "data": {
      "text/plain": [
       "(None, None)"
      ]
     },
     "execution_count": 17,
     "metadata": {},
     "output_type": "execute_result"
    }
   ],
   "source": [
    "raw.load_embedded_frame_data(qc.session_path, qc.label, raw=True)"
   ]
  },
  {
   "cell_type": "code",
   "execution_count": null,
   "id": "46585b68-c4db-4257-a086-6368fa5ce122",
   "metadata": {},
   "outputs": [],
   "source": [
    "# Run specific video QC check and display the plots\n",
    "qc.load_data(download_data=True)\n",
    "qc.check_position(display=True)  # NB: Not all checks make plots\n",
    "# qc.run()"
   ]
  },
  {
   "cell_type": "code",
   "execution_count": null,
   "id": "91a55ac3-8cbb-4bca-94e0-0ee1e890671e",
   "metadata": {},
   "outputs": [],
   "source": [
    "from ibllib.qc.camera import run_all_qc\n",
    "# Run the QC for all cameras\n",
    "qcs = run_all_qc(eid)"
   ]
  },
  {
   "cell_type": "code",
   "execution_count": null,
   "id": "5c378b8b-6e96-4343-a13d-9d81f7b567b4",
   "metadata": {},
   "outputs": [
    {
     "data": {
      "text/plain": [
       "PosixPath('/home/crombie/Downloads/ONE/alyx.internationalbrainlab.org/mainenlab/Subjects/ZFM-06296/2023-07-13/001')"
      ]
     },
     "execution_count": 22,
     "metadata": {},
     "output_type": "execute_result"
    }
   ],
   "source": [
    "qc.one.eid2path(eid)"
   ]
  },
  {
   "cell_type": "code",
   "execution_count": null,
   "id": "19a1b1c8-da97-410b-9ed0-e28f6222f4ae",
   "metadata": {},
   "outputs": [
    {
     "data": {
      "text/plain": [
       "PosixPath('/home/crombie/Downloads/ONE/alyx.internationalbrainlab.org/mainenlab/Subjects/ZFM-06296/2023-07-13/001')"
      ]
     },
     "execution_count": 26,
     "metadata": {},
     "output_type": "execute_result"
    }
   ],
   "source": [
    "one.mode = 'remote'\n",
    "one.eid2path(eid, 'remote')"
   ]
  },
  {
   "cell_type": "code",
   "execution_count": null,
   "id": "241fc187-030a-4572-a537-2ea77ecd1f02",
   "metadata": {},
   "outputs": [
    {
     "data": {
      "text/plain": [
       "{'body': 'https://ibl.flatironinstitute.org/mainenlab/Subjects/ZFM-06296/2023-07-13/001/raw_video_data/_iblrig_bodyCamera.raw.19681bd0-abfc-442a-98c3-b42b3ed70e42.mp4',\n",
       " 'left': 'https://ibl.flatironinstitute.org/mainenlab/Subjects/ZFM-06296/2023-07-13/001/raw_video_data/_iblrig_leftCamera.raw.2154c006-2d60-45b6-9c26-f724c08a6ce0.mp4',\n",
       " 'right': 'https://ibl.flatironinstitute.org/mainenlab/Subjects/ZFM-06296/2023-07-13/001/raw_video_data/_iblrig_rightCamera.raw.2844879c-138f-483d-a0e8-e033ab552975.mp4'}"
      ]
     },
     "execution_count": 28,
     "metadata": {},
     "output_type": "execute_result"
    }
   ],
   "source": [
    "vidio.url_from_eid(eid, one=one)"
   ]
  },
  {
   "cell_type": "code",
   "execution_count": null,
   "id": "055c17f8-3898-4840-a812-f7066a1bcc0b",
   "metadata": {},
   "outputs": [],
   "source": [
    "urlqc = CameraQC('https://ibl.flatironinstitute.org/mainenlab/Subjects/ZFM-06296/2023-07-13/001/', 'left', one=one)"
   ]
  },
  {
   "cell_type": "code",
   "execution_count": null,
   "id": "7bb14427-9a64-4c49-b774-af41f1d70ea2",
   "metadata": {},
   "outputs": [
    {
     "name": "stdout",
     "output_type": "stream",
     "text": [
      "\u001b[36m2025-01-23 17:22:57 INFO     camera.py:399  Computing QC outcome for left camera, session d77dd225-f7a9-4d01-996b-82c3ae73d56c\u001b[0m\n",
      "\u001b[36m2025-01-23 17:22:57 INFO     camera.py:203  Gathering data for QC\u001b[0m\n",
      "\u001b[1;33m2025-01-23 17:22:57 WARNING  raw_data_loaders.py:97   No data loaded: could not find raw data file\u001b[0m\n",
      "\u001b[1;33m2025-01-23 17:22:57 WARNING  raw_data_loaders.py:97   No data loaded: could not find raw data file\u001b[0m\n"
     ]
    },
    {
     "ename": "TypeError",
     "evalue": "'NoneType' object is not iterable",
     "output_type": "error",
     "traceback": [
      "\u001b[0;31m---------------------------------------------------------------------------\u001b[0m",
      "\u001b[0;31mTypeError\u001b[0m                                 Traceback (most recent call last)",
      "Cell \u001b[0;32mIn[31], line 1\u001b[0m\n\u001b[0;32m----> 1\u001b[0m \u001b[43murlqc\u001b[49m\u001b[38;5;241;43m.\u001b[39;49m\u001b[43mrun\u001b[49m\u001b[43m(\u001b[49m\u001b[43m)\u001b[49m\n",
      "File \u001b[0;32m~/miniconda3/envs/iblenv_e/lib/python3.10/site-packages/ibllib/qc/camera.py:402\u001b[0m, in \u001b[0;36mCameraQC.run\u001b[0;34m(self, update, **kwargs)\u001b[0m\n\u001b[1;32m    400\u001b[0m namespace \u001b[38;5;241m=\u001b[39m \u001b[38;5;124mf\u001b[39m\u001b[38;5;124m'\u001b[39m\u001b[38;5;124mvideo\u001b[39m\u001b[38;5;132;01m{\u001b[39;00m\u001b[38;5;28mself\u001b[39m\u001b[38;5;241m.\u001b[39mlabel\u001b[38;5;241m.\u001b[39mcapitalize()\u001b[38;5;132;01m}\u001b[39;00m\u001b[38;5;124m'\u001b[39m\n\u001b[1;32m    401\u001b[0m \u001b[38;5;28;01mif\u001b[39;00m \u001b[38;5;28mall\u001b[39m(x \u001b[38;5;129;01mis\u001b[39;00m \u001b[38;5;28;01mNone\u001b[39;00m \u001b[38;5;28;01mfor\u001b[39;00m x \u001b[38;5;129;01min\u001b[39;00m \u001b[38;5;28mself\u001b[39m\u001b[38;5;241m.\u001b[39mdata\u001b[38;5;241m.\u001b[39mvalues()):\n\u001b[0;32m--> 402\u001b[0m     \u001b[38;5;28;43mself\u001b[39;49m\u001b[38;5;241;43m.\u001b[39;49m\u001b[43mload_data\u001b[49m\u001b[43m(\u001b[49m\u001b[38;5;241;43m*\u001b[39;49m\u001b[38;5;241;43m*\u001b[39;49m\u001b[43mkwargs\u001b[49m\u001b[43m)\u001b[49m\n\u001b[1;32m    403\u001b[0m \u001b[38;5;28;01mif\u001b[39;00m \u001b[38;5;28mself\u001b[39m\u001b[38;5;241m.\u001b[39mdata[\u001b[38;5;124m'\u001b[39m\u001b[38;5;124mframe_samples\u001b[39m\u001b[38;5;124m'\u001b[39m] \u001b[38;5;129;01mis\u001b[39;00m \u001b[38;5;28;01mNone\u001b[39;00m \u001b[38;5;129;01mor\u001b[39;00m \u001b[38;5;28mself\u001b[39m\u001b[38;5;241m.\u001b[39mdata[\u001b[38;5;124m'\u001b[39m\u001b[38;5;124mtimestamps\u001b[39m\u001b[38;5;124m'\u001b[39m] \u001b[38;5;129;01mis\u001b[39;00m \u001b[38;5;28;01mNone\u001b[39;00m:\n\u001b[1;32m    404\u001b[0m     \u001b[38;5;28;01mreturn\u001b[39;00m spec\u001b[38;5;241m.\u001b[39mQC\u001b[38;5;241m.\u001b[39mNOT_SET, {}\n",
      "File \u001b[0;32m~/miniconda3/envs/iblenv_e/lib/python3.10/site-packages/ibllib/qc/camera.py:235\u001b[0m, in \u001b[0;36mCameraQC.load_data\u001b[0;34m(self, extract_times, load_video)\u001b[0m\n\u001b[1;32m    233\u001b[0m     \u001b[38;5;28mself\u001b[39m\u001b[38;5;241m.\u001b[39msync_collection \u001b[38;5;241m=\u001b[39m \u001b[38;5;28mself\u001b[39m\u001b[38;5;241m.\u001b[39msync_collection \u001b[38;5;129;01mor\u001b[39;00m task_collection\n\u001b[1;32m    234\u001b[0m     bpod_data \u001b[38;5;241m=\u001b[39m raw\u001b[38;5;241m.\u001b[39mload_data(\u001b[38;5;28mself\u001b[39m\u001b[38;5;241m.\u001b[39msession_path, task_collection)\n\u001b[0;32m--> 235\u001b[0m     _, audio_ttls \u001b[38;5;241m=\u001b[39m \u001b[43mraw\u001b[49m\u001b[38;5;241;43m.\u001b[39;49m\u001b[43mload_bpod_fronts\u001b[49m\u001b[43m(\u001b[49m\n\u001b[1;32m    236\u001b[0m \u001b[43m        \u001b[49m\u001b[38;5;28;43mself\u001b[39;49m\u001b[38;5;241;43m.\u001b[39;49m\u001b[43msession_path\u001b[49m\u001b[43m,\u001b[49m\u001b[43m \u001b[49m\u001b[43mdata\u001b[49m\u001b[38;5;241;43m=\u001b[39;49m\u001b[43mbpod_data\u001b[49m\u001b[43m,\u001b[49m\u001b[43m \u001b[49m\u001b[43mtask_collection\u001b[49m\u001b[38;5;241;43m=\u001b[39;49m\u001b[43mtask_collection\u001b[49m\u001b[43m)\u001b[49m\n\u001b[1;32m    237\u001b[0m     \u001b[38;5;28mself\u001b[39m\u001b[38;5;241m.\u001b[39mdata[\u001b[38;5;124m'\u001b[39m\u001b[38;5;124maudio\u001b[39m\u001b[38;5;124m'\u001b[39m] \u001b[38;5;241m=\u001b[39m audio_ttls[\u001b[38;5;124m'\u001b[39m\u001b[38;5;124mtimes\u001b[39m\u001b[38;5;124m'\u001b[39m]\n\u001b[1;32m    239\u001b[0m \u001b[38;5;66;03m# Load extracted frame times\u001b[39;00m\n",
      "File \u001b[0;32m~/miniconda3/envs/iblenv_e/lib/python3.10/site-packages/ibllib/io/raw_data_loaders.py:799\u001b[0m, in \u001b[0;36mload_bpod_fronts\u001b[0;34m(session_path, data, task_collection)\u001b[0m\n\u001b[1;32m    797\u001b[0m BNC1_fronts \u001b[38;5;241m=\u001b[39m np\u001b[38;5;241m.\u001b[39marray([[np\u001b[38;5;241m.\u001b[39mnan, np\u001b[38;5;241m.\u001b[39mnan]])\n\u001b[1;32m    798\u001b[0m BNC2_fronts \u001b[38;5;241m=\u001b[39m np\u001b[38;5;241m.\u001b[39marray([[np\u001b[38;5;241m.\u001b[39mnan, np\u001b[38;5;241m.\u001b[39mnan]])\n\u001b[0;32m--> 799\u001b[0m \u001b[38;5;28;01mfor\u001b[39;00m tr \u001b[38;5;129;01min\u001b[39;00m data:\n\u001b[1;32m    800\u001b[0m     BNC1_fronts \u001b[38;5;241m=\u001b[39m np\u001b[38;5;241m.\u001b[39mappend(\n\u001b[1;32m    801\u001b[0m         BNC1_fronts,\n\u001b[1;32m    802\u001b[0m         np\u001b[38;5;241m.\u001b[39marray(\n\u001b[0;32m   (...)\u001b[0m\n\u001b[1;32m    808\u001b[0m         axis\u001b[38;5;241m=\u001b[39m\u001b[38;5;241m0\u001b[39m,\n\u001b[1;32m    809\u001b[0m     )\n\u001b[1;32m    810\u001b[0m     BNC1_fronts \u001b[38;5;241m=\u001b[39m np\u001b[38;5;241m.\u001b[39mappend(\n\u001b[1;32m    811\u001b[0m         BNC1_fronts,\n\u001b[1;32m    812\u001b[0m         np\u001b[38;5;241m.\u001b[39marray(\n\u001b[0;32m   (...)\u001b[0m\n\u001b[1;32m    818\u001b[0m         axis\u001b[38;5;241m=\u001b[39m\u001b[38;5;241m0\u001b[39m,\n\u001b[1;32m    819\u001b[0m     )\n",
      "\u001b[0;31mTypeError\u001b[0m: 'NoneType' object is not iterable"
     ]
    },
    {
     "name": "stdout",
     "output_type": "stream",
     "text": [
      "> \u001b[0;32m/home/crombie/miniconda3/envs/iblenv_e/lib/python3.10/site-packages/ibllib/io/raw_data_loaders.py\u001b[0m(799)\u001b[0;36mload_bpod_fronts\u001b[0;34m()\u001b[0m\n",
      "\u001b[0;32m    797 \u001b[0;31m    \u001b[0mBNC1_fronts\u001b[0m \u001b[0;34m=\u001b[0m \u001b[0mnp\u001b[0m\u001b[0;34m.\u001b[0m\u001b[0marray\u001b[0m\u001b[0;34m(\u001b[0m\u001b[0;34m[\u001b[0m\u001b[0;34m[\u001b[0m\u001b[0mnp\u001b[0m\u001b[0;34m.\u001b[0m\u001b[0mnan\u001b[0m\u001b[0;34m,\u001b[0m \u001b[0mnp\u001b[0m\u001b[0;34m.\u001b[0m\u001b[0mnan\u001b[0m\u001b[0;34m]\u001b[0m\u001b[0;34m]\u001b[0m\u001b[0;34m)\u001b[0m\u001b[0;34m\u001b[0m\u001b[0;34m\u001b[0m\u001b[0m\n",
      "\u001b[0m\u001b[0;32m    798 \u001b[0;31m    \u001b[0mBNC2_fronts\u001b[0m \u001b[0;34m=\u001b[0m \u001b[0mnp\u001b[0m\u001b[0;34m.\u001b[0m\u001b[0marray\u001b[0m\u001b[0;34m(\u001b[0m\u001b[0;34m[\u001b[0m\u001b[0;34m[\u001b[0m\u001b[0mnp\u001b[0m\u001b[0;34m.\u001b[0m\u001b[0mnan\u001b[0m\u001b[0;34m,\u001b[0m \u001b[0mnp\u001b[0m\u001b[0;34m.\u001b[0m\u001b[0mnan\u001b[0m\u001b[0;34m]\u001b[0m\u001b[0;34m]\u001b[0m\u001b[0;34m)\u001b[0m\u001b[0;34m\u001b[0m\u001b[0;34m\u001b[0m\u001b[0m\n",
      "\u001b[0m\u001b[0;32m--> 799 \u001b[0;31m    \u001b[0;32mfor\u001b[0m \u001b[0mtr\u001b[0m \u001b[0;32min\u001b[0m \u001b[0mdata\u001b[0m\u001b[0;34m:\u001b[0m\u001b[0;34m\u001b[0m\u001b[0;34m\u001b[0m\u001b[0m\n",
      "\u001b[0m\u001b[0;32m    800 \u001b[0;31m        BNC1_fronts = np.append(\n",
      "\u001b[0m\u001b[0;32m    801 \u001b[0;31m            \u001b[0mBNC1_fronts\u001b[0m\u001b[0;34m,\u001b[0m\u001b[0;34m\u001b[0m\u001b[0;34m\u001b[0m\u001b[0m\n",
      "\u001b[0m\n"
     ]
    },
    {
     "name": "stdout",
     "output_type": "stream",
     "text": [
      "ipdb>  c\n"
     ]
    }
   ],
   "source": [
    "urlqc.run()"
   ]
  },
  {
   "cell_type": "code",
   "execution_count": null,
   "id": "7bec746a-d419-4160-965c-6e6c2f63d58c",
   "metadata": {},
   "outputs": [
    {
     "data": {
      "text/plain": [
       "PosixPath('https:/ibl.flatironinstitute.org/mainenlab/Subjects/ZFM-06296/2023-07-13/001')"
      ]
     },
     "execution_count": 32,
     "metadata": {},
     "output_type": "execute_result"
    }
   ],
   "source": [
    "urlqc.session_path"
   ]
  },
  {
   "cell_type": "code",
   "execution_count": null,
   "id": "a9b2a7c7-dddf-44ae-bc78-dca7b074b0f8",
   "metadata": {},
   "outputs": [
    {
     "data": {
      "text/plain": [
       "'d77dd225-f7a9-4d01-996b-82c3ae73d56c'"
      ]
     },
     "execution_count": 33,
     "metadata": {},
     "output_type": "execute_result"
    }
   ],
   "source": [
    "urlqc.eid"
   ]
  },
  {
   "cell_type": "code",
   "execution_count": null,
   "id": "0af75735-a873-49bc-bd2a-081dfff4a6d8",
   "metadata": {},
   "outputs": [
    {
     "data": {
      "text/plain": [
       "'d77dd225-f7a9-4d01-996b-82c3ae73d56c'"
      ]
     },
     "execution_count": 34,
     "metadata": {},
     "output_type": "execute_result"
    }
   ],
   "source": [
    "eid"
   ]
  },
  {
   "cell_type": "code",
   "execution_count": null,
   "id": "bb369a44",
   "metadata": {},
   "outputs": [],
   "source": []
  }
 ],
 "metadata": {
  "kernelspec": {
   "display_name": "iblenv",
   "language": "python",
   "name": "python3"
  },
  "language_info": {
   "codemirror_mode": {
    "name": "ipython",
    "version": 3
   },
   "file_extension": ".py",
   "mimetype": "text/x-python",
   "name": "python",
   "nbconvert_exporter": "python",
   "pygments_lexer": "ipython3",
   "version": "3.10.18"
  }
 },
 "nbformat": 4,
 "nbformat_minor": 5
}
